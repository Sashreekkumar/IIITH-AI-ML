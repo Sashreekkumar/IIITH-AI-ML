{
  "cells": [
    {
      "cell_type": "markdown",
      "metadata": {
        "id": "3Eu9VZbF01eq"
      },
      "source": [
        "# Machine Learning terms and metrics\n",
        "\n",
        "Module 1, Lab 2\n",
        "\n",
        "In this lab, we will show a part of the ML pipeline by using the California Housing dataset. There are 20640 samples, each with 8 attributes like income of the block, age of the houses per district etc. The task is to predict the cost of the houses per district. We will use the scikit-learn library to load the data and perform some basic data preprocessing and model training. We will also show how to evaluate the model using some common metrics, split the data into training and testing sets, and use cross-validation to get a better estimate of the model's performance."
      ]
    },
    {
      "cell_type": "code",
      "execution_count": 24,
      "metadata": {
        "id": "8qBvyEem0vLi"
      },
      "outputs": [],
      "source": [
        "import numpy as np\n",
        "from sklearn import datasets\n",
        "import matplotlib.pyplot as plt\n",
        "\n",
        "rng = np.random.default_rng(seed=42)"
      ]
    },
    {
      "cell_type": "code",
      "execution_count": 25,
      "metadata": {
        "colab": {
          "base_uri": "https://localhost:8080/"
        },
        "id": "8LpqjN991GGJ",
        "outputId": "9cae9ac0-8ccc-4291-8d2a-9298bf2c1565",
        "collapsed": true
      },
      "outputs": [
        {
          "output_type": "stream",
          "name": "stdout",
          "text": [
            ".. _california_housing_dataset:\n",
            "\n",
            "California Housing dataset\n",
            "--------------------------\n",
            "\n",
            "**Data Set Characteristics:**\n",
            "\n",
            ":Number of Instances: 20640\n",
            "\n",
            ":Number of Attributes: 8 numeric, predictive attributes and the target\n",
            "\n",
            ":Attribute Information:\n",
            "    - MedInc        median income in block group\n",
            "    - HouseAge      median house age in block group\n",
            "    - AveRooms      average number of rooms per household\n",
            "    - AveBedrms     average number of bedrooms per household\n",
            "    - Population    block group population\n",
            "    - AveOccup      average number of household members\n",
            "    - Latitude      block group latitude\n",
            "    - Longitude     block group longitude\n",
            "\n",
            ":Missing Attribute Values: None\n",
            "\n",
            "This dataset was obtained from the StatLib repository.\n",
            "https://www.dcc.fc.up.pt/~ltorgo/Regression/cal_housing.html\n",
            "\n",
            "The target variable is the median house value for California districts,\n",
            "expressed in hundreds of thousands of dollars ($100,000).\n",
            "\n",
            "This dataset was derived from the 1990 U.S. census, using one row per census\n",
            "block group. A block group is the smallest geographical unit for which the U.S.\n",
            "Census Bureau publishes sample data (a block group typically has a population\n",
            "of 600 to 3,000 people).\n",
            "\n",
            "A household is a group of people residing within a home. Since the average\n",
            "number of rooms and bedrooms in this dataset are provided per household, these\n",
            "columns may take surprisingly large values for block groups with few households\n",
            "and many empty houses, such as vacation resorts.\n",
            "\n",
            "It can be downloaded/loaded using the\n",
            ":func:`sklearn.datasets.fetch_california_housing` function.\n",
            "\n",
            ".. rubric:: References\n",
            "\n",
            "- Pace, R. Kelley and Ronald Barry, Sparse Spatial Autoregressions,\n",
            "  Statistics and Probability Letters, 33 (1997) 291-297\n",
            "\n"
          ]
        }
      ],
      "source": [
        "dataset = datasets.fetch_california_housing()\n",
        "# Dataset description\n",
        "print(dataset.DESCR)"
      ]
    },
    {
      "cell_type": "markdown",
      "metadata": {
        "id": "PCe1VNftevgE"
      },
      "source": [
        "Given below are the list of target values. These correspond to the house value derived considering all the 8 input features and are continuous values. We should use regression models to predict these values but we will start with a simple classification model for the sake of simplicity. We need to just round off the values to the nearest integer and use a classification model to predict the house value."
      ]
    },
    {
      "cell_type": "code",
      "execution_count": 26,
      "metadata": {
        "colab": {
          "base_uri": "https://localhost:8080/"
        },
        "id": "F8K0ggBOevgE",
        "outputId": "7faa4a8b-6208-475b-c0ce-0a24e3c360f2"
      },
      "outputs": [
        {
          "output_type": "stream",
          "name": "stdout",
          "text": [
            "Orignal target values: [4.526 3.585 3.521 ... 0.923 0.847 0.894]\n",
            "Target values after conversion: [4 3 3 ... 0 0 0]\n",
            "Input variables shape: (20640, 8)\n",
            "Output variables shape: (20640,)\n"
          ]
        }
      ],
      "source": [
        "print(\"Orignal target values:\", dataset.target)\n",
        "\n",
        "dataset.target = dataset.target.astype(int)\n",
        "\n",
        "print(\"Target values after conversion:\", dataset.target)\n",
        "print(\"Input variables shape:\", dataset.data.shape)\n",
        "print(\"Output variables shape:\", dataset.target.shape)"
      ]
    },
    {
      "cell_type": "markdown",
      "metadata": {
        "id": "iNx4174W5xRg"
      },
      "source": [
        "The simplest model to use for classification is the K-Nearest Neighbors model. We will use this model to predict the house value with a K value of 1. We will also use the accuracy metric to evaluate the model."
      ]
    },
    {
      "cell_type": "code",
      "execution_count": 27,
      "metadata": {
        "id": "07zpydQj1hIQ"
      },
      "outputs": [],
      "source": [
        "def NN1(traindata, trainlabel, query):\n",
        "    \"\"\"\n",
        "    This function takes in the training data, training labels and a query point\n",
        "    and returns the predicted label for the query point using the nearest neighbour algorithm\n",
        "\n",
        "    traindata: numpy array of shape (n,d) where n is the number of samples and d is the number of features\n",
        "    trainlabel: numpy array of shape (n,) where n is the number of samples\n",
        "    query: numpy array of shape (d,) where d is the number of features\n",
        "\n",
        "    returns: the predicted label for the query point which is the label of the training data which is closest to the query point\n",
        "    \"\"\"\n",
        "    diff = (\n",
        "        traindata - query\n",
        "    )  # find the difference between features. Numpy automatically takes care of the size here\n",
        "    sq = diff * diff  # square the differences\n",
        "    dist = sq.sum(1)  # add up the squares\n",
        "    label = trainlabel[np.argmin(dist)]\n",
        "    return label\n",
        "\n",
        "\n",
        "def NN(traindata, trainlabel, testdata):\n",
        "    \"\"\"\n",
        "    This function takes in the training data, training labels and test data\n",
        "    and returns the predicted labels for the test data using the nearest neighbour algorithm\n",
        "\n",
        "    traindata: numpy array of shape (n,d) where n is the number of samples and d is the number of features\n",
        "    trainlabel: numpy array of shape (n,) where n is the number of samples\n",
        "    testdata: numpy array of shape (m,d) where m is the number of test samples and d is the number of features\n",
        "\n",
        "    returns: the predicted labels for the test data which is the label of the training data which is closest to each test point\n",
        "    \"\"\"\n",
        "    predlabel = np.array([NN1(traindata, trainlabel, i) for i in testdata])\n",
        "    return predlabel"
      ]
    },
    {
      "cell_type": "markdown",
      "metadata": {
        "id": "03JktkfIGaje"
      },
      "source": [
        "We will also define a 'random classifier', which randomly allots labels to each sample"
      ]
    },
    {
      "cell_type": "code",
      "execution_count": 28,
      "metadata": {
        "id": "fogWAtjyGhAH"
      },
      "outputs": [],
      "source": [
        "def RandomClassifier(traindata, trainlabel, testdata):\n",
        "    \"\"\"\n",
        "    This function takes in the training data, training labels and test data\n",
        "    and returns the predicted labels for the test data using the random classifier algorithm\n",
        "\n",
        "    In reality, we don't need these arguments but we are passing them to keep the function signature consistent with other classifiers\n",
        "\n",
        "    traindata: numpy array of shape (n,d) where n is the number of samples and d is the number of features\n",
        "    trainlabel: numpy array of shape (n,) where n is the number of samples\n",
        "    testdata: numpy array of shape (m,d) where m is the number of test samples and d is the number of features\n",
        "\n",
        "    returns: the predicted labels for the test data which is a random label from the training data\n",
        "    \"\"\"\n",
        "\n",
        "    classes = np.unique(trainlabel)\n",
        "    rints = rng.integers(low=0, high=len(classes), size=len(testdata))\n",
        "    predlabel = classes[rints]\n",
        "    print(classes)\n",
        "    return predlabel\n"
      ]
    },
    {
      "cell_type": "markdown",
      "metadata": {
        "id": "1Hjf1KHs7fU5"
      },
      "source": [
        "We need a metric to evaluate the performance of the model. Let us define a metric 'Accuracy' to see how good our learning algorithm is. Accuracy is the ratio of the number of correctly classified samples to the total number of samples. The higher the accuracy, the better the algorithm. We will use the accuracy metric to evaluate and compate the performance of the K-Nearest Neighbors model and the random classifier."
      ]
    },
    {
      "cell_type": "code",
      "execution_count": 29,
      "metadata": {
        "id": "ouuCqWU07bz-"
      },
      "outputs": [],
      "source": [
        "def Accuracy(gtlabel, predlabel):\n",
        "    \"\"\"\n",
        "    This function takes in the ground-truth labels and predicted labels\n",
        "    and returns the accuracy of the classifier\n",
        "\n",
        "    gtlabel: numpy array of shape (n,) where n is the number of samples\n",
        "    predlabel: numpy array of shape (n,) where n is the number of samples\n",
        "\n",
        "    returns: the accuracy of the classifier which is the number of correct predictions divided by the total number of predictions\n",
        "    \"\"\"\n",
        "    assert len(gtlabel) == len(\n",
        "        predlabel\n",
        "    ), \"Length of the ground-truth labels and predicted labels should be the same\"\n",
        "    correct = (\n",
        "        gtlabel == predlabel\n",
        "    ).sum()  # count the number of times the groundtruth label is equal to the predicted label.\n",
        "    return correct / len(gtlabel)"
      ]
    },
    {
      "cell_type": "markdown",
      "metadata": {
        "id": "4vJFwBFa9Klw"
      },
      "source": [
        "Let us make a function to split the dataset with the desired probability. We will use this function to split the dataset into training and testing sets. We will use the training set to train the model and the testing set to evaluate the model."
      ]
    },
    {
      "cell_type": "code",
      "execution_count": 30,
      "metadata": {
        "id": "Ko0VzpSM2Tdi"
      },
      "outputs": [],
      "source": [
        "def split(data, label, percent):\n",
        "    # generate a random number for each sample\n",
        "    rnd = rng.random(len(label))\n",
        "    split1 = rnd < percent\n",
        "    split2 = rnd >= percent\n",
        "\n",
        "    split1data = data[split1, :]\n",
        "    split1label = label[split1]\n",
        "    split2data = data[split2, :]\n",
        "    split2label = label[split2]\n",
        "    return split1data, split1label, split2data, split2label"
      ]
    },
    {
      "cell_type": "markdown",
      "metadata": {
        "id": "AcK3LEAJ_LGC"
      },
      "source": [
        "We will reserve 20% of our dataset as the test set. We will not change this portion throughout our experiments"
      ]
    },
    {
      "cell_type": "code",
      "execution_count": 31,
      "metadata": {
        "colab": {
          "base_uri": "https://localhost:8080/"
        },
        "id": "bBZkHBLJ1iU-",
        "outputId": "79407f30-7141-439d-8dd4-d59f25df66fe"
      },
      "outputs": [
        {
          "output_type": "stream",
          "name": "stdout",
          "text": [
            "Number of test samples: 4144\n",
            "Number of train samples: 16496\n",
            "Percent of test data: 20.07751937984496 %\n"
          ]
        }
      ],
      "source": [
        "testdata, testlabel, alltraindata, alltrainlabel = split(\n",
        "    dataset.data, dataset.target, 20 / 100\n",
        ")\n",
        "print(\"Number of test samples:\", len(testlabel))\n",
        "print(\"Number of train samples:\", len(alltrainlabel))\n",
        "print(\"Percent of test data:\", len(testlabel) * 100 / len(dataset.target), \"%\")"
      ]
    },
    {
      "cell_type": "markdown",
      "metadata": {
        "id": "a6Ss0Z6IAGNV"
      },
      "source": [
        "## Experiments with splits\n",
        "\n",
        "Let us reserve some of our train data as a validation set"
      ]
    },
    {
      "cell_type": "code",
      "execution_count": 32,
      "metadata": {
        "id": "WFew2iry_7W7"
      },
      "outputs": [],
      "source": [
        "traindata, trainlabel, valdata, vallabel = split(\n",
        "    alltraindata, alltrainlabel, 75 / 100)"
      ]
    },
    {
      "cell_type": "markdown",
      "metadata": {
        "id": "60hiu4clFN1i"
      },
      "source": [
        "What is the accuracy of our classifiers on the train dataset?"
      ]
    },
    {
      "cell_type": "code",
      "execution_count": 33,
      "metadata": {
        "colab": {
          "base_uri": "https://localhost:8080/"
        },
        "id": "DBlZDTHUFTZx",
        "outputId": "7133006f-2165-4315-d528-f3c7ff0e57ac"
      },
      "outputs": [
        {
          "output_type": "stream",
          "name": "stdout",
          "text": [
            "Training accuracy using nearest neighbour algorithm: 100.0 %\n",
            "[0 1 2 3 4 5]\n",
            "Training accuracy using random classifier:  16.4375808538163 %\n"
          ]
        }
      ],
      "source": [
        "trainpred = NN(traindata, trainlabel, traindata)\n",
        "trainAccuracy = Accuracy(trainlabel, trainpred)\n",
        "print(\"Training accuracy using nearest neighbour algorithm:\", trainAccuracy*100, \"%\")\n",
        "\n",
        "trainpred = RandomClassifier(traindata, trainlabel, traindata)\n",
        "trainAccuracy = Accuracy(trainlabel, trainpred)\n",
        "print(\"Training accuracy using random classifier: \", trainAccuracy*100, \"%\")"
      ]
    },
    {
      "cell_type": "markdown",
      "metadata": {
        "id": "7h08-9gJDtSy"
      },
      "source": [
        "For nearest neighbour, the train accuracy is always 1. The accuracy of the random classifier is close to 1/(number of classes) which is 0.1666 in our case. This is because the random classifier randomly assigns a label to each sample and the probability of assigning the correct label is 1/(number of classes). Let us predict the labels for our validation set and get the accuracy. This accuracy is a good estimate of the accuracy of our model on unseen data."
      ]
    },
    {
      "cell_type": "code",
      "execution_count": 34,
      "metadata": {
        "colab": {
          "base_uri": "https://localhost:8080/"
        },
        "id": "4h7bXoW_2H3v",
        "outputId": "8fd25326-9f25-4d74-cf8e-5cdbd3ca9f8f"
      },
      "outputs": [
        {
          "output_type": "stream",
          "name": "stdout",
          "text": [
            "Validation accuracy using nearest neighbour algorithm: 34.10852713178294 %\n",
            "[0 1 2 3 4 5]\n",
            "Validation accuracy using random classifier: 16.884689922480618 %\n"
          ]
        }
      ],
      "source": [
        "valpred = NN(traindata, trainlabel, valdata)\n",
        "valAccuracy = Accuracy(vallabel, valpred)\n",
        "print(\"Validation accuracy using nearest neighbour algorithm:\", valAccuracy*100, \"%\")\n",
        "\n",
        "\n",
        "valpred = RandomClassifier(traindata, trainlabel, valdata)\n",
        "valAccuracy = Accuracy(vallabel, valpred)\n",
        "print(\"Validation accuracy using random classifier:\", valAccuracy*100, \"%\")"
      ]
    },
    {
      "cell_type": "markdown",
      "metadata": {
        "id": "py9bLguFEjfg"
      },
      "source": [
        "Validation accuracy of nearest neighbour is considerably less than its train accuracy while the validation accuracy of random classifier is the same. However, the validation accuracy of nearest neighbour is twice that of the random classifier. Now let us try another random split and check the validation accuracy. We will see that the validation accuracy changes with the split. This is because the validation set is small and the accuracy is highly dependent on the samples in the validation set. We can get a better estimate of the accuracy by using cross-validation."
      ]
    },
    {
      "cell_type": "code",
      "execution_count": 35,
      "metadata": {
        "colab": {
          "base_uri": "https://localhost:8080/"
        },
        "id": "ujm3cyYzEntE",
        "outputId": "04c588c1-325c-4869-bae6-735ee7831eec"
      },
      "outputs": [
        {
          "output_type": "stream",
          "name": "stdout",
          "text": [
            "Validation accuracy using nearest neighbour algorithm: 34.048257372654156 %\n"
          ]
        }
      ],
      "source": [
        "traindata, trainlabel, valdata, vallabel = split(\n",
        "    alltraindata, alltrainlabel, 75 / 100)\n",
        "valpred = NN(traindata, trainlabel, valdata)\n",
        "valAccuracy = Accuracy(vallabel, valpred)\n",
        "print(\"Validation accuracy using nearest neighbour algorithm:\", valAccuracy*100, \"%\")"
      ]
    },
    {
      "cell_type": "markdown",
      "metadata": {
        "id": "oSOx7U83EKie"
      },
      "source": [
        "You can run the above cell multiple times to try with different random splits.\n",
        "We notice that the accuracy is different for each run, but close together.\n",
        "\n",
        "Now let us compare it with the accuracy we get on the test dataset."
      ]
    },
    {
      "cell_type": "code",
      "execution_count": 36,
      "metadata": {
        "colab": {
          "base_uri": "https://localhost:8080/"
        },
        "id": "PNEZ5ToYBEDW",
        "outputId": "72d6298f-d850-48d8-f826-c2a11e7b7a5f"
      },
      "outputs": [
        {
          "output_type": "stream",
          "name": "stdout",
          "text": [
            "Test accuracy: 34.91795366795367 %\n"
          ]
        }
      ],
      "source": [
        "testpred = NN(alltraindata, alltrainlabel, testdata)\n",
        "testAccuracy = Accuracy(testlabel, testpred)\n",
        "\n",
        "print(\"Test accuracy:\", testAccuracy*100, \"%\")"
      ]
    },
    {
      "cell_type": "markdown",
      "metadata": {
        "id": "w3dGD531K3gH"
      },
      "source": [
        "### Try it out for yourself and answer:\n",
        "1. How is the accuracy of the validation set affected if we increase the percentage of validation set? What happens when we reduce it?\n",
        "2. How does the size of the train and validation set affect how well we can predict the accuracy on the test set using the validation set?\n",
        "3. What do you think is a good percentage to reserve for the validation set so that thest two factors are balanced?\n",
        "\n",
        "Answer for both nearest neighbour and random classifier. You can note down the values for your experiments and plot a graph using  <a href=https://matplotlib.org/stable/gallery/lines_bars_and_markers/step_demo.html#sphx-glr-gallery-lines-bars-and-markers-step-demo-py>plt.plot<href>. Check also for extreme values for splits, like 99.9% or 0.1%"
      ]
    },
    {
      "cell_type": "markdown",
      "source": [
        "## Answer 1\n",
        "\n",
        "Increasing the validation set size usually reduces accuracy because the model is trained on less data, making it weaker.Decreasing validation set size may show higher accuracy, but it could be less reliable due to fewer and possibly biased samples.\n",
        "\n"
      ],
      "metadata": {
        "id": "qlB_bSf4JZnW"
      }
    },
    {
      "cell_type": "code",
      "source": [
        "for pct in [80, 75, 70]:  # 20%, 25%, 30% validation\n",
        "    traindata, trainlabel, valdata, vallabel = split(\n",
        "        alltraindata, alltrainlabel, pct / 100\n",
        "    )\n",
        "    valpred = NN(traindata, trainlabel, valdata)\n",
        "    valAccuracy = Accuracy(vallabel, valpred)\n",
        "    print(f\"Validation accuracy ({100 - pct}% validation set): {valAccuracy * 100} %\")\n"
      ],
      "metadata": {
        "colab": {
          "base_uri": "https://localhost:8080/"
        },
        "id": "XPG97vD6JbZZ",
        "outputId": "c3e02880-a20a-4847-cf38-27904c50a40b"
      },
      "execution_count": 37,
      "outputs": [
        {
          "output_type": "stream",
          "name": "stdout",
          "text": [
            "Validation accuracy (20% validation set): 34.17070217917676 %\n",
            "Validation accuracy (25% validation set): 33.40735257833703 %\n",
            "Validation accuracy (30% validation set): 33.66058906030855 %\n"
          ]
        }
      ]
    },
    {
      "cell_type": "markdown",
      "source": [
        "## Answer 2\n",
        "\n",
        "A larger training set helps the model learn better, improving generalization. A larger validation set gives a more reliable estimate of test performance, but only if training size remains sufficient. Best results come from a balanced split or cross-validation."
      ],
      "metadata": {
        "id": "ERnCGchBKn00"
      }
    },
    {
      "cell_type": "markdown",
      "source": [
        "## Answer 3\n",
        "\n",
        "Although the accuracy is high for 5% validation set, the overall accuracy of 36% is not reliable. Hence, we need a better model.\n",
        "\n",
        "In practice validation set is usually 20% of the training data set to avoid overfitting."
      ],
      "metadata": {
        "id": "BWIZIVxtKsJZ"
      }
    },
    {
      "cell_type": "code",
      "source": [
        "for pct in [95, 90, 85,80, 75, 70]:\n",
        "    traindata, trainlabel, valdata, vallabel = split(\n",
        "        alltraindata, alltrainlabel, pct / 100\n",
        "    )\n",
        "    valpred = NN(traindata, trainlabel, valdata)\n",
        "    valAccuracy = Accuracy(vallabel, valpred)\n",
        "    print(f\"Validation accuracy ({100 - pct}% validation set): {valAccuracy * 100} %\")"
      ],
      "metadata": {
        "colab": {
          "base_uri": "https://localhost:8080/"
        },
        "id": "m0w95yxOKt1E",
        "outputId": "f6432b4b-76f9-4294-94fd-da742d147a0f"
      },
      "execution_count": 38,
      "outputs": [
        {
          "output_type": "stream",
          "name": "stdout",
          "text": [
            "Validation accuracy (5% validation set): 33.96704689480355 %\n",
            "Validation accuracy (10% validation set): 32.59668508287293 %\n",
            "Validation accuracy (15% validation set): 32.8890631125049 %\n",
            "Validation accuracy (20% validation set): 34.130105900151285 %\n",
            "Validation accuracy (25% validation set): 33.49174587293647 %\n",
            "Validation accuracy (30% validation set): 33.145841703495385 %\n"
          ]
        }
      ]
    },
    {
      "cell_type": "markdown",
      "metadata": {
        "id": "M9zvdYY6evgI"
      },
      "source": [
        "> Exercise: Try to implement a 3 nearest neighbour classifier and compare the accuracy of the 1 nearest neighbour classifier and the 3 nearest neighbour classifier on the test dataset. You can use the KNeighborsClassifier class from the scikit-learn library to implement the K-Nearest Neighbors model. You can set the number of neighbors using the n_neighbors parameter. You can also use the accuracy_score function from the scikit-learn library to calculate the accuracy of the model."
      ]
    },
    {
      "cell_type": "markdown",
      "source": [
        "### Without Scikit Learn"
      ],
      "metadata": {
        "id": "IjY9_zDxM4Uj"
      }
    },
    {
      "cell_type": "code",
      "source": [
        "from collections import Counter\n",
        "\n",
        "def NN3(traindata, trainlabel, query):\n",
        "    diff = traindata - query\n",
        "    sq = diff * diff\n",
        "    dist = sq.sum(1)\n",
        "\n",
        "    # Get indices of 3 nearest neighbors\n",
        "    nearest_indices = np.argsort(dist)[:3]\n",
        "    nearest_labels = trainlabel[nearest_indices]\n",
        "\n",
        "    # Return the most common label\n",
        "    label_counts = Counter(nearest_labels)\n",
        "    return label_counts.most_common(1)[0][0]\n",
        "\n",
        "def NN3_pred(traindata, trainlabel, testdata):\n",
        "    predlabel = np.array([NN3(traindata, trainlabel, i) for i in testdata])\n",
        "    return predlabel\n",
        "\n",
        "## Validation dataset of 80%\n",
        "traindata, trainlabel, valdata, vallabel = split(\n",
        "    alltraindata, alltrainlabel, 80 / 100)\n",
        "valpred = NN3_pred(traindata, trainlabel, valdata)\n",
        "valAccuracy = Accuracy(vallabel, valpred)\n",
        "print(\"Validation accuracy using nearest neighbour algorithm:\", valAccuracy*100, \"%\")\n",
        "\n",
        "## Testing\n",
        "testpred = NN3_pred(alltraindata, alltrainlabel, testdata)\n",
        "testAccuracy = Accuracy(testlabel, testpred)\n",
        "\n",
        "print(\"Test accuracy:\", testAccuracy*100, \"%\")"
      ],
      "metadata": {
        "colab": {
          "base_uri": "https://localhost:8080/"
        },
        "id": "4d35IW3fLaR7",
        "outputId": "0649429a-e6c3-4d03-dc9f-fe43983b1b45"
      },
      "execution_count": 39,
      "outputs": [
        {
          "output_type": "stream",
          "name": "stdout",
          "text": [
            "Validation accuracy using nearest neighbour algorithm: 35.493732803424024 %\n",
            "Test accuracy: 36.486486486486484 %\n"
          ]
        }
      ]
    },
    {
      "cell_type": "markdown",
      "source": [
        "## With Scikit learn"
      ],
      "metadata": {
        "id": "KjCiRS6eM04j"
      }
    },
    {
      "cell_type": "code",
      "source": [
        "from sklearn.neighbors import KNeighborsClassifier\n",
        "from sklearn.metrics import accuracy_score\n",
        "\n",
        "# 1-NN model\n",
        "knn1 = KNeighborsClassifier(n_neighbors=1)\n",
        "knn1.fit(traindata, trainlabel)\n",
        "pred1 = knn1.predict(testdata)\n",
        "acc1 = accuracy_score(testlabel, pred1)\n",
        "\n",
        "# 3-NN model\n",
        "knn3 = KNeighborsClassifier(n_neighbors=3)\n",
        "knn3.fit(traindata, trainlabel)\n",
        "pred3 = knn3.predict(testdata)\n",
        "acc3 = accuracy_score(testlabel, pred3)\n",
        "\n",
        "# Print results\n",
        "print(f\"1-NN Test Accuracy: {acc1 * 100}%\")\n",
        "print(f\"3-NN Test Accuracy: {acc3 * 100}%\")\n"
      ],
      "metadata": {
        "colab": {
          "base_uri": "https://localhost:8080/"
        },
        "id": "HFKsLN8sM0kr",
        "outputId": "198c04ac-24a7-4e4d-b3f1-5f15abc00148"
      },
      "execution_count": 40,
      "outputs": [
        {
          "output_type": "stream",
          "name": "stdout",
          "text": [
            "1-NN Test Accuracy: 35.32818532818533%\n",
            "3-NN Test Accuracy: 36.076254826254825%\n"
          ]
        }
      ]
    },
    {
      "cell_type": "markdown",
      "metadata": {
        "id": "PnYvkAZLQY7h"
      },
      "source": [
        "## Multiple Splits\n",
        "\n",
        "One way to get more accurate estimates for the test accuracy is by using <b>cross-validation</b>. Here, we will try a simple version, where we do multiple train/val splits and take the average of validation accuracies as the test accuracy estimation. Here is a function for doing this. Note that this function will take a long time to execute. You can reduce the number of splits to make it faster."
      ]
    },
    {
      "cell_type": "code",
      "execution_count": 41,
      "metadata": {
        "id": "E4nGCUQXBTzo"
      },
      "outputs": [],
      "source": [
        "def AverageAccuracy(alldata, alllabel, splitpercent, iterations, classifier=NN):\n",
        "    \"\"\"\n",
        "    This function takes in the data, labels, split percentage, number of iterations and classifier function\n",
        "    and returns the average accuracy of the classifier\n",
        "\n",
        "    alldata: numpy array of shape (n,d) where n is the number of samples and d is the number of features\n",
        "    alllabel: numpy array of shape (n,) where n is the number of samples\n",
        "    splitpercent: float which is the percentage of data to be used for training\n",
        "    iterations: int which is the number of iterations to run the classifier\n",
        "    classifier: function which is the classifier function to be used\n",
        "\n",
        "    returns: the average accuracy of the classifier\n",
        "    \"\"\"\n",
        "    accuracy = 0\n",
        "    for ii in range(iterations):\n",
        "        traindata, trainlabel, valdata, vallabel = split(\n",
        "            alldata, alllabel, splitpercent\n",
        "        )\n",
        "        valpred = classifier(traindata, trainlabel, valdata)\n",
        "        accuracy += Accuracy(vallabel, valpred)\n",
        "    return accuracy / iterations  # average of all accuracies"
      ]
    },
    {
      "cell_type": "code",
      "execution_count": 42,
      "metadata": {
        "colab": {
          "base_uri": "https://localhost:8080/"
        },
        "id": "H3qtNar7Bbik",
        "outputId": "ad0d8e65-f6cf-4bfe-8e70-31cab59b6ae0"
      },
      "outputs": [
        {
          "output_type": "stream",
          "name": "stdout",
          "text": [
            "Average validation accuracy: 33.824843372875726 %\n",
            "Test accuracy: 34.91795366795367 %\n"
          ]
        }
      ],
      "source": [
        "avg_acc = AverageAccuracy(alltraindata, alltrainlabel, 75 / 100, 10, classifier=NN)\n",
        "print(\"Average validation accuracy:\", avg_acc*100, \"%\")\n",
        "testpred = NN(alltraindata, alltrainlabel, testdata)\n",
        "\n",
        "print(\"Test accuracy:\", Accuracy(testlabel, testpred)*100, \"%\")"
      ]
    },
    {
      "cell_type": "markdown",
      "metadata": {
        "id": "33GIn4x5VH-d"
      },
      "source": [
        "This is a very simple way of doing cross-validation. There are many well-known algorithms for cross-validation, like k-fold cross-validation, leave-one-out etc. This will be covered in detail in a later module. For more information about cross-validation, check <a href=https://en.wikipedia.org/wiki/Cross-validation_(statistics)>Cross-validatioin (Wikipedia)</a>\n",
        "\n",
        "### Questions\n",
        "1. Does averaging the validation accuracy across multiple splits give more consistent results?\n",
        "2. Does it give more accurate estimate of test accuracy?\n",
        "3. What is the effect of the number of iterations on the estimate? Do we get a better estimate with higher iterations?\n",
        "4. Consider the results you got for the previous questions. Can we deal with a very small train dataset or validation dataset by increasing the iterations?\n"
      ]
    },
    {
      "cell_type": "markdown",
      "source": [
        "## Answers"
      ],
      "metadata": {
        "id": "s2o5itCbOA1z"
      }
    },
    {
      "cell_type": "code",
      "source": [
        "split_percent = 0.8\n",
        "runs = 5\n",
        "\n",
        "def run_avg_acc(data, labels, splitpercent, iterations, runs=5, classifier=NN):\n",
        "    avg_accuracies = []\n",
        "    for _ in range(runs):\n",
        "        avg_acc = AverageAccuracy(data, labels, splitpercent, iterations, classifier)\n",
        "        avg_accuracies.append(avg_acc)\n",
        "    return np.array(avg_accuracies)\n",
        "\n",
        "for iterations in [1, 5, 10]:\n",
        "    results = run_avg_acc(alltraindata, alltrainlabel, split_percent, iterations, runs=5)\n",
        "    print(f\"Iterations: {iterations}\")\n",
        "    print(f\"Mean accuracy: {results.mean() * 100}%\")\n",
        "    print(\"Test accuracy:\", Accuracy(testlabel, testpred)*100, \"%\")\n",
        "    print(\"------------------\")"
      ],
      "metadata": {
        "colab": {
          "base_uri": "https://localhost:8080/"
        },
        "id": "sDcc0tCuOCU6",
        "outputId": "3cdd9582-622b-44ce-dfa9-b0b4a73156b1"
      },
      "execution_count": 43,
      "outputs": [
        {
          "output_type": "stream",
          "name": "stdout",
          "text": [
            "Iterations: 1\n",
            "Mean accuracy: 34.61078510412906%\n",
            "Test accuracy: 34.91795366795367 %\n",
            "------------------\n",
            "Iterations: 5\n",
            "Mean accuracy: 33.9310342596772%\n",
            "Test accuracy: 34.91795366795367 %\n",
            "------------------\n",
            "Iterations: 10\n",
            "Mean accuracy: 34.212859064730935%\n",
            "Test accuracy: 34.91795366795367 %\n",
            "------------------\n"
          ]
        }
      ]
    },
    {
      "cell_type": "markdown",
      "source": [
        "1. Averaging across multiple splits reduces the effect of randomness in a single split, leading to more stable and consistent validation accuracy.\n",
        "\n",
        "2. Yes, to an extent. The averaged validation accuracy tends to be closer to the true test accuracy compared to relying on just one split. But it's still just an estimate.\n",
        "\n",
        "3.  Yes. Increasing iterations generally gives a better (more reliable and stable) estimate of validation accuracy, as the influence of outlier splits is reduced.\n",
        "\n",
        "4. Partially. More iterations help average out variability from small datasets, but they cannot replace the need for enough data. Too little training data can still lead to poor generalization."
      ],
      "metadata": {
        "id": "pwQv2_GfKzxR"
      }
    },
    {
      "cell_type": "markdown",
      "metadata": {
        "id": "z-SBxy1qevgJ"
      },
      "source": [
        "> Exercise: How does the accuracy of the 3 nearest neighbour classifier change with the number of splits? How is it affected by the split size? Compare the results with the 1 nearest neighbour classifier."
      ]
    },
    {
      "cell_type": "code",
      "source": [
        "def knn_classifier(k):\n",
        "    def classifier(train_X, train_y, test_X):\n",
        "        knn = KNeighborsClassifier(n_neighbors=k)\n",
        "        knn.fit(train_X, train_y)\n",
        "        return knn.predict(test_X)\n",
        "    return classifier\n",
        "\n",
        "def test_knn_vary_split_size(data, labels, split_sizes, iterations=10):\n",
        "    print(\"Testing varying split sizes\")\n",
        "    for split_percent in split_sizes:\n",
        "        avg_acc_1nn = AverageAccuracy(data, labels, split_percent, iterations, classifier=knn1)\n",
        "        avg_acc_3nn = AverageAccuracy(data, labels, split_percent, iterations, classifier=knn3)\n",
        "        print(f\"Train split: {split_percent*100}% | 1-NN Acc: {avg_acc_1nn*100}% | 3-NN Acc: {avg_acc_3nn*100}%\")\n",
        "\n",
        "def test_knn_vary_iterations(data, labels, split_percent=0.75, max_iterations=20):\n",
        "    print(\"Testing varying number of splits (iterations)\")\n",
        "    for iter_count in range(1, max_iterations + 1):\n",
        "        avg_acc_1nn = AverageAccuracy(data, labels, split_percent, iter_count, classifier=knn1)\n",
        "        avg_acc_3nn = AverageAccuracy(data, labels, split_percent, iter_count, classifier=knn3)\n",
        "        print(f\"Iterations: {iter_count} | 1-NN Acc: {avg_acc_1nn*100}% | 3-NN Acc: {avg_acc_3nn*100}%\")\n",
        "\n",
        "knn1 = knn_classifier(1)\n",
        "knn3 = knn_classifier(3)\n",
        "\n",
        "split_sizes = [0.5, 0.6, 0.7, 0.8, 0.9]  # different train split percentages\n",
        "\n",
        "test_knn_vary_split_size(alltraindata, alltrainlabel, split_sizes, iterations=10)\n",
        "\n",
        "test_knn_vary_iterations(alltraindata, alltrainlabel, split_percent=0.75, max_iterations=15)"
      ],
      "metadata": {
        "colab": {
          "base_uri": "https://localhost:8080/"
        },
        "id": "xDLDzxpYK1Cr",
        "outputId": "07dcf245-6867-4b4f-957a-aafdec3cbebd"
      },
      "execution_count": 44,
      "outputs": [
        {
          "output_type": "stream",
          "name": "stdout",
          "text": [
            "Testing varying split sizes\n",
            "Train split: 50.0% | 1-NN Acc: 33.11520879896378% | 3-NN Acc: 33.5231473117317%\n",
            "Train split: 60.0% | 1-NN Acc: 33.46270761428339% | 3-NN Acc: 33.732593157113996%\n",
            "Train split: 70.0% | 1-NN Acc: 34.05485469320069% | 3-NN Acc: 34.13569703855108%\n",
            "Train split: 80.0% | 1-NN Acc: 34.05879972200539% | 3-NN Acc: 34.512866832557194%\n",
            "Train split: 90.0% | 1-NN Acc: 34.821679970092156% | 3-NN Acc: 35.08896611431536%\n",
            "Testing varying number of splits (iterations)\n",
            "Iterations: 1 | 1-NN Acc: 33.3252427184466% | 3-NN Acc: 34.4770468528159%\n",
            "Iterations: 2 | 1-NN Acc: 33.715454547617234% | 3-NN Acc: 34.22433884524892%\n",
            "Iterations: 3 | 1-NN Acc: 33.80109285223804% | 3-NN Acc: 34.400429162976145%\n",
            "Iterations: 4 | 1-NN Acc: 33.77580056576609% | 3-NN Acc: 34.57652985338263%\n",
            "Iterations: 5 | 1-NN Acc: 34.006659993209% | 3-NN Acc: 34.52918518214238%\n",
            "Iterations: 6 | 1-NN Acc: 34.234316474686665% | 3-NN Acc: 34.649794004066464%\n",
            "Iterations: 7 | 1-NN Acc: 34.232377801021755% | 3-NN Acc: 34.51390180254935%\n",
            "Iterations: 8 | 1-NN Acc: 33.81949027012475% | 3-NN Acc: 34.414496612874785%\n",
            "Iterations: 9 | 1-NN Acc: 34.121127586196295% | 3-NN Acc: 34.6153790263674%\n",
            "Iterations: 10 | 1-NN Acc: 33.69119775360462% | 3-NN Acc: 34.586790987731575%\n",
            "Iterations: 11 | 1-NN Acc: 34.20339989576064% | 3-NN Acc: 34.74737110895918%\n",
            "Iterations: 12 | 1-NN Acc: 34.383435530053916% | 3-NN Acc: 34.6145901953909%\n",
            "Iterations: 13 | 1-NN Acc: 34.26678219486084% | 3-NN Acc: 34.56762899073841%\n",
            "Iterations: 14 | 1-NN Acc: 33.91770513547306% | 3-NN Acc: 34.76185067498247%\n",
            "Iterations: 15 | 1-NN Acc: 34.020851143881124% | 3-NN Acc: 34.462804574350145%\n"
          ]
        }
      ]
    },
    {
      "cell_type": "code",
      "source": [],
      "metadata": {
        "id": "VehZ7D_0aWOA"
      },
      "execution_count": 44,
      "outputs": []
    }
  ],
  "metadata": {
    "colab": {
      "provenance": [],
      "collapsed_sections": [
        "a6Ss0Z6IAGNV",
        "qlB_bSf4JZnW",
        "BWIZIVxtKsJZ",
        "KjCiRS6eM04j"
      ],
      "toc_visible": true,
      "gpuType": "T4"
    },
    "kernelspec": {
      "display_name": "Python 3",
      "name": "python3"
    },
    "language_info": {
      "codemirror_mode": {
        "name": "ipython",
        "version": 3
      },
      "file_extension": ".py",
      "mimetype": "text/x-python",
      "name": "python",
      "nbconvert_exporter": "python",
      "pygments_lexer": "ipython3",
      "version": "3.10.10"
    },
    "accelerator": "GPU"
  },
  "nbformat": 4,
  "nbformat_minor": 0
}