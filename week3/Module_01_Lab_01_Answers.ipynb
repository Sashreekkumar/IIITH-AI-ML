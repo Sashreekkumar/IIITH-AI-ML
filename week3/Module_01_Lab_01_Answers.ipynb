{
  "nbformat": 4,
  "nbformat_minor": 0,
  "metadata": {
    "colab": {
      "provenance": [],
      "toc_visible": true
    },
    "kernelspec": {
      "name": "python3",
      "display_name": "Python 3"
    },
    "language_info": {
      "name": "python"
    }
  },
  "cells": [
    {
      "cell_type": "markdown",
      "source": [
        "# Part 1: Features of Text\n"
      ],
      "metadata": {
        "id": "6Fg-ciZPRtbV"
      }
    },
    {
      "cell_type": "markdown",
      "source": [
        "`nltk`: used for tokenizing sentences, generating n-grams, stemming, lemmatization, etc.\n",
        "\n",
        "`deep_translator` : used for translating between langauges\n"
      ],
      "metadata": {
        "id": "1iekplL1Mg9V"
      }
    },
    {
      "cell_type": "code",
      "execution_count": null,
      "metadata": {
        "collapsed": true,
        "id": "zOAfb57kML3w"
      },
      "outputs": [],
      "source": [
        "import nltk\n",
        "from nltk.util import ngrams\n",
        "from collections import Counter\n",
        "import matplotlib.pyplot as plt\n",
        "import numpy as np\n",
        "import re\n",
        "import unicodedata\n",
        "import plotly.express as px\n",
        "import pandas as pd\n",
        "import requests\n",
        "import plotly.express as px\n",
        "import pandas as pd\n",
        "import matplotlib.font_manager as fm"
      ]
    },
    {
      "cell_type": "markdown",
      "source": [
        "### Importing Dataset\n",
        "\n"
      ],
      "metadata": {
        "id": "sHru3-kfPK52"
      }
    },
    {
      "cell_type": "code",
      "source": [
        "with open('bhagvadnew.txt', 'r', encoding='utf-8') as file:\n",
        "    sanskrit = file.read()\n",
        "\n",
        "with open('gita.txt', 'r') as file:\n",
        "    english = file.read()\n",
        "\n",
        "print(len(sanskrit))\n",
        "print(len(english))"
      ],
      "metadata": {
        "id": "RDfoFdUEOxDX",
        "colab": {
          "base_uri": "https://localhost:8080/"
        },
        "outputId": "b818ed0d-ecab-408c-9dd4-b9f90c069ed1"
      },
      "execution_count": null,
      "outputs": [
        {
          "output_type": "stream",
          "name": "stdout",
          "text": [
            "69773\n",
            "110283\n"
          ]
        }
      ]
    },
    {
      "cell_type": "markdown",
      "source": [
        "### **Futher Exploration: Question 1- Try in different languages?**\n",
        "\n",
        "Language used is English and Sanskrit\n",
        "\n"
      ],
      "metadata": {
        "id": "TH64_PThndX0"
      }
    },
    {
      "cell_type": "markdown",
      "source": [
        "### **Futher Exploration: Question 2- The topics we used are quite similar, wikipedia articles of 'elephant' and 'giraffe'. What happens if we use very different topics? What if we use text from another source than Wikipedia?**\n",
        "\n",
        "The source used here is Kaggle data set: https://www.kaggle.com/datasets/ravisane1/bhagwat-gita-in-english/data\n",
        "\n",
        "The Dataset consists of Sanksrit and English translated verses of the Bhagvad Gita\n",
        "\n"
      ],
      "metadata": {
        "id": "pqMmdwePnw6L"
      }
    },
    {
      "cell_type": "markdown",
      "source": [
        "### Cleaning up the dataset\n",
        "\n",
        "Unicode characters for Devanagiri script found from: https://www.unicode.org/charts/PDF/U0900.pdf"
      ],
      "metadata": {
        "id": "ycIObJSkNpEu"
      }
    },
    {
      "cell_type": "code",
      "source": [
        "def cleanup(text):\n",
        "  text = text.lower()  # make it lowercase\n",
        "  text = re.sub('[^a-z]+', '', text) # only keep characters\n",
        "  return text\n",
        "\n",
        "def cleanup_devanagari(text):\n",
        "    text = re.sub(r'[^\\u0900-\\u097F]+', '', text)\n",
        "    return text\n",
        "\n",
        "sanskrit = cleanup_devanagari(sanskrit)\n",
        "english = cleanup(english)\n",
        "\n",
        "print(len(english), len(sanskrit))\n",
        "print(english[:100])\n",
        "print(sanskrit[:100])"
      ],
      "metadata": {
        "colab": {
          "base_uri": "https://localhost:8080/"
        },
        "collapsed": true,
        "id": "aqUve5rCO95M",
        "outputId": "0dc83ae0-86e7-4b10-f923-396e923db32d"
      },
      "execution_count": null,
      "outputs": [
        {
          "output_type": "stream",
          "name": "stdout",
          "text": [
            "85279 59844\n",
            "idhritirashtrarangedthusforbattleonthesacredplainonkurukshetrasaysanjayasaywhatwroughtmypeopleandthe\n",
            "धृतराष्ट्रउवाच।धर्मक्षेत्रेकुरुक्षेत्रेसमवेतायुयुत्सवः।मामकाःपाण्डवाश्चैवकिमकुर्वतसञ्जय॥११॥सञ्जयउवाच\n"
          ]
        }
      ]
    },
    {
      "cell_type": "code",
      "source": [
        "def tuple2string(tup):\n",
        "  string_ = ''.join(tup)\n",
        "  return string_\n",
        "\n",
        "def key2string(keys):\n",
        "  return [tuple2string(i) for i in keys]\n",
        "\n",
        "def plothistogram(ngram):\n",
        "  keys = key2string(ngram.keys())\n",
        "  values = list(ngram.values())\n",
        "\n",
        "  # sort the keys in alphabetic order\n",
        "  combined = zip(keys, values)\n",
        "  zipped_sorted = sorted(combined, key=lambda x: x[0])\n",
        "  keys, values = map(list, zip(*zipped_sorted))\n",
        "  plt.bar(keys, values)"
      ],
      "metadata": {
        "id": "RcazaWjJOmJv"
      },
      "execution_count": null,
      "outputs": []
    },
    {
      "cell_type": "markdown",
      "source": [
        "### Plotting Unigrams"
      ],
      "metadata": {
        "id": "RFCMznnAkvzm"
      }
    },
    {
      "cell_type": "code",
      "source": [
        "plt.rcParams['font.family'] = 'sans-serif'\n",
        "unigram_eng1 = Counter(ngrams(english,1))\n",
        "plothistogram(unigram_eng1)\n",
        "plt.title('English')\n",
        "plt.show()"
      ],
      "metadata": {
        "colab": {
          "base_uri": "https://localhost:8080/",
          "height": 452
        },
        "collapsed": true,
        "id": "wwbgS69SPGcn",
        "outputId": "a9a3142f-84af-422c-fa98-be9e4acd5cd7"
      },
      "execution_count": null,
      "outputs": [
        {
          "output_type": "display_data",
          "data": {
            "text/plain": [
              "<Figure size 640x480 with 1 Axes>"
            ],
            "image/png": "[encoded data removed]"
          },
          "metadata": {}
        }
      ]
    },
    {
      "cell_type": "code",
      "source": [
        "!!wget https://github.com/googlefonts/noto-fonts/blob/main/hinted/ttf/NotoSansDevanagari/NotoSansDevanagari-Regular.ttf?raw=true -O NotoSansDevanagari-Regular.ttf\n"
      ],
      "metadata": {
        "colab": {
          "base_uri": "https://localhost:8080/"
        },
        "collapsed": true,
        "id": "_Ys3xe8AQscV",
        "outputId": "d8faf79f-e72e-4cb3-c065-d9a650dcd70f"
      },
      "execution_count": null,
      "outputs": [
        {
          "output_type": "execute_result",
          "data": {
            "text/plain": [
              "['--2025-05-23 15:13:55--  https://github.com/googlefonts/noto-fonts/blob/main/hinted/ttf/NotoSansDevanagari/NotoSansDevanagari-Regular.ttf?raw=true',\n",
              " 'Resolving github.com (github.com)... 140.82.112.4',\n",
              " 'Connecting to github.com (github.com)|140.82.112.4|:443... connected.',\n",
              " 'HTTP request sent, awaiting response... 301 Moved Permanently',\n",
              " 'Location: https://github.com/notofonts/noto-fonts/blob/main/hinted/ttf/NotoSansDevanagari/NotoSansDevanagari-Regular.ttf?raw=true [following]',\n",
              " '--2025-05-23 15:13:56--  https://github.com/notofonts/noto-fonts/blob/main/hinted/ttf/NotoSansDevanagari/NotoSansDevanagari-Regular.ttf?raw=true',\n",
              " 'Reusing existing connection to github.com:443.',\n",
              " 'HTTP request sent, awaiting response... 302 Found',\n",
              " 'Location: https://github.com/notofonts/noto-fonts/raw/refs/heads/main/hinted/ttf/NotoSansDevanagari/NotoSansDevanagari-Regular.ttf [following]',\n",
              " '--2025-05-23 15:13:56--  https://github.com/notofonts/noto-fonts/raw/refs/heads/main/hinted/ttf/NotoSansDevanagari/NotoSansDevanagari-Regular.ttf',\n",
              " 'Reusing existing connection to github.com:443.',\n",
              " 'HTTP request sent, awaiting response... 302 Found',\n",
              " 'Location: https://raw.githubusercontent.com/notofonts/noto-fonts/refs/heads/main/hinted/ttf/NotoSansDevanagari/NotoSansDevanagari-Regular.ttf [following]',\n",
              " '--2025-05-23 15:13:56--  https://raw.githubusercontent.com/notofonts/noto-fonts/refs/heads/main/hinted/ttf/NotoSansDevanagari/NotoSansDevanagari-Regular.ttf',\n",
              " 'Resolving raw.githubusercontent.com (raw.githubusercontent.com)... 185.199.108.133, 185.199.109.133, 185.199.110.133, ...',\n",
              " 'Connecting to raw.githubusercontent.com (raw.githubusercontent.com)|185.199.108.133|:443... connected.',\n",
              " 'HTTP request sent, awaiting response... 200 OK',\n",
              " 'Length: 219212 (214K) [application/octet-stream]',\n",
              " 'Saving to: ‘NotoSansDevanagari-Regular.ttf’',\n",
              " '',\n",
              " '',\n",
              " '          NotoSansD   0%[                    ]       0  --.-KB/s               ',\n",
              " 'NotoSansDevanagari- 100%[===================>] 214.07K  --.-KB/s    in 0.04s   ',\n",
              " '',\n",
              " '2025-05-23 15:13:56 (5.94 MB/s) - ‘NotoSansDevanagari-Regular.ttf’ saved [219212/219212]',\n",
              " '']"
            ]
          },
          "metadata": {},
          "execution_count": 33
        }
      ]
    },
    {
      "cell_type": "code",
      "source": [
        "unigram_sans = Counter(ngrams(sanskrit, 1))\n",
        "\n",
        "labels = [''.join(i) for i in unigram_sans.keys()]\n",
        "values = list(unigram_sans.values())\n",
        "\n",
        "fig = go.Figure(data=[\n",
        "    go.Bar(x=labels, y=values)\n",
        "])\n",
        "\n",
        "fig.update_layout(\n",
        "    width= 2000,\n",
        "    xaxis_title=\"Letters\",\n",
        "    yaxis_title=\"Frequency\",\n",
        "    font=dict(\n",
        "        family=\"Noto Sans Devanagari, sans-serif\",\n",
        "        size=15\n",
        "    ),\n",
        ")\n",
        "\n",
        "fig.show()"
      ],
      "metadata": {
        "id": "BLgDfRn5U9qK",
        "colab": {
          "base_uri": "https://localhost:8080/",
          "height": 562
        },
        "outputId": "ba0ae68a-58d2-436c-8cb0-5a170843eb89"
      },
      "execution_count": null,
      "outputs": [
        {
          "output_type": "display_data",
          "data": {
            "text/html": [
              "<html>\n",
              "<head><meta charset=\"utf-8\" /></head>\n",
              "<body>\n",
              "    <div>            <script src=\"https://cdnjs.cloudflare.com/ajax/libs/mathjax/2.7.5/MathJax.js?config=TeX-AMS-MML_SVG\"></script><script type=\"text/javascript\">if (window.MathJax && window.MathJax.Hub && window.MathJax.Hub.Config) {window.MathJax.Hub.Config({SVG: {font: \"STIX-Web\"}});}</script>                <script type=\"text/javascript\">window.PlotlyConfig = {MathJaxConfig: 'local'};</script>\n",
              "        <script charset=\"utf-8\" src=\"https://cdn.plot.ly/plotly-2.35.2.min.js\"></script>                <div id=\"6b6bd6a1-b1dc-4140-9570-54c2bd09a2be\" class=\"plotly-graph-div\" style=\"height:525px; width:2000px;\"></div>            <script type=\"text/javascript\">                                    window.PLOTLYENV=window.PLOTLYENV || {};                                    if (document.getElementById(\"6b6bd6a1-b1dc-4140-9570-54c2bd09a2be\")) {                    Plotly.newPlot(                        \"6b6bd6a1-b1dc-4140-9570-54c2bd09a2be\",                        [{\"x\":[\"ध\",\"ृ\",\"त\",\"र\",\"ा\",\"ष\",\"्\",\"ट\",\"उ\",\"व\",\"च\",\"।\",\"म\",\"क\",\"े\",\"ु\",\"स\",\"य\",\"ः\",\"प\",\"ण\",\"ड\",\"श\",\"ै\",\"ि\",\"ञ\",\"ज\",\"॥\",\"१\",\"द\",\"न\",\"ी\",\"ं\",\"ू\",\"ढ\",\"ो\",\"आ\",\"ङ\",\"ग\",\"ब\",\"२\",\"ह\",\"३\",\"अ\",\"भ\",\"थ\",\"४\",\"५\",\"ौ\",\"ए\",\"६\",\"७\",\"८\",\"९\",\"ल\",\"०\",\"ख\",\"ऽ\",\"ठ\",\"घ\",\"ॄ\",\"इ\",\"छ\",\"ॐ\",\"फ\",\"ँ\",\"ई\",\"ओ\",\"ऋ\",\"ऐ\",\"झ\",\"ऊ\"],\"y\":[581,408,4069,2969,4175,763,7856,114,70,2338,838,779,2760,1365,1569,1357,2099,2868,937,1364,452,29,883,259,2689,270,708,1438,699,1376,2640,456,1393,293,33,1102,47,108,642,271,324,741,246,214,711,360,200,148,105,73,162,141,174,98,320,105,118,242,49,32,4,60,79,19,35,3,5,1,3,1,1,3],\"type\":\"bar\"}],                        {\"template\":{\"data\":{\"histogram2dcontour\":[{\"type\":\"histogram2dcontour\",\"colorbar\":{\"outlinewidth\":0,\"ticks\":\"\"},\"colorscale\":[[0.0,\"#0d0887\"],[0.1111111111111111,\"#46039f\"],[0.2222222222222222,\"#7201a8\"],[0.3333333333333333,\"#9c179e\"],[0.4444444444444444,\"#bd3786\"],[0.5555555555555556,\"#d8576b\"],[0.6666666666666666,\"#ed7953\"],[0.7777777777777778,\"#fb9f3a\"],[0.8888888888888888,\"#fdca26\"],[1.0,\"#f0f921\"]]}],\"choropleth\":[{\"type\":\"choropleth\",\"colorbar\":{\"outlinewidth\":0,\"ticks\":\"\"}}],\"histogram2d\":[{\"type\":\"histogram2d\",\"colorbar\":{\"outlinewidth\":0,\"ticks\":\"\"},\"colorscale\":[[0.0,\"#0d0887\"],[0.1111111111111111,\"#46039f\"],[0.2222222222222222,\"#7201a8\"],[0.3333333333333333,\"#9c179e\"],[0.4444444444444444,\"#bd3786\"],[0.5555555555555556,\"#d8576b\"],[0.6666666666666666,\"#ed7953\"],[0.7777777777777778,\"#fb9f3a\"],[0.8888888888888888,\"#fdca26\"],[1.0,\"#f0f921\"]]}],\"heatmap\":[{\"type\":\"heatmap\",\"colorbar\":{\"outlinewidth\":0,\"ticks\":\"\"},\"colorscale\":[[0.0,\"#0d0887\"],[0.1111111111111111,\"#46039f\"],[0.2222222222222222,\"#7201a8\"],[0.3333333333333333,\"#9c179e\"],[0.4444444444444444,\"#bd3786\"],[0.5555555555555556,\"#d8576b\"],[0.6666666666666666,\"#ed7953\"],[0.7777777777777778,\"#fb9f3a\"],[0.8888888888888888,\"#fdca26\"],[1.0,\"#f0f921\"]]}],\"heatmapgl\":[{\"type\":\"heatmapgl\",\"colorbar\":{\"outlinewidth\":0,\"ticks\":\"\"},\"colorscale\":[[0.0,\"#0d0887\"],[0.1111111111111111,\"#46039f\"],[0.2222222222222222,\"#7201a8\"],[0.3333333333333333,\"#9c179e\"],[0.4444444444444444,\"#bd3786\"],[0.5555555555555556,\"#d8576b\"],[0.6666666666666666,\"#ed7953\"],[0.7777777777777778,\"#fb9f3a\"],[0.8888888888888888,\"#fdca26\"],[1.0,\"#f0f921\"]]}],\"contourcarpet\":[{\"type\":\"contourcarpet\",\"colorbar\":{\"outlinewidth\":0,\"ticks\":\"\"}}],\"contour\":[{\"type\":\"contour\",\"colorbar\":{\"outlinewidth\":0,\"ticks\":\"\"},\"colorscale\":[[0.0,\"#0d0887\"],[0.1111111111111111,\"#46039f\"],[0.2222222222222222,\"#7201a8\"],[0.3333333333333333,\"#9c179e\"],[0.4444444444444444,\"#bd3786\"],[0.5555555555555556,\"#d8576b\"],[0.6666666666666666,\"#ed7953\"],[0.7777777777777778,\"#fb9f3a\"],[0.8888888888888888,\"#fdca26\"],[1.0,\"#f0f921\"]]}],\"surface\":[{\"type\":\"surface\",\"colorbar\":{\"outlinewidth\":0,\"ticks\":\"\"},\"colorscale\":[[0.0,\"#0d0887\"],[0.1111111111111111,\"#46039f\"],[0.2222222222222222,\"#7201a8\"],[0.3333333333333333,\"#9c179e\"],[0.4444444444444444,\"#bd3786\"],[0.5555555555555556,\"#d8576b\"],[0.6666666666666666,\"#ed7953\"],[0.7777777777777778,\"#fb9f3a\"],[0.8888888888888888,\"#fdca26\"],[1.0,\"#f0f921\"]]}],\"mesh3d\":[{\"type\":\"mesh3d\",\"colorbar\":{\"outlinewidth\":0,\"ticks\":\"\"}}],\"scatter\":[{\"fillpattern\":{\"fillmode\":\"overlay\",\"size\":10,\"solidity\":0.2},\"type\":\"scatter\"}],\"parcoords\":[{\"type\":\"parcoords\",\"line\":{\"colorbar\":{\"outlinewidth\":0,\"ticks\":\"\"}}}],\"scatterpolargl\":[{\"type\":\"scatterpolargl\",\"marker\":{\"colorbar\":{\"outlinewidth\":0,\"ticks\":\"\"}}}],\"bar\":[{\"error_x\":{\"color\":\"#2a3f5f\"},\"error_y\":{\"color\":\"#2a3f5f\"},\"marker\":{\"line\":{\"color\":\"#E5ECF6\",\"width\":0.5},\"pattern\":{\"fillmode\":\"overlay\",\"size\":10,\"solidity\":0.2}},\"type\":\"bar\"}],\"scattergeo\":[{\"type\":\"scattergeo\",\"marker\":{\"colorbar\":{\"outlinewidth\":0,\"ticks\":\"\"}}}],\"scatterpolar\":[{\"type\":\"scatterpolar\",\"marker\":{\"colorbar\":{\"outlinewidth\":0,\"ticks\":\"\"}}}],\"histogram\":[{\"marker\":{\"pattern\":{\"fillmode\":\"overlay\",\"size\":10,\"solidity\":0.2}},\"type\":\"histogram\"}],\"scattergl\":[{\"type\":\"scattergl\",\"marker\":{\"colorbar\":{\"outlinewidth\":0,\"ticks\":\"\"}}}],\"scatter3d\":[{\"type\":\"scatter3d\",\"line\":{\"colorbar\":{\"outlinewidth\":0,\"ticks\":\"\"}},\"marker\":{\"colorbar\":{\"outlinewidth\":0,\"ticks\":\"\"}}}],\"scattermapbox\":[{\"type\":\"scattermapbox\",\"marker\":{\"colorbar\":{\"outlinewidth\":0,\"ticks\":\"\"}}}],\"scatterternary\":[{\"type\":\"scatterternary\",\"marker\":{\"colorbar\":{\"outlinewidth\":0,\"ticks\":\"\"}}}],\"scattercarpet\":[{\"type\":\"scattercarpet\",\"marker\":{\"colorbar\":{\"outlinewidth\":0,\"ticks\":\"\"}}}],\"carpet\":[{\"aaxis\":{\"endlinecolor\":\"#2a3f5f\",\"gridcolor\":\"white\",\"linecolor\":\"white\",\"minorgridcolor\":\"white\",\"startlinecolor\":\"#2a3f5f\"},\"baxis\":{\"endlinecolor\":\"#2a3f5f\",\"gridcolor\":\"white\",\"linecolor\":\"white\",\"minorgridcolor\":\"white\",\"startlinecolor\":\"#2a3f5f\"},\"type\":\"carpet\"}],\"table\":[{\"cells\":{\"fill\":{\"color\":\"#EBF0F8\"},\"line\":{\"color\":\"white\"}},\"header\":{\"fill\":{\"color\":\"#C8D4E3\"},\"line\":{\"color\":\"white\"}},\"type\":\"table\"}],\"barpolar\":[{\"marker\":{\"line\":{\"color\":\"#E5ECF6\",\"width\":0.5},\"pattern\":{\"fillmode\":\"overlay\",\"size\":10,\"solidity\":0.2}},\"type\":\"barpolar\"}],\"pie\":[{\"automargin\":true,\"type\":\"pie\"}]},\"layout\":{\"autotypenumbers\":\"strict\",\"colorway\":[\"#636efa\",\"#EF553B\",\"#00cc96\",\"#ab63fa\",\"#FFA15A\",\"#19d3f3\",\"#FF6692\",\"#B6E880\",\"#FF97FF\",\"#FECB52\"],\"font\":{\"color\":\"#2a3f5f\"},\"hovermode\":\"closest\",\"hoverlabel\":{\"align\":\"left\"},\"paper_bgcolor\":\"white\",\"plot_bgcolor\":\"#E5ECF6\",\"polar\":{\"bgcolor\":\"#E5ECF6\",\"angularaxis\":{\"gridcolor\":\"white\",\"linecolor\":\"white\",\"ticks\":\"\"},\"radialaxis\":{\"gridcolor\":\"white\",\"linecolor\":\"white\",\"ticks\":\"\"}},\"ternary\":{\"bgcolor\":\"#E5ECF6\",\"aaxis\":{\"gridcolor\":\"white\",\"linecolor\":\"white\",\"ticks\":\"\"},\"baxis\":{\"gridcolor\":\"white\",\"linecolor\":\"white\",\"ticks\":\"\"},\"caxis\":{\"gridcolor\":\"white\",\"linecolor\":\"white\",\"ticks\":\"\"}},\"coloraxis\":{\"colorbar\":{\"outlinewidth\":0,\"ticks\":\"\"}},\"colorscale\":{\"sequential\":[[0.0,\"#0d0887\"],[0.1111111111111111,\"#46039f\"],[0.2222222222222222,\"#7201a8\"],[0.3333333333333333,\"#9c179e\"],[0.4444444444444444,\"#bd3786\"],[0.5555555555555556,\"#d8576b\"],[0.6666666666666666,\"#ed7953\"],[0.7777777777777778,\"#fb9f3a\"],[0.8888888888888888,\"#fdca26\"],[1.0,\"#f0f921\"]],\"sequentialminus\":[[0.0,\"#0d0887\"],[0.1111111111111111,\"#46039f\"],[0.2222222222222222,\"#7201a8\"],[0.3333333333333333,\"#9c179e\"],[0.4444444444444444,\"#bd3786\"],[0.5555555555555556,\"#d8576b\"],[0.6666666666666666,\"#ed7953\"],[0.7777777777777778,\"#fb9f3a\"],[0.8888888888888888,\"#fdca26\"],[1.0,\"#f0f921\"]],\"diverging\":[[0,\"#8e0152\"],[0.1,\"#c51b7d\"],[0.2,\"#de77ae\"],[0.3,\"#f1b6da\"],[0.4,\"#fde0ef\"],[0.5,\"#f7f7f7\"],[0.6,\"#e6f5d0\"],[0.7,\"#b8e186\"],[0.8,\"#7fbc41\"],[0.9,\"#4d9221\"],[1,\"#276419\"]]},\"xaxis\":{\"gridcolor\":\"white\",\"linecolor\":\"white\",\"ticks\":\"\",\"title\":{\"standoff\":15},\"zerolinecolor\":\"white\",\"automargin\":true,\"zerolinewidth\":2},\"yaxis\":{\"gridcolor\":\"white\",\"linecolor\":\"white\",\"ticks\":\"\",\"title\":{\"standoff\":15},\"zerolinecolor\":\"white\",\"automargin\":true,\"zerolinewidth\":2},\"scene\":{\"xaxis\":{\"backgroundcolor\":\"#E5ECF6\",\"gridcolor\":\"white\",\"linecolor\":\"white\",\"showbackground\":true,\"ticks\":\"\",\"zerolinecolor\":\"white\",\"gridwidth\":2},\"yaxis\":{\"backgroundcolor\":\"#E5ECF6\",\"gridcolor\":\"white\",\"linecolor\":\"white\",\"showbackground\":true,\"ticks\":\"\",\"zerolinecolor\":\"white\",\"gridwidth\":2},\"zaxis\":{\"backgroundcolor\":\"#E5ECF6\",\"gridcolor\":\"white\",\"linecolor\":\"white\",\"showbackground\":true,\"ticks\":\"\",\"zerolinecolor\":\"white\",\"gridwidth\":2}},\"shapedefaults\":{\"line\":{\"color\":\"#2a3f5f\"}},\"annotationdefaults\":{\"arrowcolor\":\"#2a3f5f\",\"arrowhead\":0,\"arrowwidth\":1},\"geo\":{\"bgcolor\":\"white\",\"landcolor\":\"#E5ECF6\",\"subunitcolor\":\"white\",\"showland\":true,\"showlakes\":true,\"lakecolor\":\"white\"},\"title\":{\"x\":0.05},\"mapbox\":{\"style\":\"light\"}}},\"font\":{\"family\":\"Noto Sans Devanagari, sans-serif\",\"size\":15},\"width\":2000,\"xaxis\":{\"title\":{\"text\":\"Letters\"}},\"yaxis\":{\"title\":{\"text\":\"Frequency\"}}},                        {\"responsive\": true}                    ).then(function(){\n",
              "                            \n",
              "var gd = document.getElementById('6b6bd6a1-b1dc-4140-9570-54c2bd09a2be');\n",
              "var x = new MutationObserver(function (mutations, observer) {{\n",
              "        var display = window.getComputedStyle(gd).display;\n",
              "        if (!display || display === 'none') {{\n",
              "            console.log([gd, 'removed!']);\n",
              "            Plotly.purge(gd);\n",
              "            observer.disconnect();\n",
              "        }}\n",
              "}});\n",
              "\n",
              "// Listen for the removal of the full notebook cells\n",
              "var notebookContainer = gd.closest('#notebook-container');\n",
              "if (notebookContainer) {{\n",
              "    x.observe(notebookContainer, {childList: true});\n",
              "}}\n",
              "\n",
              "// Listen for the clearing of the current output cell\n",
              "var outputEl = gd.closest('.output');\n",
              "if (outputEl) {{\n",
              "    x.observe(outputEl, {childList: true});\n",
              "}}\n",
              "\n",
              "                        })                };                            </script>        </div>\n",
              "</body>\n",
              "</html>"
            ]
          },
          "metadata": {}
        }
      ]
    },
    {
      "cell_type": "markdown",
      "source": [
        "## Further Exploration: Question 3- How can we use and visualize trigrams and higher n-grams?"
      ],
      "metadata": {
        "id": "P6aRG4k4kbYE"
      }
    },
    {
      "cell_type": "markdown",
      "source": [
        "### Bigrams"
      ],
      "metadata": {
        "id": "I04qTXlppz_h"
      }
    },
    {
      "cell_type": "code",
      "source": [
        "def plotbihistogram(ngram):\n",
        "  freq = np.zeros((26,26))\n",
        "  for ii in range(26):\n",
        "    for jj in range(26):\n",
        "      freq[ii,jj] = ngram[(chr(ord('a')+ii), chr(ord('a')+jj))]\n",
        "  plt.imshow(freq, cmap = 'jet')\n",
        "  return freq\n",
        "\n",
        "\n",
        "bigram_eng = Counter(ngrams(english,2))\n",
        "\n",
        "plotbihistogram(bigram_eng)\n",
        "plt.show()"
      ],
      "metadata": {
        "colab": {
          "base_uri": "https://localhost:8080/",
          "height": 430
        },
        "id": "t3eHaPiHlEp0",
        "outputId": "c4594444-cf10-4c6b-d6a8-23cece3d9d0e"
      },
      "execution_count": null,
      "outputs": [
        {
          "output_type": "display_data",
          "data": {
            "text/plain": [
              "<Figure size 640x480 with 1 Axes>"
            ],
            "image/png": "[encoded data removed]"
          },
          "metadata": {}
        }
      ]
    },
    {
      "cell_type": "markdown",
      "source": [
        "### Trigrams"
      ],
      "metadata": {
        "id": "9iRw_05gp2vD"
      }
    },
    {
      "cell_type": "code",
      "source": [
        "trigram_eng= Counter(ngrams(english,3))\n",
        "len(trigram_eng)"
      ],
      "metadata": {
        "colab": {
          "base_uri": "https://localhost:8080/"
        },
        "id": "wlGjhEzOrSFO",
        "outputId": "cac1a988-f1a7-4bd3-f0b4-732aa555a95a"
      },
      "execution_count": null,
      "outputs": [
        {
          "output_type": "execute_result",
          "data": {
            "text/plain": [
              "5012"
            ]
          },
          "metadata": {},
          "execution_count": 36
        }
      ]
    },
    {
      "cell_type": "code",
      "source": [
        "data = []\n",
        "for (c1, c2, c3), freq in trigram_eng.items():\n",
        "    data.append({'c1': ord(c1) - ord('a'), 'c2': ord(c2) - ord('a'), 'c3': ord(c3) - ord('a'), 'freq': freq})\n",
        "\n",
        "df = pd.DataFrame(data)\n",
        "\n",
        "fig = px.scatter_3d(df, x='c1', y='c2', z='c3', size='freq', color='freq',\n",
        "                    labels={'c1': 'First char', 'c2': 'Second char', 'c3': 'Third char'},\n",
        "                    title='Trigram 3D Scatter Plot')\n",
        "fig.show()"
      ],
      "metadata": {
        "colab": {
          "base_uri": "https://localhost:8080/",
          "height": 542
        },
        "id": "lch4f7FTsdii",
        "outputId": "cdb19b1c-e4a4-4ca8-853e-b60fb1823c9d"
      },
      "execution_count": null,
      "outputs": [
        {
          "output_type": "display_data",
          "data": {
            "text/html": [
              "<html>\n",
              "<head><meta charset=\"utf-8\" /></head>\n",
              "<body>\n",
              "    <div>            <script src=\"https://cdnjs.cloudflare.com/ajax/libs/mathjax/2.7.5/MathJax.js?config=TeX-AMS-MML_SVG\"></script><script type=\"text/javascript\">if (window.MathJax && window.MathJax.Hub && window.MathJax.Hub.Config) {window.MathJax.Hub.Config({SVG: {font: \"STIX-Web\"}});}</script>                <script type=\"text/javascript\">window.PlotlyConfig = {MathJaxConfig: 'local'};</script>\n",
              "        <script charset=\"utf-8\" src=\"https://cdn.plot.ly/plotly-2.35.2.min.js\"></script>                <div id=\"5b6a844e-b9b1-4cf9-8d25-1d23141e2a15\" class=\"plotly-graph-div\" style=\"height:525px; width:100%;\"></div>            <script type=\"text/javascript\">                                    window.PLOTLYENV=window.PLOTLYENV || {};                                    if (document.getElementById(\"5b6a844e-b9b1-4cf9-8d25-1d23141e2a15\")) {                    Plotly.newPlot(                        \"5b6a844e-b9b1-4cf9-8d25-1d23141e2a15\",                        [{\"hovertemplate\":\"First char=%{x}\\u003cbr\\u003eSecond char=%{y}\\u003cbr\\u003eThird char=%{z}\\u003cbr\\u003efreq=%{marker.color}\\u003cextra\\u003e\\u003c\\u002fextra\\u003e\",\"legendgroup\":\"\",\"marker\":{\"color\":[2,7,22,101,68,9,15,37,27,15,10,70,8,56,90,48,54,15,84,226,47,40,6,32,245,8,4,10,85,14,71,10,43,87,216,1526,259,112,45,40,30,79,9,12,50,22,220,15,40,3,2,6,20,1,1,21,90,86,48,41,32,32,17,190,8,9,8,33,25,12,42,90,334,36,3,25,53,86,97,250,6,7,8,8,5,9,3,47,97,162,863,155,46,36,17,103,4,34,30,101,38,3,18,141,135,19,32,83,58,18,74,78,26,21,51,45,165,67,125,111,26,8,6,12,19,16,1,2,5,1,9,2,4,21,143,29,63,15,26,9,16,40,32,3,8,41,32,31,33,157,13,40,8,88,51,525,150,31,69,206,99,29,42,3,1,1,3,21,35,139,71,294,281,23,40,84,152,7,72,2,1,168,78,50,86,36,147,30,1,1,18,209,20,115,764,30,20,91,67,12,20,2,95,62,51,43,90,127,81,42,53,30,1,6,7,9,6,18,14,197,116,25,4,14,16,90,4,25,45,184,162,118,37,176,212,293,290,51,152,77,52,109,115,31,33,23,8,19,8,13,60,24,32,12,1,37,42,13,261,58,58,58,66,57,53,95,35,7,11,77,26,12,72,1,38,16,133,109,52,112,23,32,8,9,54,2,7,10,46,47,9,6,1,1,4,4,1,1,39,84,22,181,6,9,31,40,19,33,21,15,7,50,5,105,136,33,36,4,14,39,20,22,4,57,5,4,42,43,75,49,17,52,2,15,91,1,5,44,1,1,1,5,2,16,85,49,8,9,1,1,1,5,29,5,1,4,12,208,282,2,12,46,131,33,1,1,6,13,40,34,22,1,1,1,1,19,2,35,12,7,15,19,18,95,45,12,23,55,41,26,361,25,19,12,72,52,77,28,22,6,18,82,60,52,85,38,103,63,34,68,105,150,48,77,17,1,86,57,20,7,23,46,47,84,22,16,25,59,48,25,30,231,324,226,29,5,21,256,10,60,54,53,54,35,6,79,2,6,5,5,12,83,41,40,7,2,30,116,26,5,54,13,7,15,32,157,221,158,93,61,30,65,78,1,1,25,3,27,9,15,27,16,185,44,124,103,17,189,68,28,30,49,45,10,3,8,38,9,15,28,31,8,4,53,2,4,1,2,25,11,34,35,52,46,17,6,13,3,1,13,3,21,26,24,323,13,14,7,6,5,34,94,55,130,42,62,142,20,2,1,6,33,19,2,8,55,14,77,24,5,4,7,59,111,39,17,8,7,21,56,32,9,48,45,22,12,173,67,3,2,45,12,26,25,23,16,90,68,33,66,4,13,100,13,91,12,15,59,18,56,28,25,11,6,18,27,23,57,12,45,79,27,1,18,9,5,6,12,15,15,25,30,24,14,17,24,13,11,134,3,157,93,67,8,78,39,21,6,7,95,57,7,49,4,1,4,141,36,14,17,25,147,120,18,8,9,48,124,1,25,97,26,9,9,7,3,6,2,61,4,3,18,57,42,6,3,54,52,12,42,12,2,14,94,2,22,28,5,12,166,3,1,19,50,16,5,32,10,122,136,19,38,3,30,20,191,195,8,30,10,5,42,15,25,7,13,82,29,34,8,16,34,78,15,25,77,84,20,11,64,44,18,24,9,3,130,57,4,6,13,10,90,7,3,17,10,27,146,21,6,94,14,5,29,57,28,39,150,12,24,76,26,16,100,3,17,100,28,129,35,18,32,13,19,39,1,2,1,1,1,2,20,12,28,12,16,52,18,12,40,14,8,19,19,97,42,4,12,8,39,30,62,8,17,27,17,14,277,19,48,42,19,88,9,13,13,12,22,59,80,25,96,8,3,4,6,42,5,45,65,10,5,20,9,32,68,10,2,3,44,19,16,8,1,4,4,17,38,45,33,17,162,31,43,41,93,13,82,79,12,11,68,63,94,7,63,3,6,56,54,44,55,21,54,3,82,4,9,9,7,10,138,170,44,65,21,18,3,6,3,3,10,11,12,6,7,25,40,96,21,5,37,18,11,10,166,38,7,27,80,170,8,35,8,20,7,23,20,39,1,2,15,12,11,9,21,2,2,6,8,11,13,5,8,36,99,19,16,4,31,109,3,11,4,20,21,41,249,19,83,9,23,30,3,24,8,8,1,2,13,10,15,52,20,12,1,5,3,2,42,61,20,8,1,24,12,5,13,4,12,126,5,2,7,37,18,112,127,5,31,32,22,1,24,29,27,4,17,12,18,5,9,14,5,36,109,74,207,33,1,1,3,1,3,1,2,1,10,44,27,2,23,3,22,39,52,16,18,5,5,7,6,14,9,28,13,16,32,22,46,27,5,30,19,7,74,28,4,5,3,2,55,18,27,24,59,55,6,12,30,3,27,4,14,14,3,81,18,25,12,58,3,5,50,4,20,82,40,57,4,1,13,31,19,7,28,23,2,6,113,17,17,46,34,6,2,11,16,14,2,35,133,87,12,35,11,42,16,1,1,3,20,5,157,5,6,106,31,11,2,16,6,12,2,70,100,34,68,79,32,20,16,17,6,22,24,136,1,6,24,38,1,8,28,50,38,3,31,27,12,25,27,47,35,3,4,15,8,67,5,2,11,162,48,38,35,71,15,14,60,16,1,8,20,13,31,32,25,46,33,9,32,22,32,7,7,10,8,15,5,37,76,12,58,101,30,5,45,18,52,53,15,62,14,23,12,25,20,6,135,9,45,23,6,13,15,13,3,5,37,26,48,17,1,8,8,37,79,32,37,6,6,6,102,50,18,28,42,1,5,17,12,50,24,91,3,19,11,3,1,8,21,21,18,23,6,16,13,33,51,4,42,4,8,5,27,29,13,63,29,41,11,12,11,10,23,43,26,91,8,22,34,44,138,37,33,21,15,16,7,4,13,16,14,6,10,15,15,13,3,2,5,5,23,26,13,15,34,22,15,31,10,58,47,21,55,22,5,5,17,36,8,1,8,4,42,54,5,29,4,8,5,12,3,8,40,7,27,7,10,16,13,3,12,20,12,13,21,13,33,21,16,2,25,11,11,22,18,18,4,24,77,17,1,5,5,35,17,4,61,43,15,1,57,1,14,13,7,30,6,55,43,15,5,9,12,29,5,19,10,15,26,13,10,9,138,1,4,9,1,9,7,13,1,11,39,1,1,45,7,18,14,4,11,5,135,171,2,33,3,16,9,5,9,7,15,11,85,83,91,12,36,10,3,1,50,35,4,32,9,11,1,15,15,19,2,11,77,12,9,16,56,31,72,5,12,24,1,1,3,5,24,11,51,21,1,2,3,3,45,5,3,17,24,12,3,2,7,101,20,1,1,1,3,9,33,16,69,84,62,3,77,36,109,22,10,10,7,15,21,18,10,27,7,2,3,6,9,5,81,2,13,17,17,10,146,12,13,3,19,14,6,6,14,30,25,18,18,7,36,38,42,72,18,32,27,14,44,14,24,6,4,8,26,57,9,28,39,11,24,29,6,1,17,42,42,18,5,12,51,40,16,3,1,1,6,6,24,4,21,11,4,47,22,30,96,4,4,15,30,4,15,7,2,7,28,9,28,12,42,22,5,5,3,9,43,6,9,16,60,6,64,72,38,22,77,59,67,13,2,10,16,13,20,3,4,5,17,11,5,2,1,25,17,7,10,90,22,15,8,2,3,11,5,4,18,24,8,13,20,4,8,8,4,5,1,4,7,8,20,12,13,14,3,4,9,2,4,1,3,57,28,10,9,47,81,7,16,65,2,7,26,43,53,40,47,8,25,3,1,16,6,13,15,23,12,10,14,14,13,16,2,41,11,9,162,5,13,7,82,5,31,3,35,8,3,3,42,3,23,27,18,78,19,11,5,14,10,7,15,23,3,25,15,2,2,1,9,8,5,6,2,2,32,20,5,21,19,19,12,20,5,8,13,13,52,9,5,2,1,3,67,8,18,1,1,1,17,25,36,2,1,12,63,49,4,5,19,74,43,12,3,8,6,2,9,1,9,40,19,16,9,15,21,8,16,26,18,5,10,37,8,11,17,5,14,17,3,13,33,27,85,32,12,35,84,7,4,30,5,20,51,8,35,2,16,55,3,5,16,15,23,5,4,2,7,60,3,3,48,1,7,20,9,2,13,5,3,15,4,6,47,1,2,15,6,52,13,7,4,3,3,3,32,41,31,5,6,15,48,9,10,14,3,3,18,3,2,30,12,3,2,37,22,5,2,8,10,13,6,5,13,4,47,29,31,1,13,2,45,36,51,12,3,3,1,9,2,4,14,26,59,18,23,18,18,26,4,23,20,28,40,19,18,31,63,15,1,3,3,4,3,3,11,13,19,6,21,1,14,50,31,15,9,14,19,43,4,24,20,4,5,6,19,22,137,25,33,9,23,23,24,12,10,13,22,43,11,6,49,18,8,2,8,11,15,7,38,4,42,9,4,3,11,4,4,4,14,5,14,6,11,6,15,18,19,1,1,39,2,5,11,11,1,1,10,4,1,20,4,11,12,48,2,1,8,16,8,19,29,19,34,82,1,5,2,8,40,36,7,7,9,2,21,20,5,27,20,15,5,10,4,1,1,5,11,15,12,2,1,11,12,11,16,34,24,19,13,6,72,2,17,3,2,13,19,9,8,8,22,2,10,15,17,9,30,75,1,51,13,5,12,31,27,4,14,22,2,10,8,9,5,23,5,2,2,30,3,4,21,14,1,10,12,13,9,4,5,4,7,29,2,15,1,18,22,43,1,3,2,2,9,1,14,21,4,5,5,10,3,19,10,25,4,74,9,8,15,4,16,24,95,10,10,6,44,6,19,27,11,10,5,13,13,29,3,9,8,39,18,10,15,51,33,23,56,18,13,7,1,10,10,14,6,42,20,55,8,31,5,2,13,2,17,8,18,23,141,28,21,35,15,6,34,3,24,5,6,5,6,3,8,35,4,6,16,18,14,30,7,18,24,4,3,12,2,4,3,8,3,25,25,24,4,7,5,6,6,45,9,15,48,8,1,3,3,14,23,1,5,5,47,5,76,11,17,3,39,7,24,19,9,15,21,33,10,22,25,40,38,13,33,3,4,2,4,5,5,37,2,1,1,42,15,3,5,15,33,19,25,30,14,2,10,32,1,5,36,6,3,25,7,13,34,33,30,55,13,7,2,2,5,22,12,12,48,11,8,1,1,22,49,6,3,10,7,8,13,49,2,3,4,25,2,1,23,7,4,8,5,11,8,7,5,3,10,23,30,34,11,39,2,23,25,31,5,2,17,4,1,11,2,12,2,17,30,4,5,12,11,11,4,9,7,14,1,4,21,10,4,7,2,23,5,5,4,7,1,2,4,5,4,14,12,9,2,30,2,26,19,8,10,6,2,14,6,10,3,4,9,12,7,3,5,9,14,8,14,6,16,12,14,10,12,5,36,2,5,1,2,9,7,41,11,6,5,16,58,7,7,36,5,9,14,12,25,29,6,12,7,11,13,5,9,7,6,4,11,3,10,11,2,20,9,6,3,4,3,8,23,26,5,1,2,6,36,1,20,1,2,9,20,13,9,17,9,7,36,16,1,7,22,7,1,12,2,3,6,1,1,8,6,3,9,8,3,17,1,1,8,1,8,3,1,1,1,2,26,9,6,4,4,5,22,2,6,4,6,10,13,13,26,13,1,6,6,28,31,13,3,10,6,14,4,11,16,17,29,2,8,24,5,5,8,3,9,20,12,8,9,24,11,7,2,4,2,9,8,11,9,13,8,10,6,4,17,6,4,3,3,5,6,31,29,11,29,14,42,12,14,15,31,2,24,11,4,15,3,17,14,1,6,6,13,2,13,26,28,29,26,46,2,14,9,5,12,1,3,7,2,38,5,10,4,4,23,6,1,4,16,34,59,9,43,9,4,4,18,46,5,4,11,8,8,30,9,4,9,5,9,8,5,1,1,3,5,21,2,2,31,3,5,7,3,20,23,37,3,7,10,3,9,1,3,78,4,5,11,3,7,7,32,23,1,3,31,6,23,2,2,72,18,10,25,22,1,1,17,8,43,50,16,3,9,11,6,13,16,1,36,18,7,2,8,1,2,1,1,4,3,12,4,2,2,1,1,12,3,3,8,8,1,8,4,4,4,9,18,1,19,13,4,25,2,3,21,22,3,1,21,11,2,3,2,2,5,10,7,23,9,1,3,20,13,11,10,10,23,16,5,3,8,10,4,2,5,11,5,2,14,4,1,3,8,5,5,3,36,2,7,19,13,8,6,2,4,20,4,21,43,2,6,11,8,2,45,7,1,8,3,4,6,2,8,3,2,3,2,20,5,25,7,32,6,15,3,6,3,2,1,5,5,13,15,8,11,7,3,34,30,2,4,1,4,8,5,7,2,6,1,2,4,3,22,3,6,4,10,1,22,6,18,16,10,3,7,3,12,5,1,1,1,17,2,4,4,6,5,5,3,18,2,1,2,4,4,3,18,10,4,12,4,3,2,7,2,15,11,15,8,19,4,9,1,11,15,2,4,16,10,14,26,1,4,13,3,7,15,8,5,5,2,4,5,9,7,5,27,2,10,13,3,3,11,4,6,5,12,15,12,6,7,16,10,7,2,8,5,2,7,15,4,18,5,6,13,39,2,15,6,3,5,7,36,29,26,2,2,17,3,14,24,9,5,28,14,4,5,9,2,2,2,7,19,4,2,3,7,18,6,4,5,6,8,1,16,2,2,13,3,18,1,9,5,1,18,2,7,11,1,4,12,2,4,12,20,5,4,3,8,2,10,2,9,6,2,6,2,4,20,17,1,9,4,11,10,2,12,28,10,7,9,3,4,2,7,2,17,24,1,8,6,10,1,2,2,5,2,9,6,1,6,15,8,3,1,1,6,6,17,18,17,1,1,15,1,2,2,10,2,3,16,7,1,21,6,4,3,9,15,17,1,10,3,4,2,16,1,2,1,4,12,36,1,1,4,16,3,5,1,1,2,8,3,6,4,2,2,2,2,17,8,3,20,20,1,1,3,2,4,2,6,10,10,7,1,3,5,4,15,4,5,2,30,6,4,8,5,3,8,2,11,3,20,8,3,2,5,1,2,5,3,1,1,1,3,3,1,5,6,1,1,2,1,3,4,2,2,12,1,17,5,8,3,9,6,4,1,8,6,10,17,2,1,5,18,3,10,6,7,5,3,7,5,15,2,7,3,6,5,14,25,7,5,3,2,1,1,17,11,1,8,1,1,13,15,6,2,4,9,7,1,21,6,5,9,6,1,7,7,10,1,8,4,12,4,2,9,3,7,4,3,2,14,1,12,4,12,16,7,9,2,3,7,3,2,4,3,5,14,16,1,1,1,1,7,1,6,6,1,9,5,16,2,1,7,18,1,2,1,11,7,14,1,5,8,1,8,10,3,2,5,4,5,3,6,9,2,27,5,7,16,1,1,1,1,3,1,5,9,7,2,6,8,1,3,18,1,10,8,4,2,3,3,2,4,2,1,1,1,2,2,9,3,13,11,1,8,5,1,3,4,6,2,13,3,6,3,1,5,1,2,12,9,9,1,14,9,13,1,8,1,2,8,2,2,5,1,2,4,4,5,12,1,1,5,2,4,12,5,7,21,7,3,1,5,6,2,7,4,4,3,1,2,3,5,1,1,7,3,4,1,5,1,1,6,2,5,3,5,6,3,1,2,12,4,2,7,1,5,22,7,3,1,17,2,4,4,14,3,1,10,2,2,1,1,9,4,6,5,2,1,2,3,8,3,3,5,20,2,4,3,3,2,2,3,4,3,2,5,6,1,3,2,5,15,5,3,1,1,5,8,9,1,1,1,8,11,2,5,16,5,4,5,6,4,2,1,4,5,1,1,6,1,2,5,4,9,4,2,2,3,7,13,1,1,18,3,6,15,4,7,3,7,1,2,1,1,1,9,1,12,15,12,7,3,9,10,3,18,2,2,5,4,2,2,4,7,7,8,4,4,1,1,7,4,11,11,1,1,1,4,1,1,4,3,5,4,1,5,2,4,4,3,1,4,1,5,2,1,8,5,4,1,5,1,10,9,5,1,2,9,2,1,6,1,1,10,3,1,1,1,4,3,7,3,4,7,4,2,2,3,4,2,3,1,3,1,3,3,4,3,6,12,6,4,1,2,2,13,8,3,1,2,6,2,1,5,18,2,5,2,1,7,4,3,5,5,13,3,1,4,5,3,8,3,4,4,3,1,2,5,1,1,8,23,24,1,2,7,3,5,4,4,4,4,5,5,13,2,5,4,1,6,13,2,8,1,5,3,1,2,6,2,1,1,1,1,3,2,2,8,7,2,5,6,4,4,5,7,1,3,9,1,9,13,2,2,12,1,6,1,7,4,2,1,7,2,2,1,6,5,12,1,6,2,3,2,4,1,1,3,2,2,1,3,3,7,3,5,1,10,7,1,2,2,4,2,7,1,1,7,2,2,1,3,14,1,6,4,4,1,6,2,1,2,3,4,2,8,7,1,1,1,3,7,5,4,3,4,2,3,3,8,2,3,2,2,2,3,1,3,3,2,7,8,4,1,1,6,1,1,3,1,1,2,3,3,2,4,1,3,6,3,3,14,4,4,3,2,1,3,2,1,3,1,5,1,1,4,1,2,2,2,1,3,2,1,1,1,1,2,6,5,4,1,3,1,8,3,14,5,1,3,4,4,3,5,5,1,2,3,1,3,2,5,3,1,5,2,2,8,4,8,4,1,1,1,1,2,20,4,3,1,1,5,2,5,7,8,4,3,3,1,1,4,1,1,1,2,5,3,6,1,3,1,1,1,2,1,4,2,4,5,1,1,3,2,1,3,2,1,3,3,1,3,5,4,1,2,1,1,3,3,2,4,2,3,2,7,3,1,3,13,1,1,1,7,3,1,8,1,1,6,3,3,4,1,2,2,2,1,2,2,2,5,1,3,2,1,1,1,6,4,4,6,5,3,2,1,6,2,6,2,3,3,1,3,1,1,5,3,7,2,8,1,1,3,1,1,2,2,3,2,20,16,1,1,2,1,1,11,3,5,4,2,5,1,1,1,1,5,8,17,23,1,2,5,2,8,9,1,1,2,1,2,1,3,7,2,8,3,2,5,5,3,2,7,7,1,2,2,2,7,2,1,4,5,10,1,1,2,3,4,2,2,1,1,2,5,1,4,1,3,2,11,1,2,7,5,3,3,8,1,1,1,1,4,2,1,2,2,3,5,2,7,13,1,3,1,1,3,7,8,3,4,6,4,3,1,1,1,2,3,1,1,1,4,9,8,4,2,1,1,1,7,4,5,2,1,1,5,1,2,3,1,4,4,4,2,3,2,1,1,1,2,1,6,1,3,1,1,3,1,2,1,1,1,1,3,1,4,2,1,1,1,1,1,2,2,1,3,1,2,4,3,1,7,2,5,1,2,4,1,1,1,2,1,1,1,1,1,1,2,1,4,13,4,4,1,1,2,2,1,3,1,1,1,1,1,4,13,14,3,6,5,5,2,4,1,4,2,1,1,2,4,5,2,6,3,2,3,2,1,3,2,1,1,1,1,1,2,5,4,1,4,1,2,13,3,1,3,9,9,1,1,2,1,3,1,1,1,3,1,2,1,1,9,1,1,8,3,1,2,2,2,1,1,1,1,1,2,3,1,1,1,3,1,3,3,1,2,2,3,2,6,2,4,1,1,1,1,10,1,1,2,1,1,1,1,1,1,1,1,1,2,3,1,2,1,5,1,4,5,6,2,4,2,2,2,2,1,2,1,1,1,2,3,5,2,2,3,3,4,2,4,1,2,1,2,2,1,1,3,5,7,5,1,2,1,1,2,1,2,1,2,1,6,1,1,5,1,1,1,1,1,3,2,2,4,3,1,1,1,1,1,1,1,1,1,4,2,1,2,1,1,1,1,1,2,2,2,1,1,1,1,1,2,1,1,1,1,2,2,3,1,1,5,3,4,1,2,1,3,1,1,1,2,1,1,5,5,1,2,3,5,1,1,1,2,1,1,2,1,1,3,1,3,1,2,1,9,2,8,1,4,3,1,3,1,1,2,2,1,2,1,3,3,2,4,1,3,3,2,1,3,1,1,1,1,1,3,3,1,1,2,1,1,1,1,3,1,2,2,6,1,1,2,3,3,2,1,2,4,3,3,2,1,1,3,1,1,1,1,2,1,1,2,1,1,1,1,2,1,1,1,1,2,4,2,2,2,1,2,1,1,1,1,1,5,3,2,4,2,4,1,1,1,3,2,1,1,7,2,1,1,1,1,1,1,1,1,1,1,1,3,2,1,1,2,1,1,1,1,1,1,1,1,2,1,1,1,3,1,1,1,1,1,1,1,1,2,1,5,2,1,3,1,1,1,1,1,6,2,1,1,1,1,1,1,2,1,2,2,1,1,1,2,3,1,5,2,1,2,1,3,3,2,1,1,2,1,1,3,1,1,1,1,1,1,1,1,2,1,1,1,1,1,3,1,1,2,3,2,1,2,1,1,1,1,1,1,1,2,1,2,6,1,1,1,1,1,4,1,1,1,1,1,1,1,1,1,3,1,1,1,4,1,3,2,1,2,2,1,1,2,1,1,1,1,1,1,1,1,2,5,1,1,4,3,1,1,5,1,1,2,1,2,2,1,2,1,1,1,1,1,1,4,1,2,1,1,1,1,1,1,2,3,1,1,1,1,1,1,1,2,1,1,1,1,2,2,1,1,1,1,3,1,1,3,1,1,1,1,3,1,2,1,1,2,2,1,1,1,1,1,1,1,2,5,1,11,1,1,2,1,1,1,1,1,2,2,1,1,1,2,1,1,1,4,1,1,1,2,1,1,1,1,1,1,1,1,1,2,1,1,2,1,1,1,1,1,2,1,1,1,1,1,1,1,1,1,1,1,1,2,1,1,1,1,1,1,1,2,1,1,1,1,1,1,1,1,2,6,1,1,2,1,2,1,1,1,1,1,2,1,1,1,1,1,1,1,2,1,1,1,1,1,1,1,1,1,1,1,1,1,2,2,2,2,2,1,3,1,1,1,1,1,1,1,1,2,4,1,1,1,2,2,2,1,2,1,1,1,1,1,1,1,1,1,1,2,1,1,1,1,2,1,1,1,1,1,1,1,2,1,2,1,2,1,2,1,1,1,1,1,2,1,1,1,1,1,2,1,1,1,1,1,1,1,1,2,1,3,1,1,1,1,1,1,1,1,1,3,1,1,1,1,1,1,1,2,1,1,1,1,1,1,1,1,1,1,1,1,1,1,2,1,1,1,1,1,1,1,1,1,1,1,1,1,1,1,1,1,1,1,1,1,1,1,1,1,1,1,1,1,1,1,1,1,1,1],\"coloraxis\":\"coloraxis\",\"size\":[2,7,22,101,68,9,15,37,27,15,10,70,8,56,90,48,54,15,84,226,47,40,6,32,245,8,4,10,85,14,71,10,43,87,216,1526,259,112,45,40,30,79,9,12,50,22,220,15,40,3,2,6,20,1,1,21,90,86,48,41,32,32,17,190,8,9,8,33,25,12,42,90,334,36,3,25,53,86,97,250,6,7,8,8,5,9,3,47,97,162,863,155,46,36,17,103,4,34,30,101,38,3,18,141,135,19,32,83,58,18,74,78,26,21,51,45,165,67,125,111,26,8,6,12,19,16,1,2,5,1,9,2,4,21,143,29,63,15,26,9,16,40,32,3,8,41,32,31,33,157,13,40,8,88,51,525,150,31,69,206,99,29,42,3,1,1,3,21,35,139,71,294,281,23,40,84,152,7,72,2,1,168,78,50,86,36,147,30,1,1,18,209,20,115,764,30,20,91,67,12,20,2,95,62,51,43,90,127,81,42,53,30,1,6,7,9,6,18,14,197,116,25,4,14,16,90,4,25,45,184,162,118,37,176,212,293,290,51,152,77,52,109,115,31,33,23,8,19,8,13,60,24,32,12,1,37,42,13,261,58,58,58,66,57,53,95,35,7,11,77,26,12,72,1,38,16,133,109,52,112,23,32,8,9,54,2,7,10,46,47,9,6,1,1,4,4,1,1,39,84,22,181,6,9,31,40,19,33,21,15,7,50,5,105,136,33,36,4,14,39,20,22,4,57,5,4,42,43,75,49,17,52,2,15,91,1,5,44,1,1,1,5,2,16,85,49,8,9,1,1,1,5,29,5,1,4,12,208,282,2,12,46,131,33,1,1,6,13,40,34,22,1,1,1,1,19,2,35,12,7,15,19,18,95,45,12,23,55,41,26,361,25,19,12,72,52,77,28,22,6,18,82,60,52,85,38,103,63,34,68,105,150,48,77,17,1,86,57,20,7,23,46,47,84,22,16,25,59,48,25,30,231,324,226,29,5,21,256,10,60,54,53,54,35,6,79,2,6,5,5,12,83,41,40,7,2,30,116,26,5,54,13,7,15,32,157,221,158,93,61,30,65,78,1,1,25,3,27,9,15,27,16,185,44,124,103,17,189,68,28,30,49,45,10,3,8,38,9,15,28,31,8,4,53,2,4,1,2,25,11,34,35,52,46,17,6,13,3,1,13,3,21,26,24,323,13,14,7,6,5,34,94,55,130,42,62,142,20,2,1,6,33,19,2,8,55,14,77,24,5,4,7,59,111,39,17,8,7,21,56,32,9,48,45,22,12,173,67,3,2,45,12,26,25,23,16,90,68,33,66,4,13,100,13,91,12,15,59,18,56,28,25,11,6,18,27,23,57,12,45,79,27,1,18,9,5,6,12,15,15,25,30,24,14,17,24,13,11,134,3,157,93,67,8,78,39,21,6,7,95,57,7,49,4,1,4,141,36,14,17,25,147,120,18,8,9,48,124,1,25,97,26,9,9,7,3,6,2,61,4,3,18,57,42,6,3,54,52,12,42,12,2,14,94,2,22,28,5,12,166,3,1,19,50,16,5,32,10,122,136,19,38,3,30,20,191,195,8,30,10,5,42,15,25,7,13,82,29,34,8,16,34,78,15,25,77,84,20,11,64,44,18,24,9,3,130,57,4,6,13,10,90,7,3,17,10,27,146,21,6,94,14,5,29,57,28,39,150,12,24,76,26,16,100,3,17,100,28,129,35,18,32,13,19,39,1,2,1,1,1,2,20,12,28,12,16,52,18,12,40,14,8,19,19,97,42,4,12,8,39,30,62,8,17,27,17,14,277,19,48,42,19,88,9,13,13,12,22,59,80,25,96,8,3,4,6,42,5,45,65,10,5,20,9,32,68,10,2,3,44,19,16,8,1,4,4,17,38,45,33,17,162,31,43,41,93,13,82,79,12,11,68,63,94,7,63,3,6,56,54,44,55,21,54,3,82,4,9,9,7,10,138,170,44,65,21,18,3,6,3,3,10,11,12,6,7,25,40,96,21,5,37,18,11,10,166,38,7,27,80,170,8,35,8,20,7,23,20,39,1,2,15,12,11,9,21,2,2,6,8,11,13,5,8,36,99,19,16,4,31,109,3,11,4,20,21,41,249,19,83,9,23,30,3,24,8,8,1,2,13,10,15,52,20,12,1,5,3,2,42,61,20,8,1,24,12,5,13,4,12,126,5,2,7,37,18,112,127,5,31,32,22,1,24,29,27,4,17,12,18,5,9,14,5,36,109,74,207,33,1,1,3,1,3,1,2,1,10,44,27,2,23,3,22,39,52,16,18,5,5,7,6,14,9,28,13,16,32,22,46,27,5,30,19,7,74,28,4,5,3,2,55,18,27,24,59,55,6,12,30,3,27,4,14,14,3,81,18,25,12,58,3,5,50,4,20,82,40,57,4,1,13,31,19,7,28,23,2,6,113,17,17,46,34,6,2,11,16,14,2,35,133,87,12,35,11,42,16,1,1,3,20,5,157,5,6,106,31,11,2,16,6,12,2,70,100,34,68,79,32,20,16,17,6,22,24,136,1,6,24,38,1,8,28,50,38,3,31,27,12,25,27,47,35,3,4,15,8,67,5,2,11,162,48,38,35,71,15,14,60,16,1,8,20,13,31,32,25,46,33,9,32,22,32,7,7,10,8,15,5,37,76,12,58,101,30,5,45,18,52,53,15,62,14,23,12,25,20,6,135,9,45,23,6,13,15,13,3,5,37,26,48,17,1,8,8,37,79,32,37,6,6,6,102,50,18,28,42,1,5,17,12,50,24,91,3,19,11,3,1,8,21,21,18,23,6,16,13,33,51,4,42,4,8,5,27,29,13,63,29,41,11,12,11,10,23,43,26,91,8,22,34,44,138,37,33,21,15,16,7,4,13,16,14,6,10,15,15,13,3,2,5,5,23,26,13,15,34,22,15,31,10,58,47,21,55,22,5,5,17,36,8,1,8,4,42,54,5,29,4,8,5,12,3,8,40,7,27,7,10,16,13,3,12,20,12,13,21,13,33,21,16,2,25,11,11,22,18,18,4,24,77,17,1,5,5,35,17,4,61,43,15,1,57,1,14,13,7,30,6,55,43,15,5,9,12,29,5,19,10,15,26,13,10,9,138,1,4,9,1,9,7,13,1,11,39,1,1,45,7,18,14,4,11,5,135,171,2,33,3,16,9,5,9,7,15,11,85,83,91,12,36,10,3,1,50,35,4,32,9,11,1,15,15,19,2,11,77,12,9,16,56,31,72,5,12,24,1,1,3,5,24,11,51,21,1,2,3,3,45,5,3,17,24,12,3,2,7,101,20,1,1,1,3,9,33,16,69,84,62,3,77,36,109,22,10,10,7,15,21,18,10,27,7,2,3,6,9,5,81,2,13,17,17,10,146,12,13,3,19,14,6,6,14,30,25,18,18,7,36,38,42,72,18,32,27,14,44,14,24,6,4,8,26,57,9,28,39,11,24,29,6,1,17,42,42,18,5,12,51,40,16,3,1,1,6,6,24,4,21,11,4,47,22,30,96,4,4,15,30,4,15,7,2,7,28,9,28,12,42,22,5,5,3,9,43,6,9,16,60,6,64,72,38,22,77,59,67,13,2,10,16,13,20,3,4,5,17,11,5,2,1,25,17,7,10,90,22,15,8,2,3,11,5,4,18,24,8,13,20,4,8,8,4,5,1,4,7,8,20,12,13,14,3,4,9,2,4,1,3,57,28,10,9,47,81,7,16,65,2,7,26,43,53,40,47,8,25,3,1,16,6,13,15,23,12,10,14,14,13,16,2,41,11,9,162,5,13,7,82,5,31,3,35,8,3,3,42,3,23,27,18,78,19,11,5,14,10,7,15,23,3,25,15,2,2,1,9,8,5,6,2,2,32,20,5,21,19,19,12,20,5,8,13,13,52,9,5,2,1,3,67,8,18,1,1,1,17,25,36,2,1,12,63,49,4,5,19,74,43,12,3,8,6,2,9,1,9,40,19,16,9,15,21,8,16,26,18,5,10,37,8,11,17,5,14,17,3,13,33,27,85,32,12,35,84,7,4,30,5,20,51,8,35,2,16,55,3,5,16,15,23,5,4,2,7,60,3,3,48,1,7,20,9,2,13,5,3,15,4,6,47,1,2,15,6,52,13,7,4,3,3,3,32,41,31,5,6,15,48,9,10,14,3,3,18,3,2,30,12,3,2,37,22,5,2,8,10,13,6,5,13,4,47,29,31,1,13,2,45,36,51,12,3,3,1,9,2,4,14,26,59,18,23,18,18,26,4,23,20,28,40,19,18,31,63,15,1,3,3,4,3,3,11,13,19,6,21,1,14,50,31,15,9,14,19,43,4,24,20,4,5,6,19,22,137,25,33,9,23,23,24,12,10,13,22,43,11,6,49,18,8,2,8,11,15,7,38,4,42,9,4,3,11,4,4,4,14,5,14,6,11,6,15,18,19,1,1,39,2,5,11,11,1,1,10,4,1,20,4,11,12,48,2,1,8,16,8,19,29,19,34,82,1,5,2,8,40,36,7,7,9,2,21,20,5,27,20,15,5,10,4,1,1,5,11,15,12,2,1,11,12,11,16,34,24,19,13,6,72,2,17,3,2,13,19,9,8,8,22,2,10,15,17,9,30,75,1,51,13,5,12,31,27,4,14,22,2,10,8,9,5,23,5,2,2,30,3,4,21,14,1,10,12,13,9,4,5,4,7,29,2,15,1,18,22,43,1,3,2,2,9,1,14,21,4,5,5,10,3,19,10,25,4,74,9,8,15,4,16,24,95,10,10,6,44,6,19,27,11,10,5,13,13,29,3,9,8,39,18,10,15,51,33,23,56,18,13,7,1,10,10,14,6,42,20,55,8,31,5,2,13,2,17,8,18,23,141,28,21,35,15,6,34,3,24,5,6,5,6,3,8,35,4,6,16,18,14,30,7,18,24,4,3,12,2,4,3,8,3,25,25,24,4,7,5,6,6,45,9,15,48,8,1,3,3,14,23,1,5,5,47,5,76,11,17,3,39,7,24,19,9,15,21,33,10,22,25,40,38,13,33,3,4,2,4,5,5,37,2,1,1,42,15,3,5,15,33,19,25,30,14,2,10,32,1,5,36,6,3,25,7,13,34,33,30,55,13,7,2,2,5,22,12,12,48,11,8,1,1,22,49,6,3,10,7,8,13,49,2,3,4,25,2,1,23,7,4,8,5,11,8,7,5,3,10,23,30,34,11,39,2,23,25,31,5,2,17,4,1,11,2,12,2,17,30,4,5,12,11,11,4,9,7,14,1,4,21,10,4,7,2,23,5,5,4,7,1,2,4,5,4,14,12,9,2,30,2,26,19,8,10,6,2,14,6,10,3,4,9,12,7,3,5,9,14,8,14,6,16,12,14,10,12,5,36,2,5,1,2,9,7,41,11,6,5,16,58,7,7,36,5,9,14,12,25,29,6,12,7,11,13,5,9,7,6,4,11,3,10,11,2,20,9,6,3,4,3,8,23,26,5,1,2,6,36,1,20,1,2,9,20,13,9,17,9,7,36,16,1,7,22,7,1,12,2,3,6,1,1,8,6,3,9,8,3,17,1,1,8,1,8,3,1,1,1,2,26,9,6,4,4,5,22,2,6,4,6,10,13,13,26,13,1,6,6,28,31,13,3,10,6,14,4,11,16,17,29,2,8,24,5,5,8,3,9,20,12,8,9,24,11,7,2,4,2,9,8,11,9,13,8,10,6,4,17,6,4,3,3,5,6,31,29,11,29,14,42,12,14,15,31,2,24,11,4,15,3,17,14,1,6,6,13,2,13,26,28,29,26,46,2,14,9,5,12,1,3,7,2,38,5,10,4,4,23,6,1,4,16,34,59,9,43,9,4,4,18,46,5,4,11,8,8,30,9,4,9,5,9,8,5,1,1,3,5,21,2,2,31,3,5,7,3,20,23,37,3,7,10,3,9,1,3,78,4,5,11,3,7,7,32,23,1,3,31,6,23,2,2,72,18,10,25,22,1,1,17,8,43,50,16,3,9,11,6,13,16,1,36,18,7,2,8,1,2,1,1,4,3,12,4,2,2,1,1,12,3,3,8,8,1,8,4,4,4,9,18,1,19,13,4,25,2,3,21,22,3,1,21,11,2,3,2,2,5,10,7,23,9,1,3,20,13,11,10,10,23,16,5,3,8,10,4,2,5,11,5,2,14,4,1,3,8,5,5,3,36,2,7,19,13,8,6,2,4,20,4,21,43,2,6,11,8,2,45,7,1,8,3,4,6,2,8,3,2,3,2,20,5,25,7,32,6,15,3,6,3,2,1,5,5,13,15,8,11,7,3,34,30,2,4,1,4,8,5,7,2,6,1,2,4,3,22,3,6,4,10,1,22,6,18,16,10,3,7,3,12,5,1,1,1,17,2,4,4,6,5,5,3,18,2,1,2,4,4,3,18,10,4,12,4,3,2,7,2,15,11,15,8,19,4,9,1,11,15,2,4,16,10,14,26,1,4,13,3,7,15,8,5,5,2,4,5,9,7,5,27,2,10,13,3,3,11,4,6,5,12,15,12,6,7,16,10,7,2,8,5,2,7,15,4,18,5,6,13,39,2,15,6,3,5,7,36,29,26,2,2,17,3,14,24,9,5,28,14,4,5,9,2,2,2,7,19,4,2,3,7,18,6,4,5,6,8,1,16,2,2,13,3,18,1,9,5,1,18,2,7,11,1,4,12,2,4,12,20,5,4,3,8,2,10,2,9,6,2,6,2,4,20,17,1,9,4,11,10,2,12,28,10,7,9,3,4,2,7,2,17,24,1,8,6,10,1,2,2,5,2,9,6,1,6,15,8,3,1,1,6,6,17,18,17,1,1,15,1,2,2,10,2,3,16,7,1,21,6,4,3,9,15,17,1,10,3,4,2,16,1,2,1,4,12,36,1,1,4,16,3,5,1,1,2,8,3,6,4,2,2,2,2,17,8,3,20,20,1,1,3,2,4,2,6,10,10,7,1,3,5,4,15,4,5,2,30,6,4,8,5,3,8,2,11,3,20,8,3,2,5,1,2,5,3,1,1,1,3,3,1,5,6,1,1,2,1,3,4,2,2,12,1,17,5,8,3,9,6,4,1,8,6,10,17,2,1,5,18,3,10,6,7,5,3,7,5,15,2,7,3,6,5,14,25,7,5,3,2,1,1,17,11,1,8,1,1,13,15,6,2,4,9,7,1,21,6,5,9,6,1,7,7,10,1,8,4,12,4,2,9,3,7,4,3,2,14,1,12,4,12,16,7,9,2,3,7,3,2,4,3,5,14,16,1,1,1,1,7,1,6,6,1,9,5,16,2,1,7,18,1,2,1,11,7,14,1,5,8,1,8,10,3,2,5,4,5,3,6,9,2,27,5,7,16,1,1,1,1,3,1,5,9,7,2,6,8,1,3,18,1,10,8,4,2,3,3,2,4,2,1,1,1,2,2,9,3,13,11,1,8,5,1,3,4,6,2,13,3,6,3,1,5,1,2,12,9,9,1,14,9,13,1,8,1,2,8,2,2,5,1,2,4,4,5,12,1,1,5,2,4,12,5,7,21,7,3,1,5,6,2,7,4,4,3,1,2,3,5,1,1,7,3,4,1,5,1,1,6,2,5,3,5,6,3,1,2,12,4,2,7,1,5,22,7,3,1,17,2,4,4,14,3,1,10,2,2,1,1,9,4,6,5,2,1,2,3,8,3,3,5,20,2,4,3,3,2,2,3,4,3,2,5,6,1,3,2,5,15,5,3,1,1,5,8,9,1,1,1,8,11,2,5,16,5,4,5,6,4,2,1,4,5,1,1,6,1,2,5,4,9,4,2,2,3,7,13,1,1,18,3,6,15,4,7,3,7,1,2,1,1,1,9,1,12,15,12,7,3,9,10,3,18,2,2,5,4,2,2,4,7,7,8,4,4,1,1,7,4,11,11,1,1,1,4,1,1,4,3,5,4,1,5,2,4,4,3,1,4,1,5,2,1,8,5,4,1,5,1,10,9,5,1,2,9,2,1,6,1,1,10,3,1,1,1,4,3,7,3,4,7,4,2,2,3,4,2,3,1,3,1,3,3,4,3,6,12,6,4,1,2,2,13,8,3,1,2,6,2,1,5,18,2,5,2,1,7,4,3,5,5,13,3,1,4,5,3,8,3,4,4,3,1,2,5,1,1,8,23,24,1,2,7,3,5,4,4,4,4,5,5,13,2,5,4,1,6,13,2,8,1,5,3,1,2,6,2,1,1,1,1,3,2,2,8,7,2,5,6,4,4,5,7,1,3,9,1,9,13,2,2,12,1,6,1,7,4,2,1,7,2,2,1,6,5,12,1,6,2,3,2,4,1,1,3,2,2,1,3,3,7,3,5,1,10,7,1,2,2,4,2,7,1,1,7,2,2,1,3,14,1,6,4,4,1,6,2,1,2,3,4,2,8,7,1,1,1,3,7,5,4,3,4,2,3,3,8,2,3,2,2,2,3,1,3,3,2,7,8,4,1,1,6,1,1,3,1,1,2,3,3,2,4,1,3,6,3,3,14,4,4,3,2,1,3,2,1,3,1,5,1,1,4,1,2,2,2,1,3,2,1,1,1,1,2,6,5,4,1,3,1,8,3,14,5,1,3,4,4,3,5,5,1,2,3,1,3,2,5,3,1,5,2,2,8,4,8,4,1,1,1,1,2,20,4,3,1,1,5,2,5,7,8,4,3,3,1,1,4,1,1,1,2,5,3,6,1,3,1,1,1,2,1,4,2,4,5,1,1,3,2,1,3,2,1,3,3,1,3,5,4,1,2,1,1,3,3,2,4,2,3,2,7,3,1,3,13,1,1,1,7,3,1,8,1,1,6,3,3,4,1,2,2,2,1,2,2,2,5,1,3,2,1,1,1,6,4,4,6,5,3,2,1,6,2,6,2,3,3,1,3,1,1,5,3,7,2,8,1,1,3,1,1,2,2,3,2,20,16,1,1,2,1,1,11,3,5,4,2,5,1,1,1,1,5,8,17,23,1,2,5,2,8,9,1,1,2,1,2,1,3,7,2,8,3,2,5,5,3,2,7,7,1,2,2,2,7,2,1,4,5,10,1,1,2,3,4,2,2,1,1,2,5,1,4,1,3,2,11,1,2,7,5,3,3,8,1,1,1,1,4,2,1,2,2,3,5,2,7,13,1,3,1,1,3,7,8,3,4,6,4,3,1,1,1,2,3,1,1,1,4,9,8,4,2,1,1,1,7,4,5,2,1,1,5,1,2,3,1,4,4,4,2,3,2,1,1,1,2,1,6,1,3,1,1,3,1,2,1,1,1,1,3,1,4,2,1,1,1,1,1,2,2,1,3,1,2,4,3,1,7,2,5,1,2,4,1,1,1,2,1,1,1,1,1,1,2,1,4,13,4,4,1,1,2,2,1,3,1,1,1,1,1,4,13,14,3,6,5,5,2,4,1,4,2,1,1,2,4,5,2,6,3,2,3,2,1,3,2,1,1,1,1,1,2,5,4,1,4,1,2,13,3,1,3,9,9,1,1,2,1,3,1,1,1,3,1,2,1,1,9,1,1,8,3,1,2,2,2,1,1,1,1,1,2,3,1,1,1,3,1,3,3,1,2,2,3,2,6,2,4,1,1,1,1,10,1,1,2,1,1,1,1,1,1,1,1,1,2,3,1,2,1,5,1,4,5,6,2,4,2,2,2,2,1,2,1,1,1,2,3,5,2,2,3,3,4,2,4,1,2,1,2,2,1,1,3,5,7,5,1,2,1,1,2,1,2,1,2,1,6,1,1,5,1,1,1,1,1,3,2,2,4,3,1,1,1,1,1,1,1,1,1,4,2,1,2,1,1,1,1,1,2,2,2,1,1,1,1,1,2,1,1,1,1,2,2,3,1,1,5,3,4,1,2,1,3,1,1,1,2,1,1,5,5,1,2,3,5,1,1,1,2,1,1,2,1,1,3,1,3,1,2,1,9,2,8,1,4,3,1,3,1,1,2,2,1,2,1,3,3,2,4,1,3,3,2,1,3,1,1,1,1,1,3,3,1,1,2,1,1,1,1,3,1,2,2,6,1,1,2,3,3,2,1,2,4,3,3,2,1,1,3,1,1,1,1,2,1,1,2,1,1,1,1,2,1,1,1,1,2,4,2,2,2,1,2,1,1,1,1,1,5,3,2,4,2,4,1,1,1,3,2,1,1,7,2,1,1,1,1,1,1,1,1,1,1,1,3,2,1,1,2,1,1,1,1,1,1,1,1,2,1,1,1,3,1,1,1,1,1,1,1,1,2,1,5,2,1,3,1,1,1,1,1,6,2,1,1,1,1,1,1,2,1,2,2,1,1,1,2,3,1,5,2,1,2,1,3,3,2,1,1,2,1,1,3,1,1,1,1,1,1,1,1,2,1,1,1,1,1,3,1,1,2,3,2,1,2,1,1,1,1,1,1,1,2,1,2,6,1,1,1,1,1,4,1,1,1,1,1,1,1,1,1,3,1,1,1,4,1,3,2,1,2,2,1,1,2,1,1,1,1,1,1,1,1,2,5,1,1,4,3,1,1,5,1,1,2,1,2,2,1,2,1,1,1,1,1,1,4,1,2,1,1,1,1,1,1,2,3,1,1,1,1,1,1,1,2,1,1,1,1,2,2,1,1,1,1,3,1,1,3,1,1,1,1,3,1,2,1,1,2,2,1,1,1,1,1,1,1,2,5,1,11,1,1,2,1,1,1,1,1,2,2,1,1,1,2,1,1,1,4,1,1,1,2,1,1,1,1,1,1,1,1,1,2,1,1,2,1,1,1,1,1,2,1,1,1,1,1,1,1,1,1,1,1,1,2,1,1,1,1,1,1,1,2,1,1,1,1,1,1,1,1,2,6,1,1,2,1,2,1,1,1,1,1,2,1,1,1,1,1,1,1,2,1,1,1,1,1,1,1,1,1,1,1,1,1,2,2,2,2,2,1,3,1,1,1,1,1,1,1,1,2,4,1,1,1,2,2,2,1,2,1,1,1,1,1,1,1,1,1,1,2,1,1,1,1,2,1,1,1,1,1,1,1,2,1,2,1,2,1,2,1,1,1,1,1,2,1,1,1,1,1,2,1,1,1,1,1,1,1,1,2,1,3,1,1,1,1,1,1,1,1,1,3,1,1,1,1,1,1,1,2,1,1,1,1,1,1,1,1,1,1,1,1,1,1,2,1,1,1,1,1,1,1,1,1,1,1,1,1,1,1,1,1,1,1,1,1,1,1,1,1,1,1,1,1,1,1,1,1,1,1],\"sizemode\":\"area\",\"sizeref\":3.815,\"symbol\":\"circle\"},\"mode\":\"markers\",\"name\":\"\",\"scene\":\"scene\",\"showlegend\":false,\"x\":[8,3,7,17,8,19,8,17,0,18,7,19,17,0,17,0,13,6,4,3,19,7,20,18,5,14,17,1,0,19,19,11,4,14,13,19,7,4,18,0,2,17,4,3,15,11,0,8,13,14,13,10,20,17,20,10,18,7,4,0,18,0,24,18,0,13,9,0,24,0,24,22,7,0,19,22,17,14,20,6,7,19,12,24,15,4,14,15,11,4,0,13,7,4,15,13,3,0,21,0,18,24,0,22,7,4,13,7,4,1,4,7,4,11,7,4,7,14,18,19,14,5,0,18,17,0,9,0,3,20,17,24,14,3,7,0,13,0,19,14,3,17,14,13,0,3,17,4,22,13,3,18,15,0,10,4,4,18,4,22,14,17,3,18,0,7,6,17,20,18,4,19,7,8,18,11,8,13,7,14,22,0,18,19,19,8,18,13,3,20,5,8,7,19,8,13,6,12,4,13,4,12,11,4,3,1,24,4,18,14,13,14,5,3,17,20,15,0,3,0,19,7,24,18,2,7,14,11,0,17,8,7,22,0,17,7,4,17,4,8,13,18,19,13,3,0,13,10,4,3,2,7,8,4,5,11,8,10,4,0,17,9,20,13,0,4,19,14,1,7,8,12,0,5,18,1,4,13,3,4,17,14,5,1,14,22,18,21,17,0,19,0,24,20,24,20,3,0,4,12,13,4,13,19,20,15,14,13,8,18,2,0,17,17,8,7,19,4,19,2,7,4,10,8,13,10,0,18,8,18,19,14,20,19,11,17,3,15,17,20,9,8,19,10,20,13,19,8,1,7,14,9,18,0,8,21,0,22,8,7,7,0,12,0,13,24,20,3,20,19,19,12,0,20,9,18,20,1,7,0,7,8,11,3,13,3,0,3,8,18,0,11,11,5,0,12,4,3,11,11,12,14,13,19,4,3,7,4,8,17,18,7,8,13,13,6,2,7,17,8,14,19,13,14,20,17,18,8,3,19,14,14,19,7,14,20,1,4,5,1,17,0,7,0,13,18,4,4,4,23,2,4,11,11,13,5,18,2,14,12,14,5,12,24,13,4,22,14,18,4,13,12,4,18,8,9,14,24,19,14,2,13,19,24,18,4,11,5,7,4,5,17,18,4,13,18,12,0,10,0,17,13,0,10,17,8,15,0,5,8,4,17,2,8,13,7,19,21,8,13,0,0,18,22,19,0,13,13,4,23,19,19,18,18,19,14,13,6,18,0,20,12,19,19,8,19,7,5,20,11,13,24,12,14,17,4,21,11,8,0,13,3,19,17,8,4,17,4,0,3,8,18,3,0,14,3,4,14,17,12,8,17,10,6,4,2,7,19,7,8,18,22,4,0,13,6,0,18,15,4,3,2,7,18,10,8,11,20,8,11,3,4,10,18,19,4,4,12,18,20,11,4,18,22,18,17,4,12,0,14,11,3,13,3,12,0,5,13,6,8,18,14,13,6,14,6,7,0,21,4,0,17,4,20,17,2,0,15,19,13,18,13,7,12,13,10,18,15,17,15,4,11,15,7,4,24,12,0,24,13,14,22,1,11,14,22,12,24,11,11,18,8,6,0,11,14,7,4,0,4,3,13,6,19,7,1,17,19,14,22,4,11,14,17,14,11,13,6,0,20,13,3,19,14,11,8,14,13,18,17,14,19,17,20,12,15,4,19,4,17,1,11,4,22,7,4,6,4,0,19,2,14,13,4,13,14,8,18,4,14,5,8,19,4,19,20,12,18,2,24,1,0,11,13,3,6,13,3,7,14,17,13,18,1,13,19,14,18,20,3,3,4,13,2,11,0,20,18,11,18,14,5,13,3,19,4,15,19,18,20,2,7,4,19,20,12,20,11,19,4,4,13,12,7,19,4,4,13,8,17,14,5,6,11,3,24,14,4,3,19,7,22,7,8,19,18,19,4,4,3,18,14,22,6,8,11,11,18,18,7,4,6,14,3,0,18,3,4,13,19,7,10,13,14,19,4,3,11,14,2,10,8,18,2,7,0,17,21,3,4,6,13,19,18,1,14,13,13,0,4,8,0,18,11,14,20,3,6,8,5,19,12,4,17,17,8,22,14,11,5,1,11,12,22,11,17,3,13,3,3,8,7,17,0,8,12,4,4,18,18,14,13,3,3,0,7,19,11,11,21,8,2,19,14,17,24,18,21,14,8,2,13,3,10,20,11,4,22,18,17,8,11,11,2,4,22,13,3,0,0,3,4,21,2,4,3,6,12,1,3,4,2,13,3,8,15,8,13,2,18,8,10,3,19,24,20,12,13,19,18,0,19,24,0,7,4,20,13,20,1,3,20,4,3,13,18,14,17,14,5,19,7,0,3,11,17,11,11,4,22,20,3,18,7,4,11,13,6,7,14,14,10,8,17,5,14,4,13,17,19,18,19,7,16,20,7,4,6,4,0,21,13,19,22,0,11,13,6,18,18,4,19,18,13,6,22,18,17,0,22,13,14,19,14,1,20,13,13,6,13,1,0,6,18,0,13,7,4,12,10,4,24,19,14,7,4,3,8,21,4,14,4,4,17,3,17,8,3,0,13,13,19,14,24,14,4,17,14,15,4,6,3,1,19,22,8,17,12,8,18,8,22,14,20,3,4,22,11,7,20,4,22,4,12,19,18,11,0,24,8,13,0,17,18,0,17,1,8,17,13,19,14,17,18,20,14,13,14,3,11,19,7,19,7,18,13,14,1,4,18,13,20,11,20,18,1,24,13,0,15,17,0,24,3,19,0,19,21,4,13,11,24,17,14,21,4,1,17,7,19,0,17,13,6,8,19,18,12,8,11,10,3,12,0,0,8,17,3,4,4,10,24,7,24,4,20,4,2,4,12,0,17,2,7,13,18,14,5,14,18,3,18,8,17,4,20,2,3,1,17,13,20,13,8,13,11,0,3,13,4,15,22,12,8,23,7,5,8,7,3,11,17,3,0,19,4,4,14,15,15,18,2,7,19,7,17,14,22,13,17,4,11,19,7,15,8,19,8,11,4,18,8,11,12,14,17,12,14,13,17,14,5,20,8,13,12,24,12,1,17,18,5,0,8,11,12,19,13,6,20,7,18,7,4,11,18,12,24,1,3,24,13,3,12,24,7,0,17,18,7,14,17,17,14,17,17,12,12,24,0,3,11,8,15,18,6,8,21,6,14,3,11,22,0,5,4,21,17,20,24,19,14,0,17,17,11,24,4,11,8,5,13,12,14,22,13,3,13,19,6,3,14,8,18,21,22,14,13,3,22,8,11,8,18,14,19,14,3,21,14,3,2,13,13,6,12,12,20,19,20,11,11,0,7,4,11,14,8,0,19,17,8,12,15,3,3,14,8,0,19,13,4,0,4,0,20,18,0,11,24,22,13,14,0,17,24,0,13,6,11,7,6,14,0,17,8,7,18,15,14,8,11,11,3,15,8,17,20,11,17,4,14,13,19,0,5,5,4,11,5,12,4,19,1,19,7,2,3,17,14,17,18,10,0,13,0,4,3,15,14,22,4,17,4,22,4,2,8,20,18,5,0,22,3,18,7,11,0,4,4,4,10,14,24,20,14,13,14,22,14,0,3,20,20,0,11,17,19,14,6,4,14,5,7,4,14,17,3,13,22,12,2,7,18,4,8,25,0,7,11,14,12,18,18,19,3,1,20,6,20,18,7,13,0,4,24,1,4,20,8,11,22,11,11,14,22,19,24,8,17,7,13,11,14,13,18,8,5,5,17,13,3,0,19,15,0,2,12,19,21,0,14,17,8,5,3,3,1,1,24,11,3,22,18,13,4,4,17,11,11,14,5,13,6,11,13,18,14,22,13,13,8,11,3,14,22,7,2,17,8,12,7,15,4,11,3,5,4,4,20,5,4,13,17,0,1,24,22,5,17,8,13,20,20,18,3,15,8,4,4,18,13,4,6,11,4,2,19,24,23,13,19,18,8,12,19,24,7,12,18,14,22,13,3,2,6,0,3,15,18,6,6,15,14,5,2,6,0,11,11,14,0,0,19,8,11,14,18,14,19,18,3,14,14,12,1,24,22,8,19,13,0,2,11,14,12,8,17,11,5,2,1,6,17,4,5,14,5,5,20,13,17,0,11,2,7,4,17,5,19,20,17,14,11,24,7,24,12,4,0,13,5,14,11,10,3,11,21,11,24,7,14,21,13,4,21,5,0,11,4,17,12,19,8,12,5,4,12,14,13,3,1,17,4,24,7,0,5,14,22,22,18,14,6,4,19,22,14,10,18,3,11,4,11,22,18,2,10,7,8,7,0,6,21,19,0,8,20,21,0,3,4,1,14,10,19,5,0,8,24,0,8,12,5,7,12,2,6,4,5,4,24,17,3,8,12,4,17,4,17,0,3,0,10,10,7,6,6,20,12,4,11,17,21,4,15,7,14,5,8,17,19,20,20,1,8,4,18,8,19,7,24,8,12,5,2,17,3,10,4,20,17,6,7,24,14,14,22,0,13,8,7,5,12,0,14,13,0,14,4,1,7,7,8,15,20,17,11,13,17,19,14,11,4,6,17,0,4,21,8,13,2,7,19,18,3,19,11,24,20,17,21,4,0,7,7,14,22,1,14,17,21,0,13,16,4,14,13,19,21,6,8,13,19,24,11,19,1,24,20,1,14,4,7,18,17,0,3,19,17,20,3,12,19,0,24,17,13,8,22,11,5,17,4,5,8,4,5,0,0,5,6,14,19,18,14,12,17,4,19,2,22,4,15,19,15,8,6,19,18,19,18,20,8,18,13,14,5,11,20,0,10,0,2,22,14,12,19,17,0,19,13,0,19,20,14,13,13,4,17,0,14,14,1,3,17,5,19,3,7,21,0,22,18,5,12,13,5,13,2,24,3,6,18,17,0,8,6,18,3,6,3,5,17,4,0,14,7,4,17,17,5,4,13,2,18,22,13,3,14,3,11,1,0,8,19,18,20,11,14,12,0,11,12,3,4,18,14,3,8,5,5,19,5,3,19,4,23,17,17,2,4,0,2,2,20,1,14,12,17,20,2,11,4,8,14,13,4,8,13,14,20,18,4,5,11,4,17,18,15,8,13,4,18,18,7,0,0,8,13,10,14,8,0,12,13,7,5,8,1,19,11,11,13,4,12,18,1,6,18,18,12,8,7,3,19,19,11,22,4,23,7,0,5,18,17,11,7,24,21,2,3,14,11,0,24,13,4,24,20,17,18,13,6,11,24,18,14,15,7,11,24,19,17,1,5,19,14,19,4,5,5,5,12,4,8,17,19,4,11,12,3,17,11,4,3,20,13,0,11,8,11,13,4,5,5,7,19,11,4,13,18,18,19,21,22,14,20,4,22,4,22,18,12,14,20,4,5,18,5,3,3,5,17,0,11,4,6,20,13,19,6,14,22,20,11,0,17,17,11,18,19,12,11,5,5,8,2,11,1,3,20,17,19,8,0,6,4,17,22,19,6,24,2,7,4,4,2,20,18,20,4,7,24,17,1,3,20,7,24,12,19,17,19,8,0,0,0,17,7,0,15,15,14,12,24,5,18,22,8,17,14,17,12,6,19,24,19,14,21,13,20,20,13,11,3,17,8,24,8,5,7,24,20,7,24,0,18,20,8,3,18,19,18,10,6,14,11,11,0,0,12,24,6,14,6,12,14,5,14,14,4,4,12,18,19,4,0,7,14,0,3,13,2,17,15,4,14,12,2,7,20,20,0,19,11,17,21,20,18,11,17,13,6,20,11,0,17,6,18,19,24,13,3,11,4,20,5,8,13,11,2,19,4,7,24,17,4,14,17,13,8,17,17,20,3,4,6,17,7,11,13,10,7,24,8,11,14,4,6,24,14,6,6,11,19,24,0,1,3,14,5,7,13,14,4,13,15,13,18,4,0,7,24,4,0,24,0,5,7,5,6,11,0,18,13,15,20,6,4,19,7,14,23,14,8,3,11,22,4,6,17,4,10,4,5,20,14,3,12,13,2,22,7,14,10,13,21,20,18,18,11,12,2,2,17,0,5,8,23,14,5,11,11,14,14,12,2,4,4,19,4,5,14,18,5,19,18,11,8,18,3,5,13,14,10,13,10,15,18,11,18,13,0,22,23,19,13,24,22,8,20,18,11,11,5,12,14,19,21,13,20,2,24,19,6,11,4,12,13,3,19,20,11,1,19,8,18,14,6,19,24,19,18,18,0,17,7,13,6,10,5,20,6,22,20,17,17,5,21,18,3,6,1,12,11,7,17,2,2,4,1,3,19,4,15,1,15,14,7,5,24,8,7,0,6,11,24,18,6,7,5,13,0,3,14,2,11,6,17,5,3,8,17,14,17,14,22,22,7,10,13,14,14,20,11,17,14,0,18,22,14,3,4,9,8,13,24,19,4,17,14,3,20,13,17,13,11,5,13,18,20,18,20,2,4,24,18,14,17,4,23,7,12,17,10,22,20,5,21,1,2,1,20,2,10,4,11,12,12,17,8,2,5,5,11,15,8,12,3,13,17,4,4,19,3,12,22,6,11,5,13,14,11,17,8,12,4,8,14,12,8,14,16,10,4,15,12,5,5,4,14,1,2,14,13,3,18,17,24,19,11,4,20,17,6,14,18,0,3,11,11,3,11,7,14,18,2,4,14,11,11,20,7,14,22,7,22,11,15,15,15,0,19,6,12,14,8,22,17,8,12,2,12,8,3,19,12,13,11,10,18,6,0,25,12,2,10,20,6,7,4,14,24,0,24,6,17,0,17,0,0,6,5,18,18,17,4,24,4,20,17,8,20,19,4,4,17,18,19,12,24,7,13,19,4,15,8,17,8,7,11,19,13,7,8,24,14,6,18,8,8,8,20,18,4,0,19,3,14,20,15,11,7,22,12,8,2,7,18,19,18,22,7,22,3,22,14,14,14,7,5,18,5,13,1,14,7,8,8,1,11,0,2,6,13,18,13,14,9,13,24,0,0,22,12,13,14,2,2,20,15,20,18,8,19,15,14,20,15,18,0,11,17,11,18,10,10,13,24,5,17,2,3,6,18,20,10,3,1,8,11,19,14,14,12,11,17,24,10,9,0,19,2,10,13,19,8,15,1,4,10,3,20,10,5,13,19,24,6,2,11,0,1,8,24,4,19,18,24,4,2,19,15,0,4,5,11,14,12,5,5,3,17,4,11,4,11,5,1,15,8,12,7,0,11,3,6,11,3,21,2,13,14,13,8,11,15,19,7,12,5,18,10,6,11,12,19,0,13,19,13,13,2,19,18,4,15,3,12,19,10,5,22,18,0,8,5,8,13,8,2,5,14,17,8,11,20,3,11,2,14,12,7,12,5,5,0,20,22,14,1,20,18,8,17,7,0,24,20,1,4,7,14,11,8,3,8,19,0,3,6,4,18,19,8,5,14,21,4,12,19,0,6,3,3,4,17,7,5,18,4,11,11,4,15,12,21,20,7,17,4,24,18,5,18,18,17,3,3,13,3,18,24,6,18,10,4,8,6,11,4,6,15,8,19,8,11,7,5,12,12,19,6,19,12,8,12,1,20,1,1,20,13,6,5,2,20,13,14,6,12,20,1,0,4,14,14,19,6,18,5,20,15,3,9,3,6,18,6,6,20,12,7,24,22,19,18,7,1,17,20,10,8,21,18,15,13,8,19,0,13,20,14,8,18,10,12,24,17,14,0,22,7,24,17,8,8,7,19,13,1,14,14,20,4,14,20,24,17,24,24,0,6,8,2,0,12,11,14,0,11,4,18,18,10,20,2,20,7,8,11,13,6,6,12,24,0,11,1,7,12,17,8,3,24,20,3,8,23,7,8,15,8,4,23,14,7,10,22,17,17,0,12,15,12,0,8,17,4,0,8,4,11,10,12,10,18,13,21,14,5,13,14,20,24,18,17,18,4,11,4,18,24,13,11,17,10,17,3,22,13,3,14,11,10,3,2,24,5,18,5,8,10,2,3,17,12,15,18,20,14,3,24,11,1,24,20,1,24,14,4,13,21,1,11,17,14,10,18,4,7,7,8,12,4,5,6,6,6,7,14,5,0,8,17,17,19,2,24,6,6,5,6,7,6,0,24,4,5,3,4,1,24,7,0,13,14,17,20,7,12,2,15,11,1,1,6,2,7,1,24,7,19,6,6,3,20,4,0,24,13,5,20,6,22,20,6,17,18,19,7,1,11,12,10,3,2,4,4,2,7,19,19,3,7,24,1,1,7,8,21,4,3,9,8,6,6,4,20,0,6,13,24,24,10,3,2,13,6,11,19,13,13,7,10,11,22,0,11,24,6,22,14,15,11,10,6,2,7,4,7,19,11,5,6,24,20,22,0,5,8,20,13,6,7,24,7,6,2,14,0,7,11,14,6,11,11,2,7,4,3,21,6,12,7,22,10,7,24,5,13,17,11,17,19,8,5,22,8,20,18,5,5,5,3,18,14,18,24,23,17,17,13,6,11,12,0,9,1,7,20,20,1,24,4,10,13,5,8,14,11,12,18,23,12,15,4,3,0,13,20,19,4,25,13,6,0,17,6,22,14,1,4,3,7,14,8,15,14,3,10,8,17,6,8,8,17,10,0,8,17,11,2,18,2,0,13,5,0,22,11,4,5,24,8,5,5,6,8,18,0,19,7,7,6,0,10,20,1,9,11,6,6,22,5,0,12,17,17,8,17,0,24,13,0,15,3,14,7,17,0,11,15,6,21,6,21,13,1,5,17,24,0,14,24,14,9,11,24,7,15,19,21,6,0,20,7,3,12,19,17,6,12,15,6,18,14,2,6,17,12,13,14,10,13,4,15,2,11,6,6,3,14,18,20,11,18,2,5,2,19,11,18,1,12,18,5,2,20,20,11,14,14,20,20,20,11,15,3,8,6,8,5,7,20,12,13,11,19,13,17,13,13,6,8,6,2,10,12,20,23,8,3,2,20,1,4,9,22,15,14,14,1,7,18,10,4,0,1,0,15,13,20,6,8,2,5,14,20,7,21,24,13,21,8,23,17,2,7,11,11,4,19,0,21,8,3,10,14,20,13,1,17,20,22,12,1,3,8,17,8,12,14,3,12,7,21,15,0,20,8,3,12,8,7,17,14,12,14,14,1,2,7,20,6,5,5,22,8,4,10,4,4,8,13,4,8,18,4,21,14,3,8,15,7,4,12,0,5,19,21,4,15,6,8,15,8,12,4,14,5,21,8,2,22,4,11,4,7,14,21,14,6,7,3,24,22,12,17,10,7,1,3,7,24,0,11,4,21,8,17,21,24,7,7,20,5,20,10,12,22,14,0,0,4,7,4,3,14,20,13,5,18,18,17,14,22,19,7,22,17,11,20,11,14,24,24,6,6,8,12,11,11,22,15,8,0,2,24,19,12,17,6,3,18,24,12,14,8,7,14,5,13,5,24,22,0,24,0,14,22,22,4,15,7,5,3,4,23,22,17,0,12,13,0,0,2,12,3,8,23,8,17,6,18,11,18,0,6,17,0,9,6,15,8,19,7,10,15,17,24,17,6,10,19,19,19,5,17,12,4,4,6,18,1,7,4,5,17,14,5,17,24,6,17,1,6,20,13,12,12,0,12,8,6,12,0,9,5,15,0,11,11,3,17,5,3,20,22,18,4,15,7,14,5,14,8,11,5,15,6,14,20,12,17,18,1,3,14,3,14,8,18,22,20,0,24,8,23,18,19,18,18,8,23,9,8,9,0,6,20,17,24,13,24,24,12,6,6,3,14,17,15,12,3,24,8,2,7,4,17,17,0,18,19,22,3,11,11,8,13,13,13,3,7,20,6,6,19,4,24,17,7,20,0,8,6,20,24,18,3,15,5,21,0,6,17,17,5,0,15,21,10,17,20,21,17,19,8,3,1,8,6,8,3,10,15,11,5,5,19,21,19,7,20,11,10,14,10,18,20,10,17,0,0,2,13,6,0,5,0,19,0,22,1,11,19,8,19,20,8,5,8,12,3,15,18,18,6,3,2,4,7,17,17,24,5,3,20,11,5,15,19,18,15,8,17,20,18,14,17,3,19,7,21,8,13,18,23,4,22,11,6,20,11,7,24,14,13,25,4,12,11,7,5,18,14,15,17,7,13,22,17,13,11,7,8,2,13,17,17,17,22,11,4,0,8,10,3,7,12,25,3,0,25,25,0,17,7,19,10,2,25,24,22,11,1,2,11,0,25,6,6,25,10,0,12,19,7,24,12,3,14,14,1,11,2,3,18,0,5,3,2,8,4,5,14,13,17,24,12,19,20,19,8,18,8,14,22,17,0,1,20,13,15,17,2,11,2,17,13,15,19,18,5,7,24,9,8,12,6,19,6,17,12,3,6,11,12,20,15,17,7,11,0,22,20,14,24,21,20,15,17,12,22,13,0,9,24,24,21,19,24,0,21,17,5,7,8,0,6,20,4,14,20,14,3,24,20,0,10,17,15,22,12,22,19,20,20,18,22,9,13,2,22,17,5,20,24,24,3,8,17,12,19,14,17,15,24,2,18,2,1,3,20,4,8,18,11,2,10,0,13,10,11,4,4,5,24,12,7,7,23,11,3,23,5,24,10,11,14,0,5,5,11,18,6,14,14,15,8,11,8,20,2,17,6,17,12,20,11,13,4,12,14,6,13,6,14,4,0,12,15,12,10,22,20,22,22,20,0,12,0,0,6,0,4,18,6,4,15,2,7,22,14,20,0,4,1,14,5,6,6,14,15,17,20,19,6,19,20,17,24,3,3,13,8,19,23,18,7,6,7,15,5,0,1,4,0,18,9,5,14,11,8,6,8,1,14,13,14,2,11,19,19,12,4,12,20,22,13,10,6,0,14,5,6,18,17,5,15,4,18,23,6,18,5,14,12,19,19,8,14,4,0,23,17,15,10,4,20,15,18,10,12,10,4,4,25,20,22,17,17,18,8,0,6,12,8,23,12,4,23,12,20,13,17,3,1,14,20,12,17,19,20,1,17,10,8,5,0,11,1,20,7,14,22,14,17,0,10,17,14,2,10,4,10,19,20,1,14,6,24,18,12,12,1,1,15,10,5,7,0,22,4,15,20,20,18,4,4,8,24,11,15,12,3,17,13,12,5,13,14,19,15,5,20,24,19,2,10,5,14,11,4,13,3,24,24,1,14,11,12,24,17,14,12,17,10,18,13,6,7,21,10,17,4,3,3,20,10,3,2,6,1,20,20,2,4,24,5,17,3,6,14,24,17,22,17,20,18,14,1,17,7,10,17,19,14,6,24,4,15,13,13,11,2,2,3,18,10,15,4,21,6,6,4,8,15,11,20,7,18,10,19,24,12,4,15,2,10,0,1,13,8,4,10,4,0,6,19],\"y\":[3,7,17,8,19,8,17,0,18,7,19,17,0,17,0,13,6,4,3,19,7,20,18,5,14,17,1,0,19,19,11,4,14,13,19,7,4,18,0,2,17,4,3,15,11,0,8,13,14,13,10,20,17,20,10,18,7,4,19,18,0,24,18,0,13,9,0,24,0,24,22,7,0,19,22,17,14,20,6,7,19,12,24,15,4,14,15,11,4,0,13,3,4,15,0,3,0,21,0,18,18,0,22,7,4,13,7,4,1,4,7,4,11,3,4,7,14,18,19,14,5,15,18,17,0,9,0,3,20,17,24,14,3,7,0,13,0,19,14,3,17,14,13,0,3,17,4,22,0,3,18,15,0,10,4,19,18,4,22,14,17,3,18,0,7,6,20,20,18,4,4,7,8,18,11,8,13,4,14,22,21,18,19,8,8,18,14,3,20,5,8,6,19,8,13,6,12,4,13,4,12,1,4,3,1,24,19,18,14,13,14,5,3,17,20,15,0,3,0,19,7,24,18,2,7,14,11,0,17,8,13,4,0,17,19,4,17,4,8,13,18,19,0,3,17,13,10,4,3,2,7,8,4,5,18,8,10,4,0,17,9,20,13,0,11,19,14,1,7,8,12,0,2,18,1,4,13,3,4,17,18,5,1,14,22,18,21,8,0,19,0,24,20,24,20,3,0,4,12,8,4,13,19,20,15,14,13,7,18,2,0,17,3,8,18,19,0,19,2,7,4,10,8,19,10,0,18,8,18,18,14,20,19,11,14,3,15,20,20,9,8,19,10,20,13,19,8,1,7,14,9,0,0,8,21,24,22,8,19,24,0,12,0,13,24,20,0,20,19,19,0,0,20,9,18,20,1,7,0,18,8,11,3,0,3,3,3,8,18,0,11,11,5,0,12,4,3,0,11,12,14,20,19,4,3,14,4,8,17,18,7,8,13,8,6,2,7,0,8,14,19,18,14,20,17,18,8,3,4,14,14,19,7,14,20,1,4,18,1,17,0,7,12,13,18,18,4,4,23,2,4,11,11,4,19,18,2,14,12,12,5,12,24,11,4,22,7,18,4,13,0,4,18,8,9,14,24,19,14,2,14,19,19,18,4,11,5,19,4,5,8,18,19,13,1,7,0,10,0,17,13,0,10,17,8,15,0,5,8,4,17,2,4,13,5,19,21,8,10,0,0,18,22,0,7,13,13,4,23,19,19,14,4,19,17,13,6,18,0,20,12,0,19,8,22,7,5,20,11,12,24,12,14,17,4,21,0,8,0,13,19,19,17,8,4,3,4,0,3,24,18,3,0,24,3,8,5,17,12,4,17,10,8,4,0,7,22,7,7,18,22,4,0,15,6,17,18,15,4,3,4,7,18,10,8,11,5,11,4,3,22,0,4,19,12,4,12,18,14,17,4,18,7,18,22,4,1,0,7,11,3,18,3,1,0,5,17,6,7,12,14,12,6,19,14,7,0,21,4,2,17,4,14,17,2,0,15,19,0,18,13,8,19,0,10,18,15,17,4,0,11,15,19,4,24,12,0,24,13,14,22,1,11,14,22,12,24,18,11,19,8,6,13,11,14,5,4,0,6,3,10,6,22,7,1,11,4,14,22,0,1,14,14,14,11,11,6,0,17,13,3,11,14,0,8,14,13,18,17,14,0,17,20,12,15,4,19,4,17,1,11,4,22,19,4,6,17,0,19,2,14,13,2,13,14,8,18,4,14,5,8,19,19,19,18,12,18,2,24,12,0,11,18,3,6,14,3,7,14,17,13,18,1,20,19,14,18,20,3,3,4,13,2,11,0,12,17,19,0,19,5,11,4,19,4,12,4,18,20,2,7,19,19,20,12,20,11,19,18,12,13,12,8,19,1,4,13,20,17,14,5,6,14,3,24,14,10,3,22,7,22,7,8,19,4,19,4,4,3,18,1,22,8,19,17,11,18,10,7,13,6,14,3,0,0,18,4,10,0,7,10,13,14,19,19,3,11,14,2,10,18,18,6,7,2,17,21,4,14,6,8,19,18,1,14,13,4,0,1,22,13,18,11,14,20,3,6,8,5,19,1,0,17,17,8,1,14,11,5,1,4,8,0,0,14,4,2,3,24,7,18,8,0,10,18,4,11,18,18,18,13,22,4,0,12,19,24,11,21,8,2,19,14,17,24,18,21,14,8,2,4,3,13,20,11,0,22,18,7,8,11,11,20,7,18,4,3,8,7,3,4,21,14,0,3,6,4,1,4,4,2,10,3,10,18,17,13,2,4,8,10,7,8,0,20,12,13,21,0,0,19,24,0,10,4,20,13,18,1,3,20,4,3,0,18,14,11,3,5,4,7,11,17,18,3,4,11,1,22,11,3,18,14,4,2,0,6,14,14,14,10,19,17,5,14,4,13,18,19,18,22,7,16,20,0,20,17,7,0,21,13,19,22,0,18,3,6,3,1,4,19,22,20,6,1,18,3,0,22,13,5,17,7,1,17,13,22,18,13,1,0,3,4,7,13,20,4,12,14,4,24,18,14,10,4,3,8,21,8,7,19,4,17,3,17,8,21,0,20,19,4,14,24,14,13,17,14,15,4,13,17,1,4,22,8,23,12,8,4,8,22,14,20,11,18,13,8,5,19,18,22,4,12,20,18,11,0,24,8,13,22,17,18,0,17,1,8,19,0,19,5,17,18,20,17,13,1,3,18,11,22,14,7,17,15,14,1,4,24,8,5,11,18,18,1,24,0,0,15,17,0,24,4,14,0,1,18,4,13,11,24,2,14,21,4,1,17,8,19,2,17,17,6,8,19,18,12,8,11,10,22,18,0,11,0,17,11,18,4,18,4,18,24,10,10,18,15,4,12,0,17,10,7,7,18,12,5,7,20,4,18,8,17,4,18,13,11,1,17,14,18,18,18,13,11,0,22,13,4,15,7,18,8,23,4,5,17,4,14,4,3,18,4,19,18,17,4,15,15,14,4,7,10,7,6,14,22,13,0,19,11,19,7,15,8,19,24,11,4,20,8,1,3,4,18,2,12,3,2,18,5,14,17,13,12,24,12,4,4,18,5,0,8,11,12,24,14,6,20,19,0,7,20,17,18,12,24,1,14,24,0,3,12,24,7,0,8,1,19,7,17,17,14,17,5,14,12,24,22,10,18,8,15,18,6,0,21,19,14,3,11,24,0,5,4,21,4,1,17,18,14,15,17,2,3,24,8,11,8,5,4,12,18,18,8,3,5,19,13,3,14,8,5,0,4,14,4,3,22,0,11,8,18,13,19,6,3,14,13,3,2,0,18,6,5,12,20,19,20,0,18,0,20,19,17,14,8,7,19,4,8,20,15,7,3,14,12,13,19,8,22,0,11,0,18,18,0,3,24,22,14,0,22,19,24,2,13,1,3,8,19,14,21,19,8,2,18,15,14,8,11,18,3,15,17,19,20,11,4,4,2,12,18,18,13,11,4,8,5,18,18,19,1,14,7,18,7,7,4,17,22,0,4,18,3,18,15,15,14,22,4,17,6,22,15,2,8,14,18,1,0,22,4,5,18,0,8,11,4,4,10,19,18,20,18,19,4,22,14,12,3,7,18,3,13,8,8,14,6,0,17,5,0,17,4,17,11,18,7,12,20,7,11,4,8,25,4,13,11,24,12,10,4,19,1,1,20,19,20,8,7,10,0,8,24,1,4,6,8,11,19,4,11,6,22,6,24,1,17,3,18,18,11,13,20,8,5,22,3,0,3,14,19,15,4,2,4,4,14,0,5,17,8,5,8,4,1,11,24,11,20,22,17,4,13,4,14,22,11,13,5,10,6,11,24,4,14,4,13,0,18,13,3,13,19,4,0,17,8,12,4,14,4,8,19,5,4,4,14,3,12,13,0,3,1,24,14,14,7,18,13,20,14,18,4,15,8,4,19,18,13,4,6,11,4,2,19,24,4,19,2,4,8,12,15,24,20,14,4,22,22,20,22,22,4,12,3,15,0,8,11,20,14,5,2,0,0,7,11,22,0,3,19,5,11,24,18,14,22,18,3,14,14,12,1,24,22,8,2,7,0,13,4,5,12,19,17,15,0,15,4,4,1,4,5,19,5,5,20,13,4,0,11,2,0,22,17,5,13,4,17,7,11,24,7,24,12,13,18,24,18,14,11,10,0,18,14,4,24,15,14,21,0,4,21,8,0,20,19,19,8,8,8,5,24,0,12,22,13,11,1,0,4,12,1,0,5,19,22,22,18,14,18,8,5,22,14,7,20,4,11,4,19,1,18,8,10,0,8,14,0,6,0,0,0,4,19,13,8,3,14,1,14,10,14,17,0,8,8,0,7,12,5,8,2,15,7,17,5,22,24,4,3,8,12,12,17,13,17,12,3,10,10,13,4,4,18,11,1,4,5,19,0,4,1,0,14,5,21,17,19,20,4,13,8,3,4,8,19,12,24,22,14,4,5,14,3,5,4,18,17,6,4,24,5,4,22,2,13,8,8,18,19,0,14,17,0,14,20,5,14,22,8,15,5,11,0,4,1,19,14,11,8,6,6,18,3,11,4,13,17,7,5,18,18,6,8,24,18,17,21,8,0,7,22,14,10,18,4,17,21,0,13,16,20,3,13,5,20,4,3,13,15,24,11,14,1,24,3,1,19,18,3,19,3,0,2,19,20,13,8,4,14,8,24,2,13,8,10,13,3,1,13,8,8,22,4,0,6,18,7,8,19,5,8,12,22,18,14,0,4,4,15,19,3,0,17,19,18,19,21,4,6,4,19,14,6,18,3,18,10,18,2,10,8,12,5,12,13,19,11,14,19,3,13,17,24,4,17,22,18,19,19,4,5,0,19,3,14,11,4,11,0,5,17,4,5,0,2,24,14,0,4,14,0,8,18,18,20,11,18,14,14,11,0,1,3,8,10,13,10,4,4,3,14,14,18,3,9,24,12,4,4,17,19,15,4,11,22,19,14,11,12,19,19,18,9,24,8,5,5,4,11,4,24,4,23,8,20,19,4,5,2,2,8,1,18,12,18,20,2,19,4,8,19,19,24,1,12,8,17,19,4,5,11,4,19,12,15,8,19,8,24,7,7,15,24,13,13,10,11,8,0,12,18,0,19,4,13,14,18,11,2,13,0,18,1,8,4,18,17,0,19,13,8,0,0,11,4,23,7,0,20,18,20,19,18,18,8,4,0,19,10,13,24,1,4,11,4,19,14,0,6,13,8,18,14,15,20,1,24,8,18,1,14,5,14,8,0,0,17,4,11,4,1,19,18,14,11,12,13,17,24,4,3,20,13,7,11,0,13,4,4,5,5,0,19,20,19,13,10,14,19,6,4,8,20,7,22,3,22,1,0,4,20,22,4,1,3,3,0,12,14,12,19,18,1,18,13,15,7,18,22,5,11,7,17,15,5,22,19,5,15,0,5,8,2,20,19,19,6,4,4,8,2,11,5,17,22,14,7,18,15,4,8,18,24,14,19,20,5,13,24,15,19,4,5,11,24,13,1,8,19,8,0,13,22,17,7,0,15,15,24,12,2,14,1,0,6,17,20,17,7,0,0,4,20,14,7,13,1,19,13,13,4,0,8,24,0,5,10,24,3,19,24,19,18,10,1,3,3,19,3,10,6,14,1,1,18,10,12,24,5,4,0,4,24,5,13,1,3,2,12,19,5,3,4,24,14,20,1,4,4,0,18,4,4,12,14,10,4,17,7,3,4,3,4,14,18,11,24,1,6,10,22,19,17,6,0,0,24,14,3,21,19,8,18,10,1,5,8,19,13,17,24,7,19,19,17,15,15,19,17,20,8,4,5,8,3,19,19,10,7,24,0,19,11,22,15,14,14,6,22,20,19,1,10,1,0,7,5,22,19,14,4,3,14,4,14,18,3,8,24,4,0,0,3,3,0,8,19,18,18,22,12,24,4,19,5,8,0,14,4,19,11,17,0,22,4,7,22,19,10,4,13,17,8,3,18,8,12,7,1,18,17,18,21,0,18,17,0,11,4,2,17,20,11,8,23,8,5,18,7,3,13,12,21,4,4,16,8,18,14,18,5,13,4,18,2,18,5,5,13,11,10,11,10,15,14,20,13,14,18,22,19,19,18,10,22,17,19,22,10,11,17,3,14,19,8,4,0,17,19,15,24,0,18,12,13,6,12,4,0,4,8,24,18,24,6,8,24,24,0,11,18,17,11,19,10,12,17,20,6,4,21,4,7,6,15,14,4,4,0,14,20,5,15,5,19,19,2,4,24,4,15,1,24,19,7,8,1,5,17,0,2,13,24,6,14,7,13,22,8,8,14,2,19,22,4,1,4,15,18,10,7,19,22,10,22,10,4,10,15,13,11,2,19,6,19,18,18,19,4,9,4,13,9,18,14,17,9,24,3,19,5,5,2,12,19,4,12,13,0,4,11,14,19,4,3,4,23,20,1,18,10,7,18,17,8,4,0,10,20,2,10,11,11,18,18,18,10,2,8,5,5,5,15,12,22,4,14,4,19,14,0,12,18,17,18,5,2,19,11,1,14,12,17,6,18,12,11,12,13,20,4,15,18,18,8,14,15,1,9,4,13,15,18,18,24,0,18,4,15,17,15,14,0,0,15,19,11,15,12,20,14,19,4,7,11,19,17,6,13,7,22,11,11,6,11,4,15,8,19,6,8,14,12,15,0,11,12,6,19,8,3,13,6,19,11,18,4,2,0,25,4,18,10,13,4,4,4,14,2,3,24,17,5,5,17,24,15,21,5,4,14,4,24,24,11,24,19,19,1,19,4,0,0,3,11,5,15,14,12,14,11,15,8,18,4,4,15,15,13,8,8,8,0,6,14,8,8,8,0,22,4,9,19,10,14,20,8,4,12,19,0,8,1,7,3,19,4,18,14,18,13,19,14,18,14,11,3,22,2,13,1,24,13,1,3,13,24,24,15,19,0,13,13,14,9,14,24,0,19,22,2,4,20,0,19,24,15,15,12,7,3,24,14,2,15,7,12,11,15,10,14,10,22,8,8,18,4,14,4,18,22,10,13,4,1,8,11,24,24,5,12,3,15,12,15,4,0,15,8,4,18,2,8,15,11,4,10,0,20,10,24,15,19,24,6,1,10,10,1,20,15,8,4,18,24,4,2,17,15,0,17,13,18,18,12,7,5,14,0,4,24,5,11,21,18,24,8,3,0,14,1,3,6,11,20,21,0,4,14,17,22,12,15,5,7,3,5,13,10,15,11,0,18,24,13,12,1,4,2,8,18,18,20,7,0,1,20,14,15,8,8,12,11,19,13,24,0,19,8,17,6,3,20,12,22,3,11,12,6,18,12,5,18,4,13,4,11,20,18,24,17,24,15,24,7,13,24,22,4,11,2,3,8,22,0,7,10,18,18,19,16,5,24,14,4,12,10,13,8,18,3,20,18,12,12,8,20,24,11,10,15,12,24,4,4,14,3,24,10,18,20,7,14,2,18,3,24,14,10,4,7,10,18,12,4,3,1,10,14,20,12,4,11,15,15,0,24,14,4,17,12,8,17,1,18,17,0,4,13,1,18,14,11,13,17,4,2,18,19,19,5,14,10,19,24,1,19,1,11,18,9,20,6,1,2,7,13,15,4,24,14,13,21,7,5,19,14,4,8,21,10,18,20,8,21,0,5,20,6,8,10,7,20,24,17,14,24,11,3,24,1,3,2,22,19,10,8,4,14,1,19,8,20,10,4,13,0,12,6,8,2,22,12,15,14,0,11,21,13,18,14,4,2,2,17,17,11,1,6,21,12,24,3,3,18,4,14,5,4,17,20,5,11,5,23,22,12,15,12,4,23,0,12,18,18,19,6,3,12,7,14,0,15,17,16,0,8,2,8,1,18,24,18,22,21,14,11,13,1,20,0,18,6,18,19,17,4,23,10,18,8,19,10,3,13,3,0,12,14,4,7,18,2,8,18,18,5,24,5,18,7,20,4,15,20,4,15,1,24,3,18,24,6,13,24,9,24,13,21,24,24,8,10,0,4,20,6,12,5,15,4,9,4,14,19,5,1,5,24,24,17,22,15,24,17,6,0,18,19,7,6,7,24,3,13,20,24,22,24,4,18,11,14,18,19,6,24,0,2,19,15,4,19,4,4,6,24,7,20,10,19,18,20,22,0,14,19,18,20,4,6,13,11,10,12,4,7,21,19,5,22,18,4,8,17,2,20,18,1,18,1,24,8,4,14,8,21,14,3,9,13,6,8,4,19,3,20,7,15,19,10,18,20,19,6,15,24,3,14,19,1,18,24,18,11,10,0,0,22,7,11,20,18,7,7,2,18,0,12,5,4,0,20,10,4,8,8,3,18,10,14,20,18,12,4,19,19,5,12,5,3,14,4,18,7,21,18,18,14,0,1,3,13,4,13,18,13,24,11,5,17,3,5,3,13,12,12,5,11,5,1,14,19,6,14,4,19,5,6,6,9,7,0,9,14,24,4,19,8,18,18,24,19,19,4,18,3,12,6,4,4,15,19,18,4,2,14,8,4,18,4,4,15,24,0,4,14,1,19,3,24,14,0,15,6,3,18,18,10,10,8,1,15,10,5,18,3,24,22,19,20,7,13,17,18,24,18,5,14,19,8,5,7,5,8,7,24,6,7,9,3,0,10,22,1,9,20,14,6,13,13,4,11,17,0,18,11,24,24,16,0,5,14,0,12,17,18,6,12,11,0,4,8,0,4,18,13,0,0,21,22,14,9,8,24,13,5,18,4,8,8,2,4,12,8,14,4,3,2,15,1,1,18,24,14,22,18,18,14,10,1,24,5,24,4,12,18,18,6,14,20,0,1,2,20,19,20,1,18,18,14,19,15,4,4,18,11,16,5,21,11,11,18,3,18,4,11,8,24,12,20,24,4,8,19,20,10,19,8,6,24,19,5,10,5,7,3,19,19,8,4,2,19,9,20,1,24,0,13,4,2,14,0,14,1,3,1,14,21,19,24,2,18,21,20,24,21,8,0,19,8,8,4,2,8,24,19,24,8,20,12,8,3,20,4,20,21,8,24,14,2,8,1,8,8,20,11,11,14,14,8,14,8,8,17,19,17,3,10,8,5,14,13,15,4,19,4,0,7,20,17,18,13,12,12,0,10,12,14,24,12,24,24,18,21,21,5,14,4,15,22,14,12,5,12,0,2,4,24,18,14,15,15,17,4,4,19,8,8,2,21,13,8,2,22,14,16,4,2,4,5,7,0,10,0,10,10,8,7,0,8,0,9,3,3,8,9,13,0,5,18,20,5,20,17,4,4,6,3,8,0,8,0,6,24,20,4,15,5,7,7,10,8,13,15,0,13,12,10,11,6,4,4,6,3,3,12,7,15,12,18,24,4,12,18,6,2,20,12,14,18,24,11,3,10,6,0,1,20,0,24,4,1,18,20,18,22,24,13,15,13,3,0,4,23,15,13,13,8,3,5,18,13,19,4,8,23,10,14,24,15,24,10,15,3,18,24,9,4,2,0,0,2,10,0,0,13,4,6,24,4,8,0,20,4,12,13,19,18,21,19,17,2,24,24,21,14,22,24,15,7,8,8,20,0,11,14,8,12,17,6,21,0,9,20,14,19,12,4,3,21,13,6,8,18,0,6,24,19,6,5,9,24,6,1,0,19,6,20,5,10,19,7,3,8,13,8,20,0,24,11,3,7,4,23,7,19,9,19,8,23,14,0,3,0,6,20,7,24,23,11,20,17,24,0,14,4,17,12,0,24,8,12,2,12,18,24,19,19,21,0,0,12,18,24,8,12,20,4,13,0,24,7,7,7,5,4,2,19,13,14,17,6,2,3,13,12,0,15,21,0,2,18,20,0,24,18,0,0,0,20,21,17,8,8,3,0,7,6,20,6,0,0,8,0,12,11,0,13,4,20,10,10,24,10,21,20,10,8,0,14,3,14,18,18,0,15,19,9,7,14,20,14,8,6,6,3,3,18,3,18,2,18,3,18,0,2,24,21,0,22,24,8,21,20,1,5,15,14,18,21,14,2,14,4,6,4,10,8,7,23,8,24,18,23,8,8,8,17,13,3,5,24,21,3,0,4,7,24,7,20,12,17,10,18,24,7,4,11,24,14,12,18,2,5,19,11,2,18,14,24,0,20,5,8,20,20,0,4,0,25,25,11,8,12,24,0,8,19,4,2,8,20,19,20,0,25,8,6,19,11,8,12,3,24,19,21,11,21,8,15,11,20,0,18,16,6,24,3,17,11,7,6,13,24,24,17,18,19,15,15,0,8,16,22,15,1,3,20,10,8,18,2,24,3,0,13,7,18,3,1,18,24,9,0,4,18,20,5,2,14,5,3,9,0,20,15,11,3,5,20,7,7,5,0,8,0,5,19,17,22,4,0,9,24,0,12,4,24,10,21,18,3,10,1,12,22,15,17,24,19,6,20,14,20,5,10,24,10,1,20,14,4,20,14,0,24,4,14,9,8,5,20,6,18,4,14,24,15,12,1,5,24,15,4,4,8,6,18,24,15,11,19,3,6,4,10,9,13,10,2,0,22,22,19,5,8,8,23,8,3,23,8,4,7,0,6,3,24,19,3,2,15,7,14,15,18,17,18,11,2,8,24,13,14,11,11,21,8,12,2,14,7,6,16,4,18,11,13,24,19,19,22,18,4,10,11,12,10,8,12,4,19,5,2,4,15,22,24,2,3,11,4,10,19,18,2,13,6,15,15,7,24,19,20,7,4,13,4,4,18,10,0,19,23,8,20,15,7,21,22,10,11,8,8,2,14,0,18,0,14,4,12,0,18,13,17,17,10,6,2,24,10,5,1,4,5,10,1,7,14,7,4,17,14,20,2,18,18,23,21,7,21,13,12,16,14,10,17,14,0,23,4,15,3,24,22,15,18,10,24,8,0,4,25,4,12,13,12,24,8,15,15,13,2,18,21,4,23,21,14,3,9,8,4,11,20,9,15,15,24,15,24,10,12,4,0,7,0,20,24,1,6,4,10,17,10,3,14,9,10,3,11,0,20,1,1,3,22,1,15,8,1,22,18,0,22,13,23,20,8,15,5,11,4,8,13,19,14,4,18,0,18,10,19,14,13,19,24,4,15,19,6,4,8,15,10,12,19,1,3,17,13,19,0,19,4,2,18,24,9,10,0,3,10,6,13,20,19,3,4,5,19,3,16,24,19,22,24,10,1,24,19,4,19,12,2,24,12,14,15,14,19,19,12,0,3,3,14,24,12,22,18,8,4,3,15,4,15,2,20,18,5,4,24,14,10,1,22,21,13,15,18,19,15,3,19,19,24,10,2,19,11,24,19,18,10,1,5,24,15,3,10,11,14,14,1,21],\"z\":[7,17,8,19,8,17,0,18,7,19,17,0,17,0,13,6,4,3,19,7,20,18,5,14,17,1,0,19,19,11,4,14,13,19,7,4,18,0,2,17,4,3,15,11,0,8,13,14,13,10,20,17,20,10,18,7,4,19,17,0,24,18,0,13,9,0,24,0,18,22,7,0,19,22,17,14,20,6,7,19,12,24,15,4,14,15,11,4,0,13,3,19,15,0,13,0,21,0,18,18,0,22,7,4,13,7,4,1,4,7,4,11,3,19,7,14,18,19,14,5,15,0,17,0,9,0,3,20,17,24,14,3,7,0,13,0,19,14,3,17,14,13,0,3,17,4,22,0,13,18,15,0,10,4,19,7,4,22,14,17,3,18,0,7,6,20,17,18,4,4,19,8,18,11,8,13,4,7,22,21,0,19,8,19,18,14,5,20,5,8,6,7,8,13,6,12,4,13,4,12,1,0,3,1,24,19,7,14,13,14,5,3,17,20,15,0,3,0,19,7,24,18,2,7,14,11,0,17,8,13,19,22,17,19,7,17,4,8,13,18,19,0,13,17,0,10,4,3,2,7,8,4,5,18,11,10,4,0,17,9,20,13,0,11,8,14,1,7,8,12,0,2,7,1,4,13,3,4,17,18,14,1,14,22,18,21,8,17,19,0,24,20,24,20,3,7,4,12,8,13,13,19,20,15,14,13,7,8,2,0,17,3,7,18,7,0,10,2,7,4,10,8,19,0,0,18,8,18,18,19,20,19,11,14,17,15,20,17,9,8,19,10,20,13,19,8,1,7,14,9,0,13,8,21,24,0,8,19,7,20,12,0,13,24,20,0,13,19,19,0,12,20,9,18,20,1,7,0,3,2,11,3,0,13,3,17,8,18,0,11,11,5,0,12,4,3,0,11,12,14,20,13,4,3,14,13,8,17,18,7,8,13,8,13,2,7,0,17,14,19,18,14,20,17,18,8,3,4,19,14,19,7,14,20,1,4,18,19,17,0,7,12,0,18,18,4,4,23,2,4,11,11,4,13,2,2,14,12,12,0,12,24,11,8,22,7,14,4,13,0,12,18,8,9,14,24,19,14,2,14,20,19,7,4,11,5,19,7,5,8,17,19,19,1,7,12,10,0,17,13,0,10,17,8,15,0,5,8,4,17,2,4,8,5,8,21,8,10,0,0,18,22,0,19,0,13,4,23,19,19,14,19,18,17,14,6,18,0,20,12,0,3,8,22,8,5,20,11,11,0,12,14,17,4,21,0,11,0,13,19,0,17,8,4,3,17,0,3,24,19,3,0,24,19,8,4,14,12,4,19,10,8,13,0,2,22,8,7,8,22,4,0,15,14,17,0,15,4,3,4,0,18,10,8,11,5,20,8,11,22,4,10,18,12,4,12,18,14,20,1,18,7,14,22,7,1,7,7,14,3,18,2,1,7,5,17,14,7,8,18,12,4,19,14,18,0,21,4,2,0,4,14,20,2,0,15,19,0,8,13,8,6,14,18,18,15,17,4,15,17,15,19,7,24,12,0,24,13,14,22,1,11,14,22,12,24,18,7,19,7,6,13,0,14,5,19,0,6,4,10,8,22,8,1,11,0,19,22,0,10,11,14,3,11,11,8,0,17,14,3,11,8,0,11,14,13,18,17,14,0,17,20,12,15,4,19,4,17,1,11,4,22,19,7,6,17,4,19,2,14,13,2,7,14,8,18,4,14,5,8,19,19,17,18,0,18,2,24,12,1,11,18,0,6,14,13,7,14,17,13,18,1,20,17,14,18,20,3,3,4,13,2,11,0,12,14,0,7,18,18,11,14,3,4,12,15,18,20,2,7,19,7,20,12,20,11,19,18,4,4,12,8,6,1,4,13,20,15,2,5,6,14,11,24,14,10,4,22,8,22,7,8,19,4,18,4,4,3,18,1,11,8,13,7,1,18,10,17,13,0,14,3,0,17,19,8,10,17,22,10,13,14,19,19,4,11,14,2,10,18,1,6,17,2,0,21,4,3,5,8,0,18,1,14,13,4,0,1,11,8,3,11,14,20,3,6,8,5,19,1,7,19,17,8,1,11,11,5,1,4,11,4,1,11,13,4,14,24,20,8,19,17,10,20,1,11,4,18,18,14,22,8,3,12,8,24,18,21,8,2,19,14,17,24,18,21,14,8,2,4,0,13,0,11,0,1,18,7,17,11,11,20,15,13,22,4,8,13,0,4,21,14,13,11,6,4,12,4,3,2,10,4,10,0,15,8,2,4,14,10,7,0,14,3,12,13,21,8,18,19,24,0,10,8,20,13,18,20,3,20,4,3,3,22,14,11,14,14,4,0,11,14,12,20,17,13,1,11,11,14,18,14,19,2,11,13,14,20,14,10,19,7,5,14,4,12,18,7,18,22,8,16,20,0,10,13,8,4,21,13,19,22,0,18,1,8,3,7,0,19,22,4,13,1,14,3,17,22,13,5,14,19,19,17,4,22,7,8,1,0,3,6,22,0,20,12,12,14,13,24,18,15,10,17,3,8,21,8,13,8,4,17,3,17,8,21,4,20,13,11,19,24,14,13,3,14,15,4,13,6,14,4,19,8,23,19,8,4,18,22,14,20,11,3,4,8,11,8,22,19,4,12,20,18,11,0,24,8,13,22,0,18,0,17,1,8,19,17,12,5,14,18,20,17,4,1,11,18,7,0,7,19,17,14,11,1,4,24,8,13,20,18,14,1,24,0,17,15,17,0,24,4,3,1,1,4,19,13,11,24,2,7,21,4,19,17,8,6,2,0,17,4,8,19,18,12,8,11,10,22,7,22,11,4,13,11,14,18,18,15,7,19,10,8,20,0,17,12,0,17,10,4,7,0,12,4,7,8,18,6,8,17,4,18,20,2,4,17,14,19,2,8,0,11,0,22,0,4,15,7,4,12,23,4,3,17,8,13,13,11,4,18,18,18,8,0,8,15,14,18,3,10,8,6,17,22,13,4,18,12,19,4,15,8,19,24,22,4,7,19,1,4,2,7,7,14,14,24,14,4,14,20,10,12,24,12,4,12,17,5,0,8,11,12,24,19,13,20,4,7,18,20,3,19,12,24,1,14,3,0,13,12,24,7,0,8,17,17,11,14,17,14,17,5,17,12,24,22,4,7,11,15,18,6,0,13,19,7,14,11,24,1,5,4,21,4,17,20,13,10,15,0,2,7,11,12,18,8,5,4,22,4,19,22,12,5,0,13,14,14,8,5,14,21,22,4,0,22,0,8,8,19,13,14,6,14,14,10,14,2,0,13,15,5,17,20,19,20,0,11,11,20,6,4,11,8,7,0,4,19,20,12,7,0,14,12,8,0,8,14,4,11,19,18,4,18,3,11,22,14,13,7,7,21,2,0,1,17,4,6,6,21,8,17,2,7,15,14,8,11,18,2,15,17,14,22,11,4,17,2,14,15,4,15,14,8,8,19,18,4,22,1,14,20,18,20,1,4,17,22,7,10,11,5,15,20,11,14,22,4,17,6,17,15,17,8,14,20,6,17,19,4,11,17,7,11,3,3,21,10,19,14,11,18,13,14,1,14,12,0,7,20,20,0,22,18,10,6,0,8,20,0,11,4,22,11,3,19,14,20,2,11,4,8,25,4,0,4,24,10,10,8,12,1,17,20,19,0,8,18,10,17,8,5,1,4,6,20,11,19,24,18,6,17,6,20,1,24,3,4,19,22,11,20,18,5,22,4,7,0,14,20,15,4,0,4,2,14,12,5,14,8,5,8,13,4,11,8,11,20,18,17,0,2,14,14,17,8,13,14,10,8,11,24,11,18,4,17,0,13,11,7,13,14,22,22,2,8,12,4,22,15,17,21,0,4,4,11,19,4,4,9,17,0,24,14,21,5,14,22,20,14,20,7,7,8,4,19,24,13,4,6,11,4,2,19,4,4,23,8,19,13,12,15,8,20,15,12,8,14,20,13,14,7,19,0,15,0,18,14,8,15,5,2,0,18,7,4,22,0,3,19,5,0,24,0,14,22,17,3,14,14,12,1,24,22,8,2,10,13,24,2,18,17,19,7,15,11,2,4,1,8,4,5,19,14,5,20,13,4,17,11,2,0,10,0,5,13,18,0,7,14,24,7,24,12,13,18,11,10,5,11,10,0,13,5,21,14,15,14,21,0,19,21,8,11,20,11,8,19,3,19,5,12,10,2,22,4,11,4,0,17,12,24,17,5,19,0,22,8,14,18,15,13,0,14,7,14,15,0,4,19,5,14,18,2,0,19,14,5,6,0,21,3,4,13,11,21,18,14,17,14,14,14,5,4,17,8,18,7,8,5,8,11,14,0,6,8,22,8,4,18,8,12,12,4,13,22,12,0,3,17,13,4,13,4,19,14,11,5,20,14,21,1,0,19,5,21,8,19,20,4,13,5,3,19,1,19,12,0,22,0,17,2,19,22,5,8,1,2,6,4,14,5,14,18,2,0,8,8,13,7,18,14,17,14,14,19,2,1,19,14,15,5,20,1,1,12,4,14,11,8,21,6,0,1,22,14,0,17,8,5,4,18,15,20,11,18,20,21,8,21,7,22,4,10,13,19,21,21,0,13,16,20,8,7,5,17,18,18,17,15,8,11,14,18,24,3,14,19,8,18,12,18,8,2,19,20,17,19,3,8,18,12,2,14,8,10,13,14,7,20,4,5,22,4,0,6,14,14,4,22,5,8,11,22,8,12,1,22,22,15,19,3,4,8,8,22,10,21,4,10,17,21,22,6,17,7,1,15,18,19,10,8,18,5,14,14,13,11,8,17,3,8,14,0,14,14,22,0,13,13,1,5,14,5,4,14,19,8,11,22,24,17,0,0,0,13,24,0,20,6,18,2,8,18,8,20,15,0,3,22,19,8,1,14,4,2,13,14,18,19,7,2,11,17,0,9,14,18,20,1,0,22,15,17,1,22,7,12,21,12,19,0,0,9,14,8,5,5,4,17,24,20,8,23,8,18,19,4,5,17,2,8,3,18,19,18,7,2,19,8,11,18,2,0,22,24,8,18,2,5,5,11,4,4,8,18,8,17,3,19,15,11,15,17,11,7,10,11,14,0,12,18,11,20,11,2,13,17,7,2,4,8,12,1,8,17,11,17,4,8,5,14,19,19,11,3,19,7,0,20,18,20,18,0,20,0,7,10,20,14,8,0,1,20,11,0,19,17,1,22,13,4,22,14,15,20,19,24,8,19,6,14,5,11,8,13,17,5,4,5,0,1,20,13,2,4,12,13,14,24,22,20,20,13,7,0,0,11,21,8,5,5,0,1,20,13,19,10,13,6,13,17,7,5,7,4,3,4,1,14,12,4,22,4,15,8,4,4,8,14,5,5,1,22,8,2,15,4,2,15,5,20,7,4,15,17,20,8,5,20,11,19,8,2,20,11,3,5,17,19,11,2,0,7,14,24,14,19,12,12,17,7,3,1,14,17,14,5,5,5,15,0,1,12,20,14,13,0,11,3,8,0,11,11,5,7,0,15,15,24,19,2,14,5,0,18,11,20,13,7,8,6,19,22,13,7,4,1,20,8,13,18,5,10,24,0,8,10,13,3,20,24,19,0,10,19,8,3,18,3,20,6,14,1,24,4,15,19,24,5,17,19,6,1,8,13,14,11,19,7,19,22,4,17,5,14,7,12,8,22,4,19,15,4,2,14,2,19,21,22,0,18,2,5,6,20,11,24,19,4,10,8,8,22,6,0,18,5,14,17,21,8,17,6,14,20,17,11,2,13,4,21,7,4,19,0,15,0,17,14,20,8,13,5,4,17,19,5,13,7,24,0,20,20,24,19,4,5,6,22,7,13,1,20,0,0,13,19,22,17,3,4,13,13,7,12,11,1,5,19,4,0,0,11,17,5,18,5,8,14,7,18,0,0,2,22,20,11,20,4,23,14,19,21,18,4,7,0,4,22,4,17,22,20,19,3,3,18,20,15,8,5,10,14,0,17,17,8,1,14,17,17,20,4,1,23,8,19,18,14,0,14,12,21,4,17,16,20,4,5,15,8,13,0,14,22,20,5,8,13,11,14,11,8,15,14,20,8,4,3,3,19,4,5,5,14,17,8,1,0,13,17,4,14,19,8,21,8,2,12,18,8,2,11,4,13,8,6,4,16,1,16,11,8,24,14,8,18,24,4,2,4,5,11,4,19,8,8,4,6,4,8,8,5,4,8,20,19,16,6,1,21,13,22,4,4,12,0,4,2,18,15,1,24,18,14,8,6,11,8,12,10,11,14,6,20,0,13,4,7,4,3,2,19,17,17,17,24,18,4,12,22,0,2,10,13,4,4,14,17,17,8,5,14,5,19,12,20,13,3,9,4,2,9,14,13,21,9,14,4,22,18,4,8,0,18,24,8,20,8,6,17,20,21,8,21,13,23,20,11,4,15,7,4,8,5,21,5,2,20,2,10,11,4,18,19,20,12,19,8,19,5,17,6,4,22,7,15,12,24,12,18,6,8,18,4,4,2,14,17,1,24,14,17,4,0,10,11,4,2,16,4,4,18,19,4,5,13,14,9,4,15,15,0,17,13,0,11,13,15,20,15,14,0,13,15,18,8,15,20,0,13,1,11,17,17,24,17,8,14,6,4,11,4,0,17,7,5,8,13,6,8,21,5,17,8,21,22,6,17,22,3,13,8,11,14,8,18,5,11,25,4,22,0,13,8,18,24,14,2,4,0,17,4,11,11,24,11,8,8,4,3,8,15,19,11,4,5,2,17,20,4,1,24,22,13,20,17,17,15,19,3,0,8,18,17,7,22,0,11,8,17,8,14,24,14,17,8,8,0,17,7,9,0,10,4,18,8,12,11,4,13,12,1,24,3,8,20,11,11,15,18,19,22,18,2,11,18,14,14,17,1,24,17,13,8,18,1,12,24,4,1,2,0,0,9,14,19,19,2,20,2,14,21,13,2,5,7,15,17,4,24,11,7,2,17,7,8,14,15,14,13,19,22,14,18,3,11,15,2,4,13,14,14,11,22,8,13,22,3,3,17,3,4,4,19,20,15,15,0,8,3,0,17,15,11,24,10,0,12,10,24,14,11,24,6,8,0,7,14,20,13,19,4,6,24,4,2,17,0,0,24,5,13,19,5,7,8,14,14,5,16,19,14,21,4,8,5,14,22,22,8,18,6,11,20,19,0,8,13,15,20,17,13,5,14,3,4,13,19,15,17,0,3,8,12,12,14,11,9,8,4,17,12,15,14,2,17,3,13,17,3,0,13,13,17,24,4,2,7,0,6,20,0,12,1,14,3,8,6,14,14,8,18,15,21,10,3,4,18,24,7,24,4,11,7,8,24,13,17,16,2,7,8,3,17,7,19,13,22,12,16,20,24,18,5,12,10,13,0,12,11,20,11,3,24,4,18,4,22,10,4,12,24,14,16,14,3,12,10,13,2,18,18,14,17,12,8,8,7,0,21,7,18,13,6,15,20,20,18,19,18,19,21,15,0,20,15,0,10,5,20,8,17,17,18,20,17,1,20,1,14,5,8,14,17,4,8,14,5,3,11,11,10,20,24,5,11,2,7,13,10,20,3,12,20,4,14,18,17,15,14,22,18,0,5,14,18,18,8,21,10,17,24,13,14,0,5,13,6,0,10,18,22,18,17,14,24,0,17,8,1,8,22,14,7,10,17,5,4,1,20,12,10,10,13,17,20,1,24,8,2,22,7,15,14,0,19,21,0,17,3,1,21,2,14,8,20,1,0,21,8,24,3,8,13,13,22,2,4,10,7,15,0,15,11,22,8,24,12,4,23,0,11,24,4,12,14,14,1,7,4,17,15,11,16,20,8,2,17,12,8,18,4,22,17,14,11,21,22,8,0,18,6,14,3,15,15,23,4,4,8,22,11,3,14,24,0,2,0,4,19,8,5,11,13,18,0,24,8,7,3,16,8,9,20,11,24,19,14,3,22,8,6,17,12,9,14,20,21,24,8,1,1,14,18,2,12,7,18,11,14,9,14,24,8,4,8,20,24,14,5,22,4,4,19,14,0,20,8,19,6,14,15,3,4,24,15,22,21,4,5,8,5,18,0,13,11,11,0,4,4,17,16,19,15,6,8,7,20,12,13,17,18,22,14,14,5,17,6,4,11,17,15,12,13,14,20,21,0,3,5,14,4,12,15,7,20,19,22,8,2,14,8,6,1,11,21,14,5,9,13,0,8,14,21,10,14,3,22,11,4,17,8,2,19,15,8,17,22,21,15,17,11,5,2,10,18,0,22,7,20,20,2,6,17,24,11,24,1,20,11,14,24,10,19,13,6,3,14,22,22,4,19,22,3,13,2,20,22,8,7,6,24,21,17,21,14,17,6,22,5,14,17,22,8,8,5,13,3,20,15,18,0,0,0,7,1,8,11,20,1,24,6,6,18,21,4,7,0,11,9,14,14,9,14,8,15,9,16,2,22,1,20,0,12,7,20,22,6,11,23,12,19,5,10,7,8,2,4,24,6,18,16,20,15,6,7,1,19,0,24,4,0,12,6,14,20,21,21,17,17,1,14,1,5,14,24,1,3,14,24,11,12,17,0,5,6,4,3,4,20,5,18,0,13,7,4,20,11,9,14,22,15,22,8,9,20,6,3,14,8,1,16,6,0,3,11,14,7,16,20,5,0,19,1,20,0,10,17,11,8,0,15,12,1,2,14,17,15,21,14,3,9,8,13,13,4,0,0,7,6,11,0,15,14,11,3,8,20,4,1,20,17,9,1,15,0,13,13,14,1,24,6,2,18,24,20,7,1,0,17,0,6,17,20,12,11,17,0,6,6,18,17,20,13,21,21,16,20,20,14,17,2,3,20,12,14,0,24,4,0,24,4,16,12,20,14,19,10,0,24,4,6,0,5,17,14,22,4,21,7,10,0,10,20,18,4,8,24,21,14,7,7,6,11,3,0,17,10,4,1,14,18,7,0,24,14,8,14,12,21,8,10,17,8,18,17,2,20,22,19,19,3,20,0,20,21,0,21,8,3,4,0,8,12,20,13,18,21,14,13,0,8,0,19,20,13,14,10,20,5,17,24,2,8,24,10,21,18,20,17,11,13,5,14,4,7,12,4,22,0,24,1,2,21,0,5,13,22,1,22,7,6,5,0,2,21,17,24,17,14,22,15,0,6,20,24,2,12,4,21,4,20,3,17,22,16,20,20,11,5,13,24,19,0,12,10,13,1,20,3,24,9,13,12,21,9,13,12,24,11,11,5,20,17,19,12,10,14,12,1,12,0,22,4,7,4,12,20,7,2,7,20,19,8,20,7,12,22,13,6,4,24,7,11,8,0,7,0,8,1,20,15,8,20,19,14,4,17,20,12,24,11,11,8,18,0,24,8,19,4,4,10,17,3,6,12,24,4,3,13,8,0,3,23,15,8,17,1,22,22,13,6,15,15,6,23,10,17,15,24,11,19,1,19,1,17,12,4,18,17,2,19,11,0,11,0,5,13,24,0,6,24,15,5,11,13,0,15,21,0,10,20,4,6,12,14,0,0,15,11,12,0,0,0,17,20,12,0,17,8,21,4,21,20,17,18,17,1,24,21,4,15,17,6,9,6,8,7,20,0,9,14,22,17,7,5,11,8,5,17,0,16,1,8,2,9,8,15,1,0,24,17,24,22,7,4,9,14,24,23,14,5,21,24,6,20,7,24,23,10,7,19,8,13,6,7,24,9,11,11,6,1,8,12,0,1,3,15,6,24,0,0,0,10,4,11,20,0,20,20,7,6,8,3,2,13,20,17,21,20,5,20,11,11,11,8,18,15,11,4,14,20,6,3,14,0,21,21,10,14,21,17,8,7,10,15,14,17,20,14,19,0,15,11,14,20,24,14,18,10,10,5,24,20,21,0,10,8,14,4,13,2,8,21,21,17,8,9,20,11,14,5,4,6,4,0,19,2,17,5,24,4,8,22,21,12,17,14,17,14,17,8,0,17,1,17,24,14,4,21,24,11,24,10,2,11,4,0,22,23,14,1,14,23,8,0,7,10,20,11,8,21,21,4,10,6,19,20,2,20,4,8,20,22,7,6,20,24,8,20,10,8,2,5,14,6,0,11,17,21,14,20,19,20,4,18,6,25,3,25,25,11,4,7,3,2,21,24,3,11,4,4,1,7,18,25,8,13,11,20,8,22,3,17,15,15,8,8,14,3,14,20,4,22,16,20,13,19,7,24,7,24,11,24,18,17,20,21,22,4,11,3,16,20,15,0,18,12,10,4,1,11,24,20,11,21,7,20,22,7,7,3,9,0,22,12,3,11,11,0,4,11,24,0,15,15,11,14,6,8,17,21,24,4,22,1,21,0,8,0,0,21,9,24,0,3,20,21,10,4,18,22,2,17,14,14,14,14,16,13,15,14,14,11,5,13,24,0,21,4,19,22,2,6,13,7,18,14,20,4,11,0,14,20,12,16,19,1,17,1,20,4,17,8,22,24,5,20,15,21,18,20,13,17,4,6,9,0,5,2,0,6,12,24,6,20,10,7,8,14,23,8,8,10,14,1,11,1,12,5,8,11,12,1,15,18,5,13,1,20,14,0,13,2,6,14,21,14,11,2,11,7,5,16,20,10,16,20,24,14,8,8,14,10,10,17,10,10,18,0,22,10,16,13,8,6,22,14,2,17,18,20,22,14,3,8,0,24,20,7,7,24,5,6,11,18,20,16,20,14,23,18,21,23,8,21,19,14,21,4,8,0,24,18,15,14,10,18,22,15,10,14,14,18,4,17,20,16,22,0,8,17,20,12,19,0,14,1,0,20,7,12,1,24,9,5,4,4,23,21,10,24,4,4,16,20,16,8,14,8,23,4,14,3,4,17,6,18,15,24,22,12,22,25,4,14,12,13,2,1,15,4,1,5,0,16,14,23,21,8,15,24,20,25,16,24,9,14,18,20,13,1,2,12,8,0,7,20,21,24,22,0,11,6,0,24,3,0,9,4,3,4,20,2,1,1,14,5,17,11,7,2,22,7,17,22,4,7,21,15,1,5,0,24,6,4,15,21,11,11,3,1,6,4,3,0,13,22,7,22,8,22,0,1,8,14,12,0,2,0,10,10,24,24,6,24,15,7,24,9,20,1,1,0,6,17,20,11,8,20,23,0,9,16,20,13,13,0,12,14,8,10,10,10,10,17,11,3,7,0,17,21,20,11,8,20,20,20,14,16,12,17,20,22,6,15,0,1,2,14,19,10,12,20,18,15,1,14,17,13,4,4,16,11,3,14,21,15,16,2,14,20,0,20,6,13,1,20,20,20,14,12,11,24,8,12,24,24],\"type\":\"scatter3d\"}],                        {\"template\":{\"data\":{\"histogram2dcontour\":[{\"type\":\"histogram2dcontour\",\"colorbar\":{\"outlinewidth\":0,\"ticks\":\"\"},\"colorscale\":[[0.0,\"#0d0887\"],[0.1111111111111111,\"#46039f\"],[0.2222222222222222,\"#7201a8\"],[0.3333333333333333,\"#9c179e\"],[0.4444444444444444,\"#bd3786\"],[0.5555555555555556,\"#d8576b\"],[0.6666666666666666,\"#ed7953\"],[0.7777777777777778,\"#fb9f3a\"],[0.8888888888888888,\"#fdca26\"],[1.0,\"#f0f921\"]]}],\"choropleth\":[{\"type\":\"choropleth\",\"colorbar\":{\"outlinewidth\":0,\"ticks\":\"\"}}],\"histogram2d\":[{\"type\":\"histogram2d\",\"colorbar\":{\"outlinewidth\":0,\"ticks\":\"\"},\"colorscale\":[[0.0,\"#0d0887\"],[0.1111111111111111,\"#46039f\"],[0.2222222222222222,\"#7201a8\"],[0.3333333333333333,\"#9c179e\"],[0.4444444444444444,\"#bd3786\"],[0.5555555555555556,\"#d8576b\"],[0.6666666666666666,\"#ed7953\"],[0.7777777777777778,\"#fb9f3a\"],[0.8888888888888888,\"#fdca26\"],[1.0,\"#f0f921\"]]}],\"heatmap\":[{\"type\":\"heatmap\",\"colorbar\":{\"outlinewidth\":0,\"ticks\":\"\"},\"colorscale\":[[0.0,\"#0d0887\"],[0.1111111111111111,\"#46039f\"],[0.2222222222222222,\"#7201a8\"],[0.3333333333333333,\"#9c179e\"],[0.4444444444444444,\"#bd3786\"],[0.5555555555555556,\"#d8576b\"],[0.6666666666666666,\"#ed7953\"],[0.7777777777777778,\"#fb9f3a\"],[0.8888888888888888,\"#fdca26\"],[1.0,\"#f0f921\"]]}],\"heatmapgl\":[{\"type\":\"heatmapgl\",\"colorbar\":{\"outlinewidth\":0,\"ticks\":\"\"},\"colorscale\":[[0.0,\"#0d0887\"],[0.1111111111111111,\"#46039f\"],[0.2222222222222222,\"#7201a8\"],[0.3333333333333333,\"#9c179e\"],[0.4444444444444444,\"#bd3786\"],[0.5555555555555556,\"#d8576b\"],[0.6666666666666666,\"#ed7953\"],[0.7777777777777778,\"#fb9f3a\"],[0.8888888888888888,\"#fdca26\"],[1.0,\"#f0f921\"]]}],\"contourcarpet\":[{\"type\":\"contourcarpet\",\"colorbar\":{\"outlinewidth\":0,\"ticks\":\"\"}}],\"contour\":[{\"type\":\"contour\",\"colorbar\":{\"outlinewidth\":0,\"ticks\":\"\"},\"colorscale\":[[0.0,\"#0d0887\"],[0.1111111111111111,\"#46039f\"],[0.2222222222222222,\"#7201a8\"],[0.3333333333333333,\"#9c179e\"],[0.4444444444444444,\"#bd3786\"],[0.5555555555555556,\"#d8576b\"],[0.6666666666666666,\"#ed7953\"],[0.7777777777777778,\"#fb9f3a\"],[0.8888888888888888,\"#fdca26\"],[1.0,\"#f0f921\"]]}],\"surface\":[{\"type\":\"surface\",\"colorbar\":{\"outlinewidth\":0,\"ticks\":\"\"},\"colorscale\":[[0.0,\"#0d0887\"],[0.1111111111111111,\"#46039f\"],[0.2222222222222222,\"#7201a8\"],[0.3333333333333333,\"#9c179e\"],[0.4444444444444444,\"#bd3786\"],[0.5555555555555556,\"#d8576b\"],[0.6666666666666666,\"#ed7953\"],[0.7777777777777778,\"#fb9f3a\"],[0.8888888888888888,\"#fdca26\"],[1.0,\"#f0f921\"]]}],\"mesh3d\":[{\"type\":\"mesh3d\",\"colorbar\":{\"outlinewidth\":0,\"ticks\":\"\"}}],\"scatter\":[{\"fillpattern\":{\"fillmode\":\"overlay\",\"size\":10,\"solidity\":0.2},\"type\":\"scatter\"}],\"parcoords\":[{\"type\":\"parcoords\",\"line\":{\"colorbar\":{\"outlinewidth\":0,\"ticks\":\"\"}}}],\"scatterpolargl\":[{\"type\":\"scatterpolargl\",\"marker\":{\"colorbar\":{\"outlinewidth\":0,\"ticks\":\"\"}}}],\"bar\":[{\"error_x\":{\"color\":\"#2a3f5f\"},\"error_y\":{\"color\":\"#2a3f5f\"},\"marker\":{\"line\":{\"color\":\"#E5ECF6\",\"width\":0.5},\"pattern\":{\"fillmode\":\"overlay\",\"size\":10,\"solidity\":0.2}},\"type\":\"bar\"}],\"scattergeo\":[{\"type\":\"scattergeo\",\"marker\":{\"colorbar\":{\"outlinewidth\":0,\"ticks\":\"\"}}}],\"scatterpolar\":[{\"type\":\"scatterpolar\",\"marker\":{\"colorbar\":{\"outlinewidth\":0,\"ticks\":\"\"}}}],\"histogram\":[{\"marker\":{\"pattern\":{\"fillmode\":\"overlay\",\"size\":10,\"solidity\":0.2}},\"type\":\"histogram\"}],\"scattergl\":[{\"type\":\"scattergl\",\"marker\":{\"colorbar\":{\"outlinewidth\":0,\"ticks\":\"\"}}}],\"scatter3d\":[{\"type\":\"scatter3d\",\"line\":{\"colorbar\":{\"outlinewidth\":0,\"ticks\":\"\"}},\"marker\":{\"colorbar\":{\"outlinewidth\":0,\"ticks\":\"\"}}}],\"scattermapbox\":[{\"type\":\"scattermapbox\",\"marker\":{\"colorbar\":{\"outlinewidth\":0,\"ticks\":\"\"}}}],\"scatterternary\":[{\"type\":\"scatterternary\",\"marker\":{\"colorbar\":{\"outlinewidth\":0,\"ticks\":\"\"}}}],\"scattercarpet\":[{\"type\":\"scattercarpet\",\"marker\":{\"colorbar\":{\"outlinewidth\":0,\"ticks\":\"\"}}}],\"carpet\":[{\"aaxis\":{\"endlinecolor\":\"#2a3f5f\",\"gridcolor\":\"white\",\"linecolor\":\"white\",\"minorgridcolor\":\"white\",\"startlinecolor\":\"#2a3f5f\"},\"baxis\":{\"endlinecolor\":\"#2a3f5f\",\"gridcolor\":\"white\",\"linecolor\":\"white\",\"minorgridcolor\":\"white\",\"startlinecolor\":\"#2a3f5f\"},\"type\":\"carpet\"}],\"table\":[{\"cells\":{\"fill\":{\"color\":\"#EBF0F8\"},\"line\":{\"color\":\"white\"}},\"header\":{\"fill\":{\"color\":\"#C8D4E3\"},\"line\":{\"color\":\"white\"}},\"type\":\"table\"}],\"barpolar\":[{\"marker\":{\"line\":{\"color\":\"#E5ECF6\",\"width\":0.5},\"pattern\":{\"fillmode\":\"overlay\",\"size\":10,\"solidity\":0.2}},\"type\":\"barpolar\"}],\"pie\":[{\"automargin\":true,\"type\":\"pie\"}]},\"layout\":{\"autotypenumbers\":\"strict\",\"colorway\":[\"#636efa\",\"#EF553B\",\"#00cc96\",\"#ab63fa\",\"#FFA15A\",\"#19d3f3\",\"#FF6692\",\"#B6E880\",\"#FF97FF\",\"#FECB52\"],\"font\":{\"color\":\"#2a3f5f\"},\"hovermode\":\"closest\",\"hoverlabel\":{\"align\":\"left\"},\"paper_bgcolor\":\"white\",\"plot_bgcolor\":\"#E5ECF6\",\"polar\":{\"bgcolor\":\"#E5ECF6\",\"angularaxis\":{\"gridcolor\":\"white\",\"linecolor\":\"white\",\"ticks\":\"\"},\"radialaxis\":{\"gridcolor\":\"white\",\"linecolor\":\"white\",\"ticks\":\"\"}},\"ternary\":{\"bgcolor\":\"#E5ECF6\",\"aaxis\":{\"gridcolor\":\"white\",\"linecolor\":\"white\",\"ticks\":\"\"},\"baxis\":{\"gridcolor\":\"white\",\"linecolor\":\"white\",\"ticks\":\"\"},\"caxis\":{\"gridcolor\":\"white\",\"linecolor\":\"white\",\"ticks\":\"\"}},\"coloraxis\":{\"colorbar\":{\"outlinewidth\":0,\"ticks\":\"\"}},\"colorscale\":{\"sequential\":[[0.0,\"#0d0887\"],[0.1111111111111111,\"#46039f\"],[0.2222222222222222,\"#7201a8\"],[0.3333333333333333,\"#9c179e\"],[0.4444444444444444,\"#bd3786\"],[0.5555555555555556,\"#d8576b\"],[0.6666666666666666,\"#ed7953\"],[0.7777777777777778,\"#fb9f3a\"],[0.8888888888888888,\"#fdca26\"],[1.0,\"#f0f921\"]],\"sequentialminus\":[[0.0,\"#0d0887\"],[0.1111111111111111,\"#46039f\"],[0.2222222222222222,\"#7201a8\"],[0.3333333333333333,\"#9c179e\"],[0.4444444444444444,\"#bd3786\"],[0.5555555555555556,\"#d8576b\"],[0.6666666666666666,\"#ed7953\"],[0.7777777777777778,\"#fb9f3a\"],[0.8888888888888888,\"#fdca26\"],[1.0,\"#f0f921\"]],\"diverging\":[[0,\"#8e0152\"],[0.1,\"#c51b7d\"],[0.2,\"#de77ae\"],[0.3,\"#f1b6da\"],[0.4,\"#fde0ef\"],[0.5,\"#f7f7f7\"],[0.6,\"#e6f5d0\"],[0.7,\"#b8e186\"],[0.8,\"#7fbc41\"],[0.9,\"#4d9221\"],[1,\"#276419\"]]},\"xaxis\":{\"gridcolor\":\"white\",\"linecolor\":\"white\",\"ticks\":\"\",\"title\":{\"standoff\":15},\"zerolinecolor\":\"white\",\"automargin\":true,\"zerolinewidth\":2},\"yaxis\":{\"gridcolor\":\"white\",\"linecolor\":\"white\",\"ticks\":\"\",\"title\":{\"standoff\":15},\"zerolinecolor\":\"white\",\"automargin\":true,\"zerolinewidth\":2},\"scene\":{\"xaxis\":{\"backgroundcolor\":\"#E5ECF6\",\"gridcolor\":\"white\",\"linecolor\":\"white\",\"showbackground\":true,\"ticks\":\"\",\"zerolinecolor\":\"white\",\"gridwidth\":2},\"yaxis\":{\"backgroundcolor\":\"#E5ECF6\",\"gridcolor\":\"white\",\"linecolor\":\"white\",\"showbackground\":true,\"ticks\":\"\",\"zerolinecolor\":\"white\",\"gridwidth\":2},\"zaxis\":{\"backgroundcolor\":\"#E5ECF6\",\"gridcolor\":\"white\",\"linecolor\":\"white\",\"showbackground\":true,\"ticks\":\"\",\"zerolinecolor\":\"white\",\"gridwidth\":2}},\"shapedefaults\":{\"line\":{\"color\":\"#2a3f5f\"}},\"annotationdefaults\":{\"arrowcolor\":\"#2a3f5f\",\"arrowhead\":0,\"arrowwidth\":1},\"geo\":{\"bgcolor\":\"white\",\"landcolor\":\"#E5ECF6\",\"subunitcolor\":\"white\",\"showland\":true,\"showlakes\":true,\"lakecolor\":\"white\"},\"title\":{\"x\":0.05},\"mapbox\":{\"style\":\"light\"}}},\"scene\":{\"domain\":{\"x\":[0.0,1.0],\"y\":[0.0,1.0]},\"xaxis\":{\"title\":{\"text\":\"First char\"}},\"yaxis\":{\"title\":{\"text\":\"Second char\"}},\"zaxis\":{\"title\":{\"text\":\"Third char\"}}},\"coloraxis\":{\"colorbar\":{\"title\":{\"text\":\"freq\"}},\"colorscale\":[[0.0,\"#0d0887\"],[0.1111111111111111,\"#46039f\"],[0.2222222222222222,\"#7201a8\"],[0.3333333333333333,\"#9c179e\"],[0.4444444444444444,\"#bd3786\"],[0.5555555555555556,\"#d8576b\"],[0.6666666666666666,\"#ed7953\"],[0.7777777777777778,\"#fb9f3a\"],[0.8888888888888888,\"#fdca26\"],[1.0,\"#f0f921\"]]},\"legend\":{\"tracegroupgap\":0,\"itemsizing\":\"constant\"},\"title\":{\"text\":\"Trigram 3D Scatter Plot\"}},                        {\"responsive\": true}                    ).then(function(){\n",
              "                            \n",
              "var gd = document.getElementById('5b6a844e-b9b1-4cf9-8d25-1d23141e2a15');\n",
              "var x = new MutationObserver(function (mutations, observer) {{\n",
              "        var display = window.getComputedStyle(gd).display;\n",
              "        if (!display || display === 'none') {{\n",
              "            console.log([gd, 'removed!']);\n",
              "            Plotly.purge(gd);\n",
              "            observer.disconnect();\n",
              "        }}\n",
              "}});\n",
              "\n",
              "// Listen for the removal of the full notebook cells\n",
              "var notebookContainer = gd.closest('#notebook-container');\n",
              "if (notebookContainer) {{\n",
              "    x.observe(notebookContainer, {childList: true});\n",
              "}}\n",
              "\n",
              "// Listen for the clearing of the current output cell\n",
              "var outputEl = gd.closest('.output');\n",
              "if (outputEl) {{\n",
              "    x.observe(outputEl, {childList: true});\n",
              "}}\n",
              "\n",
              "                        })                };                            </script>        </div>\n",
              "</body>\n",
              "</html>"
            ]
          },
          "metadata": {}
        }
      ]
    },
    {
      "cell_type": "markdown",
      "source": [
        "# Part 2: Features of an Image"
      ],
      "metadata": {
        "id": "eSFzzU92kW7c"
      }
    },
    {
      "cell_type": "markdown",
      "source": [
        "### Importing the Dataset"
      ],
      "metadata": {
        "id": "bpA83OBZa-6K"
      }
    },
    {
      "cell_type": "code",
      "source": [
        "from keras.datasets import mnist\n",
        "\n",
        "#loading the dataset\n",
        "(train_X, train_y), (test_X, test_y) = mnist.load_data()\n",
        "print(train_X)"
      ],
      "metadata": {
        "colab": {
          "base_uri": "https://localhost:8080/"
        },
        "collapsed": true,
        "id": "lSILZjOrbAXm",
        "outputId": "5c92b020-493e-420d-c46f-dc764a043029"
      },
      "execution_count": null,
      "outputs": [
        {
          "output_type": "stream",
          "name": "stdout",
          "text": [
            "[[[0 0 0 ... 0 0 0]\n",
            "  [0 0 0 ... 0 0 0]\n",
            "  [0 0 0 ... 0 0 0]\n",
            "  ...\n",
            "  [0 0 0 ... 0 0 0]\n",
            "  [0 0 0 ... 0 0 0]\n",
            "  [0 0 0 ... 0 0 0]]\n",
            "\n",
            " [[0 0 0 ... 0 0 0]\n",
            "  [0 0 0 ... 0 0 0]\n",
            "  [0 0 0 ... 0 0 0]\n",
            "  ...\n",
            "  [0 0 0 ... 0 0 0]\n",
            "  [0 0 0 ... 0 0 0]\n",
            "  [0 0 0 ... 0 0 0]]\n",
            "\n",
            " [[0 0 0 ... 0 0 0]\n",
            "  [0 0 0 ... 0 0 0]\n",
            "  [0 0 0 ... 0 0 0]\n",
            "  ...\n",
            "  [0 0 0 ... 0 0 0]\n",
            "  [0 0 0 ... 0 0 0]\n",
            "  [0 0 0 ... 0 0 0]]\n",
            "\n",
            " ...\n",
            "\n",
            " [[0 0 0 ... 0 0 0]\n",
            "  [0 0 0 ... 0 0 0]\n",
            "  [0 0 0 ... 0 0 0]\n",
            "  ...\n",
            "  [0 0 0 ... 0 0 0]\n",
            "  [0 0 0 ... 0 0 0]\n",
            "  [0 0 0 ... 0 0 0]]\n",
            "\n",
            " [[0 0 0 ... 0 0 0]\n",
            "  [0 0 0 ... 0 0 0]\n",
            "  [0 0 0 ... 0 0 0]\n",
            "  ...\n",
            "  [0 0 0 ... 0 0 0]\n",
            "  [0 0 0 ... 0 0 0]\n",
            "  [0 0 0 ... 0 0 0]]\n",
            "\n",
            " [[0 0 0 ... 0 0 0]\n",
            "  [0 0 0 ... 0 0 0]\n",
            "  [0 0 0 ... 0 0 0]\n",
            "  ...\n",
            "  [0 0 0 ... 0 0 0]\n",
            "  [0 0 0 ... 0 0 0]\n",
            "  [0 0 0 ... 0 0 0]]]\n"
          ]
        }
      ]
    },
    {
      "cell_type": "markdown",
      "source": [
        "### Viewing the dataset"
      ],
      "metadata": {
        "id": "SlpVNE1HfMnx"
      }
    },
    {
      "cell_type": "code",
      "source": [
        "no1 = train_X[train_y==1,:,:]\n",
        "no0 = train_X[train_y==0,:,:]\n",
        "\n",
        "# PS: seeing how the command works\n",
        "no2 = train_X[train_y==2,:,:]\n",
        "no3 = train_X[train_y==3,:,:]\n",
        "no4 = train_X[train_y==4,:,:]\n",
        "no5 = train_X[train_y==5,:,:]\n",
        "no6 = train_X[train_y==6,:,:]\n",
        "no7 = train_X[train_y==7,:,:]\n",
        "no8 = train_X[train_y==8,:,:]\n",
        "no9 = train_X[train_y==9,:,:]\n",
        "print(no1)\n",
        "print(no9)"
      ],
      "metadata": {
        "colab": {
          "base_uri": "https://localhost:8080/"
        },
        "collapsed": true,
        "id": "pE9L72jRbGc9",
        "outputId": "05b53182-34e9-4158-ac19-25ebb9b09329"
      },
      "execution_count": null,
      "outputs": [
        {
          "output_type": "stream",
          "name": "stdout",
          "text": [
            "[[[0 0 0 ... 0 0 0]\n",
            "  [0 0 0 ... 0 0 0]\n",
            "  [0 0 0 ... 0 0 0]\n",
            "  ...\n",
            "  [0 0 0 ... 0 0 0]\n",
            "  [0 0 0 ... 0 0 0]\n",
            "  [0 0 0 ... 0 0 0]]\n",
            "\n",
            " [[0 0 0 ... 0 0 0]\n",
            "  [0 0 0 ... 0 0 0]\n",
            "  [0 0 0 ... 0 0 0]\n",
            "  ...\n",
            "  [0 0 0 ... 0 0 0]\n",
            "  [0 0 0 ... 0 0 0]\n",
            "  [0 0 0 ... 0 0 0]]\n",
            "\n",
            " [[0 0 0 ... 0 0 0]\n",
            "  [0 0 0 ... 0 0 0]\n",
            "  [0 0 0 ... 0 0 0]\n",
            "  ...\n",
            "  [0 0 0 ... 0 0 0]\n",
            "  [0 0 0 ... 0 0 0]\n",
            "  [0 0 0 ... 0 0 0]]\n",
            "\n",
            " ...\n",
            "\n",
            " [[0 0 0 ... 0 0 0]\n",
            "  [0 0 0 ... 0 0 0]\n",
            "  [0 0 0 ... 0 0 0]\n",
            "  ...\n",
            "  [0 0 0 ... 0 0 0]\n",
            "  [0 0 0 ... 0 0 0]\n",
            "  [0 0 0 ... 0 0 0]]\n",
            "\n",
            " [[0 0 0 ... 0 0 0]\n",
            "  [0 0 0 ... 0 0 0]\n",
            "  [0 0 0 ... 0 0 0]\n",
            "  ...\n",
            "  [0 0 0 ... 0 0 0]\n",
            "  [0 0 0 ... 0 0 0]\n",
            "  [0 0 0 ... 0 0 0]]\n",
            "\n",
            " [[0 0 0 ... 0 0 0]\n",
            "  [0 0 0 ... 0 0 0]\n",
            "  [0 0 0 ... 0 0 0]\n",
            "  ...\n",
            "  [0 0 0 ... 0 0 0]\n",
            "  [0 0 0 ... 0 0 0]\n",
            "  [0 0 0 ... 0 0 0]]]\n",
            "[[[0 0 0 ... 0 0 0]\n",
            "  [0 0 0 ... 0 0 0]\n",
            "  [0 0 0 ... 0 0 0]\n",
            "  ...\n",
            "  [0 0 0 ... 0 0 0]\n",
            "  [0 0 0 ... 0 0 0]\n",
            "  [0 0 0 ... 0 0 0]]\n",
            "\n",
            " [[0 0 0 ... 0 0 0]\n",
            "  [0 0 0 ... 0 0 0]\n",
            "  [0 0 0 ... 0 0 0]\n",
            "  ...\n",
            "  [0 0 0 ... 0 0 0]\n",
            "  [0 0 0 ... 0 0 0]\n",
            "  [0 0 0 ... 0 0 0]]\n",
            "\n",
            " [[0 0 0 ... 0 0 0]\n",
            "  [0 0 0 ... 0 0 0]\n",
            "  [0 0 0 ... 0 0 0]\n",
            "  ...\n",
            "  [0 0 0 ... 0 0 0]\n",
            "  [0 0 0 ... 0 0 0]\n",
            "  [0 0 0 ... 0 0 0]]\n",
            "\n",
            " ...\n",
            "\n",
            " [[0 0 0 ... 0 0 0]\n",
            "  [0 0 0 ... 0 0 0]\n",
            "  [0 0 0 ... 0 0 0]\n",
            "  ...\n",
            "  [0 0 0 ... 0 0 0]\n",
            "  [0 0 0 ... 0 0 0]\n",
            "  [0 0 0 ... 0 0 0]]\n",
            "\n",
            " [[0 0 0 ... 0 0 0]\n",
            "  [0 0 0 ... 0 0 0]\n",
            "  [0 0 0 ... 0 0 0]\n",
            "  ...\n",
            "  [0 0 0 ... 0 0 0]\n",
            "  [0 0 0 ... 0 0 0]\n",
            "  [0 0 0 ... 0 0 0]]\n",
            "\n",
            " [[0 0 0 ... 0 0 0]\n",
            "  [0 0 0 ... 0 0 0]\n",
            "  [0 0 0 ... 0 0 0]\n",
            "  ...\n",
            "  [0 0 0 ... 0 0 0]\n",
            "  [0 0 0 ... 0 0 0]\n",
            "  [0 0 0 ... 0 0 0]]]\n"
          ]
        }
      ]
    },
    {
      "cell_type": "markdown",
      "source": [
        "## **Feature 1: Intensity of the brightness of the pixels.**\n",
        "\n",
        "This feature works well in differentiating the class of numbers 0 and 1"
      ],
      "metadata": {
        "id": "fQLbUXS6fgJs"
      }
    },
    {
      "cell_type": "markdown",
      "source": [
        " ### **Further Exploration: Question 3- Can you come up with your own features?**"
      ],
      "metadata": {
        "id": "YwpTNXAkfQjU"
      }
    },
    {
      "cell_type": "code",
      "source": [
        "SUM1 = np.sum(no1, (1 ,2))\n",
        "SUM0 = np.sum(no0, (1,2))\n",
        "\n",
        "plt.hist(SUM0, alpha=0.7)\n",
        "plt.hist(SUM1, alpha=0.7)"
      ],
      "metadata": {
        "id": "_Qd8aGA9kdNM",
        "colab": {
          "base_uri": "https://localhost:8080/",
          "height": 517
        },
        "outputId": "70837c69-b7c7-4a1a-ae48-9b5054add19d"
      },
      "execution_count": null,
      "outputs": [
        {
          "output_type": "execute_result",
          "data": {
            "text/plain": [
              "(array([2.840e+02, 1.879e+03, 2.380e+03, 1.430e+03, 5.260e+02, 1.810e+02,\n",
              "        4.700e+01, 1.100e+01, 3.000e+00, 1.000e+00]),\n",
              " array([ 5086. ,  8945.6, 12805.2, 16664.8, 20524.4, 24384. , 28243.6,\n",
              "        32103.2, 35962.8, 39822.4, 43682. ]),\n",
              " <BarContainer object of 10 artists>)"
            ]
          },
          "metadata": {},
          "execution_count": 40
        },
        {
          "output_type": "display_data",
          "data": {
            "text/plain": [
              "<Figure size 640x480 with 1 Axes>"
            ],
            "image/png": "[encoded data removed]"
          },
          "metadata": {}
        }
      ]
    },
    {
      "cell_type": "markdown",
      "source": [
        "### **Further Exploration: Question 4- Will these features work for different classes other than 0 and 1?**\n",
        "\n",
        "Plotting the summed intensities of the numbers on the histogram, it is clearly visible that this feature doesn't help us to differentiate between more numbers.\n",
        "\n"
      ],
      "metadata": {
        "id": "PBCx8hQUhWqe"
      }
    },
    {
      "cell_type": "markdown",
      "source": [
        "### **Further Exploration: Question 5- What will happen if we take more that two classes at a time?**\n",
        "\n",
        "Overlap between the distributions of summed intensities becomes more significant, and hence the feature is practically useless in multi-class classification"
      ],
      "metadata": {
        "id": "ZDv1I2Uki64e"
      }
    },
    {
      "cell_type": "code",
      "source": [
        "numbers = [no0, no1, no2, no3, no4, no5, no6, no7, no8, no9]\n",
        "labels = ['0','1', '2', '3', '4', '5', '6', '7', '8', '9']\n",
        "\n",
        "for arr, label in zip(numbers, labels):\n",
        "    summed = np.sum(arr, axis=(1, 2))\n",
        "    plt.hist(summed, alpha=0.6, label=label)\n",
        "\n",
        "plt.xlabel(\"Total Pixel Intensity\")\n",
        "plt.ylabel(\"Frequency\")\n",
        "plt.grid(True)\n",
        "plt.show()"
      ],
      "metadata": {
        "colab": {
          "base_uri": "https://localhost:8080/",
          "height": 449
        },
        "id": "68d0VKyQf-_E",
        "outputId": "93f2abe5-8f1f-473f-9e69-7da37f42a0e5"
      },
      "execution_count": null,
      "outputs": [
        {
          "output_type": "display_data",
          "data": {
            "text/plain": [
              "<Figure size 640x480 with 1 Axes>"
            ],
            "image/png": "[encoded data removed]"
          },
          "metadata": {}
        }
      ]
    },
    {
      "cell_type": "code",
      "source": [],
      "metadata": {
        "id": "50k_WYGKsCcz"
      },
      "execution_count": null,
      "outputs": []
    }
  ]
}